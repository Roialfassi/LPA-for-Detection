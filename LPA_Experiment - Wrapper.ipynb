{
 "cells": [
  {
   "cell_type": "code",
   "execution_count": 1,
   "id": "a9104e6a",
   "metadata": {},
   "outputs": [
    {
     "name": "stdout",
     "output_type": "stream",
     "text": [
      "Looking in indexes: https://pypi.org/simple, https://pypi.ngc.nvidia.com\n",
      "Requirement already satisfied: pandas>=1.5.0 in c:\\users\\roial\\appdata\\roaming\\python\\python38\\site-packages (from -r requirements.txt (line 1)) (1.5.3)\n",
      "Requirement already satisfied: numpy in c:\\users\\roial\\appdata\\roaming\\python\\python38\\site-packages (from -r requirements.txt (line 2)) (1.21.5)\n",
      "Requirement already satisfied: scipy in c:\\users\\roial\\appdata\\roaming\\python\\python38\\site-packages (from -r requirements.txt (line 3)) (1.7.3)\n",
      "Requirement already satisfied: matplotlib in c:\\users\\roial\\appdata\\roaming\\python\\python38\\site-packages (from -r requirements.txt (line 4)) (3.5.1)\n",
      "Requirement already satisfied: scikit-learn in c:\\users\\roial\\appdata\\roaming\\python\\python38\\site-packages (from -r requirements.txt (line 5)) (1.2.1)\n",
      "Requirement already satisfied: altair>=4.2.2 in c:\\users\\roial\\appdata\\roaming\\python\\python38\\site-packages (from -r requirements.txt (line 6)) (4.2.2)\n",
      "Requirement already satisfied: altair_saver in c:\\users\\roial\\appdata\\roaming\\python\\python38\\site-packages (from -r requirements.txt (line 7)) (0.5.0)\n",
      "Requirement already satisfied: bottleneck in c:\\users\\roial\\appdata\\roaming\\python\\python38\\site-packages (from -r requirements.txt (line 8)) (1.3.6)\n",
      "Requirement already satisfied: pytz>=2020.1 in c:\\users\\roial\\appdata\\roaming\\python\\python38\\site-packages (from pandas>=1.5.0->-r requirements.txt (line 1)) (2021.3)\n",
      "Requirement already satisfied: python-dateutil>=2.8.1 in c:\\users\\roial\\appdata\\roaming\\python\\python38\\site-packages (from pandas>=1.5.0->-r requirements.txt (line 1)) (2.8.2)\n",
      "Requirement already satisfied: cycler>=0.10 in c:\\users\\roial\\appdata\\roaming\\python\\python38\\site-packages (from matplotlib->-r requirements.txt (line 4)) (0.11.0)"
     ]
    },
    {
     "name": "stderr",
     "output_type": "stream",
     "text": [
      "WARNING: You are using pip version 19.2.3, however version 23.0.1 is available.\n",
      "You should consider upgrading via the 'python -m pip install --upgrade pip' command.\n"
     ]
    },
    {
     "name": "stdout",
     "output_type": "stream",
     "text": [
      "\n",
      "Requirement already satisfied: pillow>=6.2.0 in c:\\users\\roial\\appdata\\roaming\\python\\python38\\site-packages (from matplotlib->-r requirements.txt (line 4)) (8.4.0)\n",
      "Requirement already satisfied: packaging>=20.0 in c:\\users\\roial\\appdata\\roaming\\python\\python38\\site-packages (from matplotlib->-r requirements.txt (line 4)) (21.3)\n",
      "Requirement already satisfied: fonttools>=4.22.0 in c:\\users\\roial\\appdata\\roaming\\python\\python38\\site-packages (from matplotlib->-r requirements.txt (line 4)) (4.28.5)\n",
      "Requirement already satisfied: pyparsing>=2.2.1 in c:\\users\\roial\\appdata\\roaming\\python\\python38\\site-packages (from matplotlib->-r requirements.txt (line 4)) (3.0.6)\n",
      "Requirement already satisfied: kiwisolver>=1.0.1 in c:\\users\\roial\\appdata\\roaming\\python\\python38\\site-packages (from matplotlib->-r requirements.txt (line 4)) (1.3.2)\n",
      "Requirement already satisfied: joblib>=1.1.1 in c:\\users\\roial\\appdata\\roaming\\python\\python38\\site-packages (from scikit-learn->-r requirements.txt (line 5)) (1.2.0)\n",
      "Requirement already satisfied: threadpoolctl>=2.0.0 in c:\\users\\roial\\appdata\\roaming\\python\\python38\\site-packages (from scikit-learn->-r requirements.txt (line 5)) (3.1.0)\n",
      "Requirement already satisfied: entrypoints in c:\\users\\roial\\appdata\\roaming\\python\\python38\\site-packages (from altair>=4.2.2->-r requirements.txt (line 6)) (0.3)\n",
      "Requirement already satisfied: jinja2 in c:\\users\\roial\\appdata\\roaming\\python\\python38\\site-packages (from altair>=4.2.2->-r requirements.txt (line 6)) (3.0.3)\n",
      "Requirement already satisfied: jsonschema>=3.0 in c:\\program files\\python38\\lib\\site-packages (from altair>=4.2.2->-r requirements.txt (line 6)) (4.6.0)\n",
      "Requirement already satisfied: toolz in c:\\users\\roial\\appdata\\roaming\\python\\python38\\site-packages (from altair>=4.2.2->-r requirements.txt (line 6)) (0.12.0)\n",
      "Requirement already satisfied: altair-viewer in c:\\users\\roial\\appdata\\roaming\\python\\python38\\site-packages (from altair_saver->-r requirements.txt (line 7)) (0.4.0)\n",
      "Requirement already satisfied: selenium in c:\\users\\roial\\appdata\\roaming\\python\\python38\\site-packages (from altair_saver->-r requirements.txt (line 7)) (4.8.0)\n",
      "Requirement already satisfied: altair-data-server>=0.4.0 in c:\\users\\roial\\appdata\\roaming\\python\\python38\\site-packages (from altair_saver->-r requirements.txt (line 7)) (0.4.1)\n",
      "Requirement already satisfied: six>=1.5 in c:\\users\\roial\\appdata\\roaming\\python\\python38\\site-packages (from python-dateutil>=2.8.1->pandas>=1.5.0->-r requirements.txt (line 1)) (1.16.0)\n",
      "Requirement already satisfied: MarkupSafe>=2.0 in c:\\users\\roial\\appdata\\roaming\\python\\python38\\site-packages (from jinja2->altair>=4.2.2->-r requirements.txt (line 6)) (2.0.1)\n",
      "Requirement already satisfied: importlib-resources>=1.4.0; python_version < \"3.9\" in c:\\users\\roial\\appdata\\roaming\\python\\python38\\site-packages (from jsonschema>=3.0->altair>=4.2.2->-r requirements.txt (line 6)) (5.4.0)\n",
      "Requirement already satisfied: attrs>=17.4.0 in c:\\users\\roial\\appdata\\roaming\\python\\python38\\site-packages (from jsonschema>=3.0->altair>=4.2.2->-r requirements.txt (line 6)) (21.2.0)\n",
      "Requirement already satisfied: pyrsistent!=0.17.0,!=0.17.1,!=0.17.2,>=0.14.0 in c:\\users\\roial\\appdata\\roaming\\python\\python38\\site-packages (from jsonschema>=3.0->altair>=4.2.2->-r requirements.txt (line 6)) (0.18.0)\n",
      "Requirement already satisfied: trio-websocket~=0.9 in c:\\users\\roial\\appdata\\roaming\\python\\python38\\site-packages (from selenium->altair_saver->-r requirements.txt (line 7)) (0.9.2)\n",
      "Requirement already satisfied: trio~=0.17 in c:\\users\\roial\\appdata\\roaming\\python\\python38\\site-packages (from selenium->altair_saver->-r requirements.txt (line 7)) (0.22.0)\n",
      "Requirement already satisfied: certifi>=2021.10.8 in c:\\users\\roial\\appdata\\roaming\\python\\python38\\site-packages (from selenium->altair_saver->-r requirements.txt (line 7)) (2021.10.8)\n",
      "Requirement already satisfied: urllib3[socks]~=1.26 in c:\\users\\roial\\appdata\\roaming\\python\\python38\\site-packages (from selenium->altair_saver->-r requirements.txt (line 7)) (1.26.7)\n",
      "Requirement already satisfied: portpicker in c:\\users\\roial\\appdata\\roaming\\python\\python38\\site-packages (from altair-data-server>=0.4.0->altair_saver->-r requirements.txt (line 7)) (1.5.2)\n",
      "Requirement already satisfied: tornado in c:\\users\\roial\\appdata\\roaming\\python\\python38\\site-packages (from altair-data-server>=0.4.0->altair_saver->-r requirements.txt (line 7)) (6.1)\n",
      "Requirement already satisfied: zipp>=3.1.0; python_version < \"3.10\" in c:\\users\\roial\\appdata\\roaming\\python\\python38\\site-packages (from importlib-resources>=1.4.0; python_version < \"3.9\"->jsonschema>=3.0->altair>=4.2.2->-r requirements.txt (line 6)) (3.6.0)\n",
      "Requirement already satisfied: wsproto>=0.14 in c:\\users\\roial\\appdata\\roaming\\python\\python38\\site-packages (from trio-websocket~=0.9->selenium->altair_saver->-r requirements.txt (line 7)) (1.2.0)\n",
      "Requirement already satisfied: async-generator>=1.10 in c:\\users\\roial\\appdata\\roaming\\python\\python38\\site-packages (from trio-websocket~=0.9->selenium->altair_saver->-r requirements.txt (line 7)) (1.10)\n",
      "Requirement already satisfied: sniffio in c:\\users\\roial\\appdata\\roaming\\python\\python38\\site-packages (from trio~=0.17->selenium->altair_saver->-r requirements.txt (line 7)) (1.2.0)\n",
      "Requirement already satisfied: sortedcontainers in c:\\users\\roial\\appdata\\roaming\\python\\python38\\site-packages (from trio~=0.17->selenium->altair_saver->-r requirements.txt (line 7)) (2.4.0)\n",
      "Requirement already satisfied: outcome in c:\\users\\roial\\appdata\\roaming\\python\\python38\\site-packages (from trio~=0.17->selenium->altair_saver->-r requirements.txt (line 7)) (1.2.0)\n",
      "Requirement already satisfied: cffi>=1.14; os_name == \"nt\" and implementation_name != \"pypy\" in c:\\users\\roial\\appdata\\roaming\\python\\python38\\site-packages (from trio~=0.17->selenium->altair_saver->-r requirements.txt (line 7)) (1.15.0)\n",
      "Requirement already satisfied: idna in c:\\users\\roial\\appdata\\roaming\\python\\python38\\site-packages (from trio~=0.17->selenium->altair_saver->-r requirements.txt (line 7)) (3.3)\n",
      "Requirement already satisfied: exceptiongroup>=1.0.0rc9; python_version < \"3.11\" in c:\\users\\roial\\appdata\\roaming\\python\\python38\\site-packages (from trio~=0.17->selenium->altair_saver->-r requirements.txt (line 7)) (1.1.0)\n",
      "Requirement already satisfied: PySocks!=1.5.7,<2.0,>=1.5.6; extra == \"socks\" in c:\\users\\roial\\appdata\\roaming\\python\\python38\\site-packages (from urllib3[socks]~=1.26->selenium->altair_saver->-r requirements.txt (line 7)) (1.7.1)\n",
      "Requirement already satisfied: psutil in c:\\users\\roial\\appdata\\roaming\\python\\python38\\site-packages (from portpicker->altair-data-server>=0.4.0->altair_saver->-r requirements.txt (line 7)) (5.9.4)\n",
      "Requirement already satisfied: h11<1,>=0.9.0 in c:\\users\\roial\\appdata\\roaming\\python\\python38\\site-packages (from wsproto>=0.14->trio-websocket~=0.9->selenium->altair_saver->-r requirements.txt (line 7)) (0.14.0)\n",
      "Requirement already satisfied: pycparser in c:\\users\\roial\\appdata\\roaming\\python\\python38\\site-packages (from cffi>=1.14; os_name == \"nt\" and implementation_name != \"pypy\"->trio~=0.17->selenium->altair_saver->-r requirements.txt (line 7)) (2.21)\n"
     ]
    }
   ],
   "source": [
    "!pip install -r requirements.txt --user"
   ]
  },
  {
   "cell_type": "markdown",
   "id": "ce964129",
   "metadata": {},
   "source": [
    "## Imports"
   ]
  },
  {
   "cell_type": "code",
   "execution_count": 1,
   "id": "02afaa01",
   "metadata": {},
   "outputs": [],
   "source": [
    "import pandas as pd\n",
    "from LPA import Corpus, sockpuppet_distance , PCA\n",
    "import altair as alt\n",
    "alt.data_transformers.disable_max_rows()\n",
    "import os\n",
    "from typing import List\n",
    "from visualize import plot_pca\n",
    "import re\n",
    "from collections import Counter\n",
    "import pandas as pd\n",
    "import csv\n",
    "import numpy as np\n",
    "import matplotlib.pyplot as plt\n",
    "import plotly.express as px\n",
    "import seaborn as sns\n",
    "import zipfile\n",
    "from bs4 import BeautifulSoup\n",
    "import shutil\n",
    "import html2text\n",
    "import re\n",
    "import ast\n",
    "import scipy.stats as stats\n",
    "from sklearn.metrics import f1_score, precision_score, recall_score"
   ]
  },
  {
   "cell_type": "markdown",
   "id": "13b94002",
   "metadata": {},
   "source": [
    "# Global Variables "
   ]
  },
  {
   "cell_type": "code",
   "execution_count": null,
   "id": "90c2d4cd",
   "metadata": {},
   "outputs": [],
   "source": []
  },
  {
   "cell_type": "markdown",
   "id": "5fa08379",
   "metadata": {},
   "source": [
    "## Functions"
   ]
  },
  {
   "cell_type": "code",
   "execution_count": 2,
   "id": "c5966b85",
   "metadata": {},
   "outputs": [],
   "source": [
    "def read_array_of_dicts_file(file_path):\n",
    "    with open(file_path, \"r\") as file:\n",
    "        # Read the file contents as a string\n",
    "        file_contents = file.read().rstrip()\n",
    "        # Convert the string to a Python object (list of dictionaries)\n",
    "        array_of_dicts = ast.literal_eval(file_contents)\n",
    "    return array_of_dicts"
   ]
  },
  {
   "cell_type": "code",
   "execution_count": 3,
   "id": "e15e5cea",
   "metadata": {},
   "outputs": [],
   "source": [
    "def make_dirs(experimentpath):# Set up directories for the experiment\n",
    "    os.makedirs(experimentpath , exist_ok=True)\n",
    "    os.makedirs(experimentpath+\"/Images\" , exist_ok=True)\n",
    "    #Signatures Folders\n",
    "    os.makedirs(experimentpath+\"/Signatures\" , exist_ok=True)\n",
    "    os.makedirs(experimentpath+\"/Signatures/Divided_by_authors\" , exist_ok=True)\n",
    "    os.makedirs(experimentpath+\"/Signatures/UnDivided_authors\" , exist_ok=True)\n",
    "    os.makedirs(experimentpath+\"/Signatures/Prompts\" , exist_ok=True)\n",
    "    #Data Folders\n",
    "    os.makedirs(experimentpath+\"/Data\" , exist_ok=True)\n",
    "    os.makedirs(experimentpath+\"/Data/FanFictionTXT\" , exist_ok=True)\n",
    "    os.makedirs(experimentpath+\"/Data/FanFictionCSV\" , exist_ok=True)\n",
    "    os.makedirs(experimentpath+\"/Data/FanFictionNormalSizesCSV\" , exist_ok=True)\n",
    "    os.makedirs(experimentpath+\"/Data/Divided_by_authors\" , exist_ok=True)\n",
    "    os.makedirs(experimentpath+\"/Data/authors_with_2Stories_OrLess\" , exist_ok=True)\n",
    "    os.makedirs(experimentpath+\"/Data/2Stories_OrLess_Undivided\" , exist_ok=True)\n",
    "    os.makedirs(experimentpath+\"/Data/Prompts\" , exist_ok=True)\n",
    "    #Results Folders\n",
    "    os.makedirs(experimentpath+\"/Results\" , exist_ok=True)\n",
    "    os.makedirs(experimentpath+\"/Results/Author_Results\" , exist_ok=True)\n",
    "    os.makedirs(experimentpath+\"/Results/Prompts\" , exist_ok=True)\n",
    "    os.makedirs(experimentpath+\"/Results/Distances\" , exist_ok=True)"
   ]
  },
  {
   "cell_type": "code",
   "execution_count": 4,
   "id": "11dd27f8",
   "metadata": {},
   "outputs": [],
   "source": [
    "# write each dictionary as a row in the CSV file\n",
    "def prompts_to_csv(my_list_of_dicts , out_path):\n",
    "    for my_dict in my_list_of_dicts:\n",
    "        if len(my_dict[\"prompt\"]) > 90:\n",
    "            my_dict[\"prompt\"] =   my_dict[\"prompt\"][:90]+\".csv\"\n",
    "        with open(out_path+my_dict[\"prompt\"]+\".csv\", \"w\", newline=\"\", encoding=\"utf8\") as output_file:\n",
    "                # write the story info to a csv file\n",
    "                writer = csv.DictWriter(output_file, fieldnames=[\"id\", \"prompt\", \"FullStory\"])\n",
    "                writer.writeheader()\n",
    "                writer.writerow(my_dict)\n"
   ]
  },
  {
   "cell_type": "code",
   "execution_count": 5,
   "id": "332f37e8",
   "metadata": {},
   "outputs": [],
   "source": [
    "def run_LPA_Undivided(experimentpath):\n",
    "    res_folder = experimentpath+\"/Results/FanFiction\"\n",
    "    author_name = folder_path.rsplit(type1, 1)[-1]\n",
    "    if not os.path.exists(res_folder):\n",
    "        os.makedirs(res_folder)\n",
    "    # Run LPA and DVR    \n",
    "    freq = read_csv_folder(folder_path + \"/word_freq\")\n",
    "    freq.rename(columns={'origin_index': 'document', 'word': 'element' , 'frequency': 'frequency_in_document'}, inplace=True)\n",
    "    corpus = Corpus(freq=freq)\n",
    "    dvr = corpus.create_dvr()\n",
    "    #Export to csv\n",
    "    dvr.to_csv(experimentpath +\"/\"+author_name+\"-dvr.csv\",mode='w',header=True, index=True)\n",
    "    epsilon_frac = 2\n",
    "    epsilon = 1 / (len(dvr) * epsilon_frac)\n",
    "    epsilon\n",
    "    signatures = corpus.create_signatures(epsilon=epsilon, sig_length=500, distance=\"KLDe\")\n",
    "    ## Export signitures\n",
    "    if not os.path.exists(experimentpath + \"/Signatures\"):\n",
    "        os.makedirs(experimentpath + \"/Signatures/\")\n",
    "    write_dataframes_to_csv(signatures , outputFolder = res_folder + \"/Signatures/\" )\n",
    "    \n",
    "    "
   ]
  },
  {
   "cell_type": "code",
   "execution_count": 14,
   "id": "a2e0fe2f",
   "metadata": {},
   "outputs": [],
   "source": [
    "def run_LPA_for_each_author(experimentpath):\n",
    "    nonprompts = experimentpath+\"/Data/authors_with_2Stories_OrLess\"\n",
    "    for folder_name in os.listdir(nonprompts):\n",
    "        folder_path = os.path.join(nonprompts, folder_name)\n",
    "        LPA_Wrapper_Author(folder_path , experimentpath)"
   ]
  },
  {
   "cell_type": "code",
   "execution_count": 15,
   "id": "bbdf19f8",
   "metadata": {},
   "outputs": [],
   "source": [
    "def LPA_Wrapper_Author(folder_path , experimentpath):\n",
    "    # Set Up The Folder\n",
    "    res_folder = folder_path + \"/LPA_Results\"\n",
    "    author_name = folder_path.rsplit(type1, 1)[-1]\n",
    "    res_folder = experimentpath+\"/Results/Author_Results/\"+author_name\n",
    "    if not os.path.exists(res_folder):\n",
    "        os.makedirs(res_folder)\n",
    "    # Run LPA and DVR    \n",
    "    freq = read_csv_folder(folder_path + \"/word_freq\")\n",
    "    freq.rename(columns={'origin_index': 'document', 'word': 'element' , 'frequency': 'frequency_in_document'}, inplace=True)\n",
    "    corpus = Corpus(freq=freq)\n",
    "    dvr = corpus.create_dvr()\n",
    "    #Export to csv\n",
    "    dvr.to_csv(res_folder +\"/\"+author_name+\"-dvr.csv\",mode='w',header=True, index=True)\n",
    "    epsilon_frac = 2\n",
    "    epsilon = 1 / (len(dvr) * epsilon_frac)\n",
    "    epsilon\n",
    "    signatures = corpus.create_signatures(epsilon=epsilon, sig_length=500, distance=\"KLDe\")\n",
    "    ## Export signitures\n",
    "    if not os.path.exists(experimentpath + \"/Signatures/Author_Results/\"+author_name):\n",
    "        os.makedirs(experimentpath + \"/Signatures/Author_Results/\"+author_name)\n",
    "    write_dataframes_to_csv(signatures , outputFolder = experimentpath + \"/Signatures/Author_Results/\"+author_name )"
   ]
  },
  {
   "cell_type": "code",
   "execution_count": 16,
   "id": "ab28818d",
   "metadata": {},
   "outputs": [],
   "source": [
    "def wordfreqAll(experimentpath):\n",
    "    nonprompts = experimentpath+\"/Data/authors_with_2Stories_OrLess\"\n",
    "    nonprompts_undivided = experimentpath+\"/Data/2Stories_OrLess_Undivided\"\n",
    "    for folder_name in os.listdir(nonprompts):\n",
    "        folder_path = os.path.join(nonprompts, folder_name)\n",
    "        word_freq_full_folder(folder_path)\n",
    "    word_freq_full_folder(folder_path = nonprompts_undivided)\n"
   ]
  },
  {
   "cell_type": "code",
   "execution_count": 17,
   "id": "61fa6595",
   "metadata": {},
   "outputs": [],
   "source": [
    "def preprocess_Data(experimentpath , min_length , max_length):\n",
    "    txt_to_csv(folder_path=experimentpath+\"/Data/FanFictionTXT\" , out_path = experimentpath+\"/Data/FanFictionCSV\")\n",
    "    move_only_normal_sizes(experimentpath+\"/Data/FanFictionCSV\",\n",
    "                           experimentpath+\"/Data/FanFictionNormalSizesCSV\" , min_length=min_length-50 , max_length = max_length+50)\n",
    "    copy_csv_to_folders(experimentpath+\"/Data/FanFictionNormalSizesCSV\" ,experimentpath+\"/Data/Divided_by_authors\")\n",
    "    copy_folders_with_up_to_files(experimentpath+\"/Data/Divided_by_authors\",\n",
    "                                     experimentpath+\"/Data/authors_with_2Stories_OrLess\")\n",
    "    copy_all_files(experimentpath+\"/Data/authors_with_2Stories_OrLess\", experimentpath+\"/Data/2Stories_OrLess_Undivided\")"
   ]
  },
  {
   "cell_type": "code",
   "execution_count": 18,
   "id": "5c15662e",
   "metadata": {},
   "outputs": [],
   "source": [
    "def unzipfromDataset(key_word , experimentpath, dataset_folder = \"Dataset/\" ):\n",
    "    for file_name in os.listdir(dataset_folder):\n",
    "        if file_name.endswith(\".zip\"):\n",
    "            unzipFile(os.path.join(dataset_folder, file_name) , key_word , experimentpath+\"/Data/FanFictionTXT\")\n",
    "            "
   ]
  },
  {
   "cell_type": "markdown",
   "id": "6831092d",
   "metadata": {},
   "source": [
    "## Directory Functions"
   ]
  },
  {
   "cell_type": "code",
   "execution_count": 19,
   "id": "0f17595e",
   "metadata": {},
   "outputs": [],
   "source": [
    "def unzipFile(zip_path , keyword , dest):\n",
    "    # create a directory for the harry potter files\n",
    "#     os.makedirs(keyword, exist_ok=True)\n",
    "    with zipfile.ZipFile(zip_path, \"r\") as zip_file:\n",
    "    # loop over all files in the zip file\n",
    "        for member in zip_file.namelist():\n",
    "            filename = os.path.basename(member)\n",
    "            # skip directories\n",
    "            if not filename:\n",
    "                continue\n",
    "            # check if the file name contains \"harry potter\" (case-insensitive)\n",
    "            if keyword in member.lower():\n",
    "                source = zip_file.open(member)\n",
    "                target = open(os.path.join(dest, filename), \"wb\")\n",
    "                with source, target:\n",
    "                    shutil.copyfileobj(source, target)\n",
    "                # extract the file to the harry potter directory\n",
    "#                 zip_file.extract(file_name, dest)\n",
    "                \n",
    "def remove_extra_white_space(source):\n",
    "    \"\"\"\n",
    "    removes extra white spaces (more than 1 in a row).\n",
    "    @param source:The original text\n",
    "    @type source:str\n",
    "    @return:A string without extra whitespaces\n",
    "    @rtype:str\n",
    "    \"\"\"\n",
    "    return re.sub(' +', ' ', source).strip()\n",
    "\n",
    "\n",
    "def clean_with_html2text(handler, raw_html):\n",
    "    \"\"\"\n",
    "    Use HTML2Text to clean data\n",
    "    @param handler: preference of the way of cleaning\n",
    "    @type handler:HTML2Text\n",
    "    @param raw_html:A string of html code\n",
    "    @type raw_html:str\n",
    "    @return:clean document\n",
    "    @rtype:str\n",
    "    \"\"\"\n",
    "    return handler.handle(raw_html)\n",
    "\n",
    "\n",
    "def create_handler(ignore_links=True, ignore_images=True, ignore_emphasis=True, skip_internal_links=True,\n",
    "                   ignore_anchors=False):\n",
    "    \"\"\"\n",
    "    Create a Handler for HTML2Text\n",
    "    @param ignore_links:\n",
    "    @type ignore_links:\n",
    "    @param ignore_images:\n",
    "    @type ignore_images:\n",
    "    @param ignore_emphasis:\n",
    "    @type ignore_emphasis:\n",
    "    @param skip_internal_links:\n",
    "    @type skip_internal_links:\n",
    "    @param ignore_anchors:\n",
    "    @type ignore_anchors:\n",
    "    @return:\n",
    "    @rtype:\n",
    "    \"\"\"\n",
    "    handler = html2text.HTML2Text()\n",
    "    handler.ignore_links = ignore_links\n",
    "    handler.ignore_images = ignore_images\n",
    "    handler.ignore_emphasis = ignore_emphasis\n",
    "    handler.skip_internal_links = skip_internal_links\n",
    "    handler.ignore_anchors = ignore_anchors\n",
    "    return handler\n",
    "\n",
    "def clean_html_beautiful_soup(raw_html):\n",
    "    \"\"\"\n",
    "    Clean HTML using BeautifulSoup # returns String\n",
    "    @param raw_html:\n",
    "    @type raw_html:\n",
    "    @return:only displayed text from html code\n",
    "    @rtype:str\n",
    "    \"\"\"\n",
    "    gfg = BeautifulSoup(raw_html)\n",
    "    res = gfg.get_text()\n",
    "    return res                \n",
    "\n",
    "\n",
    "def txt_to_csv(folder_path=\"harry potter\\H\" , out_path = \"harry potter\\csv\"):\n",
    "    meta_keys = [\"Category:\", \"Genre:\", \"Language:\", \"Status:\", \"Published:\", \"Updated:\", \"Packaged:\", \"Rating:\", \"Chapters:\", \n",
    "                 \"Words:\",\"Publisher:\", \"Story URL:\", \"Author URL:\", \"Summary:\"]\n",
    "    for file_name in os.listdir(folder_path):\n",
    "        if file_name.endswith(\".txt\"):\n",
    "            # set the input and output file paths\n",
    "            input_file_path = os.path.join(folder_path, file_name)\n",
    "            output_file_path = os.path.join(out_path, file_name.replace(\".txt\", \".csv\"))\n",
    "\n",
    "            # open the input and output files\n",
    "            with open(input_file_path, \"r\" , encoding=\"utf8\") as input_file , open(output_file_path, \"w\", newline=\"\", encoding=\"utf8\") as output_file:\n",
    "                story_info = {}\n",
    "                fullstory = \"\"\n",
    "                for idx , line in enumerate(input_file.readlines()):\n",
    "                    if  line.strip() == \"End file.\":\n",
    "                        continue\n",
    "                    if line.strip():\n",
    "#                         print (idx , line)\n",
    "                        if any (s in line for s in meta_keys):\n",
    "                            key, value = line.split(\":\", 1)\n",
    "                            if key not  in story_info:\n",
    "                                story_info[key.strip()] = value.strip()\n",
    "                        else:\n",
    "                            fullstory = fullstory + \" \"+ line\n",
    "                \n",
    "                story_info[\"FullStory\"] =  clean_html_beautiful_soup(remove_extra_white_space(fullstory))\n",
    "                # write the story info to a csv file\n",
    "                writer = csv.DictWriter(output_file, fieldnames=story_info.keys())\n",
    "                writer.writeheader()\n",
    "                writer.writerow(story_info)\n",
    "                \n",
    "\n",
    "def move_only_normal_sizes(input_folder, output_folder , max_length=600 , min_length=100 , field =\"FullStory\"):\n",
    "    for file_name in os.listdir(input_folder):\n",
    "        if file_name.endswith(\".csv\"):\n",
    "            input_file_path = os.path.join(input_folder, file_name)\n",
    "            output_file_path = os.path.join(output_folder, file_name)\n",
    "            df = pd.read_csv(input_file_path , low_memory = False)\n",
    "            if len(df.loc[0, field].split()) >= min_length and  len(df.loc[0, field].split()) <= max_length:\n",
    "                df[field] = df[field].str.rstrip('End file.').str.strip() \n",
    "                df.to_csv(output_file_path,mode='w',header=True, index=True)\n",
    "\n",
    "                \n",
    "def copy_folders_with_multiple_files(source_folder, dest_folder , min_num_of_files= 2):\n",
    "    \"\"\"\n",
    "    Copies subfolders from a source folder to a destination folder only if the subfolder\n",
    "    contains more than one file.\n",
    "    \n",
    "    Args:\n",
    "    - source_folder (str): Path to the source folder.\n",
    "    - dest_folder (str): Path to the destination folder.\n",
    "    \"\"\"\n",
    "    \n",
    "    # Create the destination folder if it doesn't exist\n",
    "    if not os.path.exists(dest_folder):\n",
    "        os.makedirs(dest_folder)\n",
    "    \n",
    "    # Iterate over all subfolders in the source folder\n",
    "    for folder_name in os.listdir(source_folder):\n",
    "        folder_path = os.path.join(source_folder, folder_name)\n",
    "        # Check if the current item is a directory\n",
    "        if os.path.isdir(folder_path):\n",
    "            # Check if the current directory contains more than one file\n",
    "            if len(os.listdir(folder_path)) >= min_num_of_files:\n",
    "                # Copy the entire directory to the destination folder\n",
    "                shutil.copytree(folder_path, os.path.join(dest_folder, folder_name))                \n",
    "\n",
    "def copy_folders_with_up_to_files(source_folder, dest_folder , max_num_of_files= 2):\n",
    "    \"\"\"\n",
    "    Copies subfolders from a source folder to a destination folder only if the subfolder\n",
    "    contains more than one file.\n",
    "    \n",
    "    Args:\n",
    "    - source_folder (str): Path to the source folder.\n",
    "    - dest_folder (str): Path to the destination folder.\n",
    "    \"\"\"\n",
    "    \n",
    "    # Create the destination folder if it doesn't exist\n",
    "    if not os.path.exists(dest_folder):\n",
    "        os.makedirs(dest_folder)\n",
    "    \n",
    "    # Iterate over all subfolders in the source folder\n",
    "    for folder_name in os.listdir(source_folder):\n",
    "        folder_path = os.path.join(source_folder, folder_name)\n",
    "        # Check if the current item is a directory\n",
    "        if os.path.isdir(folder_path):\n",
    "            # Check if the current directory contains more than one file\n",
    "            if len(os.listdir(folder_path)) <= max_num_of_files:\n",
    "                # Copy the entire directory to the destination folder\n",
    "                if os.path.exists(os.path.join(dest_folder, folder_name)):\n",
    "                    shutil.rmtree(os.path.join(dest_folder, folder_name))\n",
    "                shutil.copytree(folder_path, os.path.join(dest_folder, folder_name))   \n",
    "\n",
    "def copy_all_files(source_folder, destination_folder):\n",
    "    \"\"\"\n",
    "    Recursively copies all files from the source folder and its subfolders to the destination folder.\n",
    "    \n",
    "    Args:\n",
    "    - source_folder (str): The path to the source folder.\n",
    "    - destination_folder (str): The path to the destination folder.\n",
    "    \"\"\"\n",
    "#     os.makedirs(destination_folder, exist_ok=True)\n",
    "    # Iterate over all files and folders in the source folder\n",
    "    for entry in os.listdir(source_folder):\n",
    "        # Construct the full path of the current entry\n",
    "        full_path = os.path.join(source_folder, entry)\n",
    "        \n",
    "        # If the current entry is a file, copy it to the destination folder\n",
    "        if os.path.isfile(full_path):\n",
    "            shutil.copy(full_path, destination_folder)\n",
    "        # If the current entry is a folder, recursively call the function on the folder\n",
    "        elif os.path.isdir(full_path):\n",
    "            copy_all_files(full_path, destination_folder)         \n",
    "            \n",
    "def copy_csv_to_folders(source_folder, dest_folder , field = 'Author URL'):\n",
    "    \"\"\"\n",
    "    Copies all CSV files from a source folder to a new folder, where subfolders are created\n",
    "    based on the value of the \"Author URL\" column in each CSV file.\n",
    "    \n",
    "    Args:\n",
    "    - source_folder (str): Path to the folder containing CSV files to be copied.\n",
    "    - dest_folder (str): Path to the destination folder where the copied CSV files and\n",
    "      subfolders will be saved.\n",
    "    \"\"\"\n",
    "    \n",
    "    # Create the destination folder if it doesn't exist\n",
    "    if not os.path.exists(dest_folder):\n",
    "        os.makedirs(dest_folder)\n",
    "    \n",
    "    # Iterate over all files in the source folder\n",
    "    for file_name in os.listdir(source_folder):\n",
    "        # Check if the file is a CSV file\n",
    "        if file_name.endswith('.csv'):\n",
    "            # Load the CSV file into a pandas DataFrame\n",
    "            df = pd.read_csv(os.path.join(source_folder, file_name))\n",
    "            # Iterate over unique values in the 'Author URL' column\n",
    "            for author_url in df[field].unique():\n",
    "                # Create a subfolder for the current author URL, if it doesn't exist\n",
    "                author_folder = os.path.join(dest_folder, author_url.rsplit('/', 1)[-1])\n",
    "                if not os.path.exists(author_folder):\n",
    "                    os.makedirs(author_folder)\n",
    "                # Copy the CSV file to the author folder\n",
    "                shutil.copy(os.path.join(source_folder, file_name), os.path.join(author_folder, file_name))"
   ]
  },
  {
   "cell_type": "markdown",
   "id": "2e6128b5",
   "metadata": {},
   "source": [
    "## Make Word Freq From "
   ]
  },
  {
   "cell_type": "code",
   "execution_count": 20,
   "id": "0322c8d2",
   "metadata": {},
   "outputs": [],
   "source": [
    "def word_count(data, field):\n",
    "    # Split the text data in the column into a list of words\n",
    "    words = [word for sentence in data[field] for word in re.findall(r'\\w+', sentence)]\n",
    "\n",
    "    # Count the frequency of each word\n",
    "    word_counts = Counter(words)\n",
    "\n",
    "    # Convert the word counts into a DataFrame\n",
    "    word_counts_df = pd.DataFrame.from_dict(word_counts, orient='index', columns=['frequency_in_document'])\n",
    "\n",
    "    # Sort the DataFrame by frequency in descending order\n",
    "    word_counts_df.sort_values(by='frequency_in_document', ascending=False, inplace=True)\n",
    "    return word_counts_df\n",
    "\n",
    "def word_freq_full_folder(folder_path=\"harry potter/csv\"  , field = \"FullStory\"):\n",
    "    for file_name in os.listdir(folder_path):\n",
    "        if file_name.endswith(\".csv\"):\n",
    "            # set the input and output file paths\n",
    "            input_file_path = os.path.join(folder_path, file_name)\n",
    "            dest_folder = folder_path +\"/word_freq\"\n",
    "            if not os.path.exists(dest_folder):\n",
    "                os.makedirs(dest_folder)\n",
    "            if len(file_name) > 90:\n",
    "                file_name = file_name[:90]+\".csv\"\n",
    "            output_file_path = os.path.join(dest_folder , file_name.replace(\".csv\", \"-word-frequency.csv\"))\n",
    "            df = pd.read_csv(input_file_path ,low_memory = False)\n",
    "            df = word_count(df,field)\n",
    "            df.index.name = 'element'\n",
    "            df[\"document\"] = file_name\n",
    "            df.to_csv(output_file_path,mode='w',header=True, index=True)\n",
    "            \n",
    "            \n",
    "def write_dataframes_to_csv(dataframes: List[pd.DataFrame] , outputFolder=\"LPAresults/signitures/\"):\n",
    "    for df in dataframes:\n",
    "        filename = df.name + '-Signature.csv'\n",
    "        df.to_csv(outputFolder+ filename, index=False)\n",
    "            "
   ]
  },
  {
   "cell_type": "markdown",
   "id": "3ef13f55",
   "metadata": {},
   "source": [
    "## Read CSV as Folder"
   ]
  },
  {
   "cell_type": "code",
   "execution_count": 21,
   "id": "7a494050",
   "metadata": {},
   "outputs": [],
   "source": [
    "def read_csv_folder(folder_path):\n",
    "    \"\"\"\n",
    "    Reads a folder of CSV files into a single Pandas DataFrame.\n",
    "\n",
    "    Parameters:\n",
    "    -----------\n",
    "    folder_path : str\n",
    "        The path to the folder containing the CSV files.\n",
    "\n",
    "    Returns:\n",
    "    --------\n",
    "    df : pd.DataFrame\n",
    "        A DataFrame containing the data from all the CSV files.\n",
    "    \"\"\"\n",
    "    # Get a list of all the files in the directory\n",
    "    file_list = os.listdir(folder_path)\n",
    "\n",
    "    # Initialize an empty list to store the DataFrames\n",
    "    dfs = []\n",
    "\n",
    "    # Loop through each file in the directory\n",
    "    for file_name in file_list:\n",
    "        # Check if the file is a CSV file\n",
    "        if file_name.endswith('.csv'):\n",
    "            # Read the file into a DataFrame and append it to the list\n",
    "            file_path = os.path.join(folder_path, file_name)\n",
    "            df = pd.read_csv(file_path)\n",
    "            dfs.append(df)\n",
    "\n",
    "    # Concatenate all the DataFrames into a single DataFrame\n",
    "    df = pd.concat(dfs, ignore_index=True)\n",
    "\n",
    "    return df\n",
    "\n",
    "        "
   ]
  },
  {
   "cell_type": "code",
   "execution_count": 22,
   "id": "d08c116d",
   "metadata": {},
   "outputs": [],
   "source": [
    "def LPA_Wrapper(folder_path , type1 = \"\\\\\"):\n",
    "    # Set Up The Folder\n",
    "    res_folder = folder_path + \"/LPA_Results\"\n",
    "    author_name = folder_path.rsplit(type1, 1)[-1]\n",
    "    if not os.path.exists(res_folder):\n",
    "        os.makedirs(res_folder)\n",
    "    print(author_name)\n",
    "    # Run LPA and DVR    \n",
    "    freq = read_csv_folder(folder_path + \"/word_freq\")\n",
    "    freq.rename(columns={'origin_index': 'document', 'word': 'element' , 'frequency': 'frequency_in_document'}, inplace=True)\n",
    "    corpus = Corpus(freq=freq)\n",
    "    dvr = corpus.create_dvr()\n",
    "    #Export to csv\n",
    "    dvr.to_csv(res_folder +\"/\"+author_name+\"-dvr.csv\",mode='w',header=True, index=True)\n",
    "    epsilon_frac = 2\n",
    "    epsilon = 1 / (len(dvr) * epsilon_frac)\n",
    "    epsilon\n",
    "    signatures = corpus.create_signatures(epsilon=epsilon, sig_length=500, distance=\"KLDe\")\n",
    "    ## Export signitures\n",
    "    if not os.path.exists(res_folder + \"/Signatures\"):\n",
    "        os.makedirs(res_folder + \"/Signatures\")\n",
    "    write_dataframes_to_csv(signatures , outputFolder = res_folder + \"/Signatures/\" )\n",
    "    return corpus"
   ]
  },
  {
   "cell_type": "markdown",
   "id": "e41db4db",
   "metadata": {},
   "source": [
    "## Readme Functions"
   ]
  },
  {
   "cell_type": "code",
   "execution_count": 23,
   "id": "0245ac0a",
   "metadata": {},
   "outputs": [],
   "source": [
    "def create_readme(keyword, experimentpath):\n",
    "    with open(experimentpath+'/README.md', 'w') as f:\n",
    "        f.write('# LPA experiment in ' + keyword + '\\n\\n')\n",
    "        f.write('This repository contains code and data for the LPA experiment in ' + keyword + '.\\n\\n')\n",
    "        \n",
    "def append_to_readme(string, readme_path):\n",
    "    with open(readme_path, 'a') as f:\n",
    "        f.write(string)\n"
   ]
  },
  {
   "cell_type": "markdown",
   "id": "b461f946",
   "metadata": {},
   "source": [
    "## Distances"
   ]
  },
  {
   "cell_type": "code",
   "execution_count": 24,
   "id": "96072573",
   "metadata": {},
   "outputs": [],
   "source": [
    "def calculate_distances(dvr_path, folder, outpath):\n",
    "    \"\"\"\n",
    "    Calculates the Euclidean distances between a reference vector (the global_weight column of df)\n",
    "    and all other vectors in a folder containing dataframes representing vectors.\n",
    "    \n",
    "    Args:\n",
    "    - df (pd.DataFrame): A pandas DataFrame containing a column named 'global_weight' that will\n",
    "    be used as the reference vector.\n",
    "    - folder (str): Path to the folder containing CSV files representing other vectors.\n",
    "    \n",
    "    Returns:\n",
    "    - A pandas DataFrame containing the distances between the reference vector and all other vectors.\n",
    "    \"\"\"\n",
    "    df = pd.read_csv(dvr_path, low_memory = False)\n",
    "    # Create an empty list to hold the distances\n",
    "    distances = []\n",
    "    \n",
    "    # Get the global_weight vector from the input dataframe (df)\n",
    "    dvr = df['global_weight']\n",
    "       # Iterate over all CSV files in the folder\n",
    "    for file_name in os.listdir(folder):\n",
    "        # Check if the file is a CSV file\n",
    "        if file_name.endswith('.csv'):\n",
    "            # Load the CSV file into a pandas DataFrame\n",
    "            df = pd.read_csv(os.path.join(folder, file_name))\n",
    "            df.rename(columns = {list(df)[0]:'vector'}, inplace=True)\n",
    "            vector = df[\"vector\"]\n",
    "            # Calculate the Euclidean distance between the reference vector and the current vector\n",
    "            distance = np.sqrt(((vector - dvr) ** 2).sum())\n",
    "            # Add the distance to the list\n",
    "            distances.append(distance)\n",
    "            \n",
    "    distances_df = pd.DataFrame(distances, columns=['Distance'], index=os.listdir(folder))\n",
    "    \n",
    "    distances_df.to_csv(outpath,mode='w',header=True, index=True)\n",
    "    return distances_df\n"
   ]
  },
  {
   "cell_type": "markdown",
   "id": "1e52fade",
   "metadata": {},
   "source": [
    "## Preprocess Wrapper"
   ]
  },
  {
   "cell_type": "code",
   "execution_count": 161,
   "id": "3e42ed65",
   "metadata": {},
   "outputs": [],
   "source": [
    "def preProcessWrapper(key_word , try_num , min_length , max_length):\n",
    "    experimentpath =\"Experiments/expeiment-\"+key_word +\"_\"+try_num\n",
    "    unzipfromDataset(key_word , experimentpath, dataset_folder = \"Dataset/\" )\n",
    "    preprocess_Data(experimentpath , min_length , max_length)\n",
    "    wordfreqAll(experimentpath)\n",
    "    \n"
   ]
  },
  {
   "cell_type": "markdown",
   "id": "f59e2961",
   "metadata": {},
   "source": [
    "## LPA Wrappers"
   ]
  },
  {
   "cell_type": "code",
   "execution_count": 28,
   "id": "bd5b3717",
   "metadata": {},
   "outputs": [],
   "source": [
    "def run_LPA_undivided(experimentpath , key_word):\n",
    "    data_path = experimentpath + \"/Data/2Stories_OrLess_Undivided\"\n",
    "    freq = read_csv_folder(data_path + \"/word_freq\")\n",
    "    freq.rename(columns={'origin_index': 'document', 'word': 'element' , 'frequency': 'frequency_in_document'}, inplace=True)\n",
    "    corpus = Corpus(freq=freq)\n",
    "    dvr = corpus.create_dvr()\n",
    "    dvr.to_csv(experimentpath+\"/\"+key_word+\"-dvr.csv\",mode='w',header=True, index=True)\n",
    "    epsilon_frac = 2\n",
    "    epsilon = 1 / (len(dvr) * epsilon_frac)\n",
    "    epsilon\n",
    "    signatures = corpus.create_signatures(epsilon=epsilon, sig_length=500, distance=\"KLDe\")\n",
    "    write_dataframes_to_csv(signatures , outputFolder = experimentpath+\"/Signatures/UnDivided_authors/\")\n"
   ]
  },
  {
   "cell_type": "code",
   "execution_count": 85,
   "id": "f8bdf155",
   "metadata": {},
   "outputs": [],
   "source": [
    "def run_LPA_prompts(experimentpath , key_word):\n",
    "    data_path = experimentpath + \"/Data/Prompts\"\n",
    "    freq = read_csv_folder(data_path + \"/word_freq\")\n",
    "    freq.rename(columns={'origin_index': 'document', 'word': 'element' , 'frequency': 'frequency_in_document'}, inplace=True)\n",
    "    corpus = Corpus(freq=freq)\n",
    "    dvr = corpus.create_dvr()\n",
    "    dvr.to_csv(experimentpath+\"/Results/Prompts/\"+key_word+\"-prompts-dvr.csv\",mode='w',header=True, index=True)\n",
    "    epsilon_frac = 2\n",
    "    epsilon = 1 / (len(dvr) * epsilon_frac)\n",
    "    epsilon\n",
    "    signatures = corpus.create_signatures(epsilon=epsilon, sig_length=500, distance=\"KLDe\")\n",
    "    write_dataframes_to_csv(signatures , outputFolder = experimentpath+\"/Signatures/Prompts/\")"
   ]
  },
  {
   "cell_type": "code",
   "execution_count": 80,
   "id": "c1199ec3",
   "metadata": {},
   "outputs": [],
   "source": [
    "def run_LPA_forAuthor(experimentpath , key_word , folder_path , type1 = \"\\\\\"):\n",
    "    author_name = folder_path.rsplit(type1, 1)[-1]\n",
    "    os.makedirs(experimentpath+\"/Results/Author_Results/\"+author_name, exist_ok=True)\n",
    "    os.makedirs(experimentpath+\"/Signatures/Divided_by_authors/\"+author_name, exist_ok=True)\n",
    "    freq = read_csv_folder(folder_path + \"/word_freq\")\n",
    "    freq.rename(columns={'origin_index': 'document', 'word': 'element' , 'frequency': 'frequency_in_document'}, inplace=True)\n",
    "    corpus = Corpus(freq=freq)\n",
    "    dvr = corpus.create_dvr()\n",
    "    dvr.to_csv(experimentpath+\"/Results/Author_Results/\"+author_name+\"/\"+author_name+\"-dvr.csv\",mode='w',header=True, index=True)\n",
    "    epsilon_frac = 2\n",
    "    epsilon = 1 / (len(dvr) * epsilon_frac)\n",
    "    epsilon\n",
    "    signatures = corpus.create_signatures(epsilon=epsilon, sig_length=500, distance=\"KLDe\")\n",
    "    write_dataframes_to_csv(signatures , outputFolder = experimentpath+\"/Signatures/Divided_by_authors/\"+author_name+\"/\")\n",
    "    "
   ]
  },
  {
   "cell_type": "code",
   "execution_count": null,
   "id": "aa1eefb1",
   "metadata": {},
   "outputs": [],
   "source": []
  },
  {
   "cell_type": "markdown",
   "id": "7311a276",
   "metadata": {},
   "source": [
    "### T Test for difference "
   ]
  },
  {
   "cell_type": "code",
   "execution_count": 38,
   "id": "cd3c256c",
   "metadata": {},
   "outputs": [],
   "source": [
    "def test_dataset_difference(real_distances, prompt_distances):\n",
    "    # Perform a two-sample t-test with unequal variances\n",
    "    t_stat, p_value = stats.ttest_ind(real_distances[\"Distance\"], prompt_distances[\"Distance\"], equal_var=False)\n",
    "\n",
    "    # Compare p-value to a significance level (e.g., 0.05)\n",
    "    if p_value < 0.05 and np.mean(real_distances[\"Distance\"]) >= np.mean(prompt_distances[\"Distance\"]):\n",
    "        result = \"There is a significant difference between the distances of the real and prompt datasets, and the mean distance of the real dataset is not smaller than that of the prompt dataset.\"\n",
    "    else:\n",
    "        result = \"There is no significant difference between the distances of the real and prompt datasets, or the mean distance of the real dataset is smaller than that of the prompt dataset.\"\n",
    "\n",
    "    return result"
   ]
  },
  {
   "cell_type": "markdown",
   "id": "a306fa54",
   "metadata": {},
   "source": [
    "### F1"
   ]
  },
  {
   "cell_type": "code",
   "execution_count": 39,
   "id": "60fcbc5e",
   "metadata": {},
   "outputs": [],
   "source": [
    "def find_best_threshold(real_distances, prompt_distances):\n",
    "    # Find the maximum prompt distance and minimum real distance\n",
    "    max_prompt = np.max(prompt_distances)\n",
    "    min_real = np.min(real_distances)\n",
    "    best_threshold = None\n",
    "    best_f1 = -1\n",
    "    best_range = None\n",
    "    \n",
    "    # Iterate over a range of threshold values\n",
    "    for threshold in np.linspace(min_real, max_prompt, num=1000):\n",
    "        # Count the number of prompts and reals within the threshold range\n",
    "        num_prompts = np.sum(prompt_distances <= threshold)\n",
    "        num_reals = np.sum(real_distances <= threshold)\n",
    "        \n",
    "        # Calculate the F1 score\n",
    "        precision = num_prompts / (num_prompts + num_reals)\n",
    "        recall = num_prompts / len(prompt_distances)\n",
    "        f1 = f1_score([1]*len(prompt_distances) + [0]*len(real_distances), \n",
    "                      list(prompt_distances <= threshold) + list(real_distances <= threshold))\n",
    "        \n",
    "        # Update the best threshold and F1 score if applicable\n",
    "        if f1 > best_f1:\n",
    "            best_f1 = f1\n",
    "            best_threshold = threshold\n",
    "            best_range = (min_real, threshold)\n",
    "    \n",
    "    # Print the frequency and recall within the best threshold range\n",
    "    num_prompts = np.sum(prompt_distances <= best_threshold)\n",
    "    num_reals = np.sum(real_distances <= best_threshold)\n",
    "    total_prompts = len(prompt_distances)\n",
    "    total_reals = len(real_distances)\n",
    "    frequency = num_prompts / (num_prompts + num_reals)\n",
    "    recall = num_prompts / total_prompts\n",
    "    message = \"Within the range [{:.4f}, {:.4f}], there are {} prompts and {} reals, with a frequency of {:.4f} and a recall of {:.4f}\".format(\n",
    "        best_range[0], best_range[1], num_prompts, num_reals, frequency, recall)\n",
    "    print(message)\n",
    "    return best_threshold, best_f1  , message"
   ]
  },
  {
   "cell_type": "markdown",
   "id": "4cc7c7ad",
   "metadata": {},
   "source": [
    "## Global Variables"
   ]
  },
  {
   "cell_type": "code",
   "execution_count": 147,
   "id": "7dd9aecb",
   "metadata": {},
   "outputs": [],
   "source": [
    "key_word = \"pok_mon\"\n",
    "try_num = \"1\"\n",
    "dataset_folder = \"Dataset/\"\n",
    "experimentpath =\"Experiments/expeiment-\"+key_word +\"_\"+try_num\n"
   ]
  },
  {
   "cell_type": "code",
   "execution_count": 27,
   "id": "a37b49b0",
   "metadata": {},
   "outputs": [],
   "source": [
    "key_word = \"pok_mon\"\n",
    "try_num = \"1\"\n",
    "dataset_folder = \"Dataset/\"\n",
    "experimentpath =\"Experiments/expeiment-\"+key_word +\"_\"+try_num"
   ]
  },
  {
   "cell_type": "markdown",
   "id": "33a373d5",
   "metadata": {},
   "source": [
    "## Add Prompts"
   ]
  },
  {
   "cell_type": "code",
   "execution_count": 126,
   "id": "91072a4e",
   "metadata": {},
   "outputs": [],
   "source": [
    "promptsPath = experimentpath+\"/prompts-pokemon .json\""
   ]
  },
  {
   "cell_type": "code",
   "execution_count": 127,
   "id": "90c10616",
   "metadata": {},
   "outputs": [],
   "source": [
    "prompts = read_array_of_dicts_file(promptsPath)"
   ]
  },
  {
   "cell_type": "markdown",
   "id": "c7448dc6",
   "metadata": {},
   "source": [
    "## Set Up The LPA"
   ]
  },
  {
   "cell_type": "code",
   "execution_count": 54,
   "id": "1d2d1859",
   "metadata": {},
   "outputs": [],
   "source": [
    "make_dirs(experimentpath)# Set up directories for the experiment\n"
   ]
  },
  {
   "cell_type": "code",
   "execution_count": 55,
   "id": "a6b18c7a",
   "metadata": {},
   "outputs": [],
   "source": [
    "prompts_to_csv(prompts , experimentpath+\"/Data/Prompts/\")"
   ]
  },
  {
   "cell_type": "code",
   "execution_count": 129,
   "id": "54551728",
   "metadata": {},
   "outputs": [],
   "source": [
    "min_length = min([len(str1[\"FullStory\"].split()) for str1 in prompts])\n",
    "max_length = max([len(str1[\"FullStory\"].split()) for str1 in prompts])\n",
    "word_freq_full_folder(folder_path = experimentpath+\"/Data/Prompts/\")\n"
   ]
  },
  {
   "cell_type": "code",
   "execution_count": 57,
   "id": "f855eb65",
   "metadata": {},
   "outputs": [
    {
     "name": "stderr",
     "output_type": "stream",
     "text": [
      "C:\\Program Files\\Python38\\lib\\site-packages\\bs4\\__init__.py:435: MarkupResemblesLocatorWarning: The input looks more like a filename than markup. You may want to open this file and pass the filehandle into Beautiful Soup.\n",
      "  warnings.warn(\n"
     ]
    }
   ],
   "source": [
    "preProcessWrapper(key_word , try_num , min_length , max_length)"
   ]
  },
  {
   "cell_type": "code",
   "execution_count": null,
   "id": "2e3ab3dc",
   "metadata": {},
   "outputs": [],
   "source": []
  },
  {
   "cell_type": "markdown",
   "id": "9af304ba",
   "metadata": {},
   "source": [
    "## Run LPA"
   ]
  },
  {
   "cell_type": "markdown",
   "id": "ad32b24c",
   "metadata": {},
   "source": [
    "### Run LPA o All Non Prompts"
   ]
  },
  {
   "cell_type": "code",
   "execution_count": 58,
   "id": "0df17951",
   "metadata": {},
   "outputs": [],
   "source": [
    "run_LPA_undivided(experimentpath , key_word)"
   ]
  },
  {
   "cell_type": "markdown",
   "id": "67fe56a0",
   "metadata": {},
   "source": [
    "### Run LPA on All Prompts "
   ]
  },
  {
   "cell_type": "code",
   "execution_count": 59,
   "id": "6e21ce6f",
   "metadata": {},
   "outputs": [],
   "source": [
    "run_LPA_prompts(experimentpath , key_word)"
   ]
  },
  {
   "cell_type": "markdown",
   "id": "5a5c4ad8",
   "metadata": {},
   "source": [
    "### Run LPA on All Authors "
   ]
  },
  {
   "cell_type": "code",
   "execution_count": 83,
   "id": "085eb168",
   "metadata": {},
   "outputs": [],
   "source": [
    "nonprompts = experimentpath + \"/Data/authors_with_2Stories_OrLess/\"\n",
    "for folder_name in os.listdir(nonprompts):\n",
    "    folder_path = os.path.join(nonprompts, folder_name)\n",
    "    run_LPA_forAuthor(experimentpath , key_word , folder_path , type1 = \"/\")"
   ]
  },
  {
   "cell_type": "markdown",
   "id": "f0783a62",
   "metadata": {},
   "source": [
    "## Use Wrappers"
   ]
  },
  {
   "cell_type": "code",
   "execution_count": 11,
   "id": "2f952f4b",
   "metadata": {},
   "outputs": [],
   "source": [
    "def calculate_distances_wrapper(big_folder = \"Hpotter2/NotPrompts/2StoriesOrMore\"):\n",
    "    for folder_name in os.listdir(big_folder):\n",
    "        folder_path = os.path.join(big_folder, folder_name)\n",
    "        res_folder = folder_path + \"/LPA_Results\"\n",
    "        author_name = folder_path.rsplit('\\\\', 1)[-1]\n",
    "        calculate_distances(res_folder +\"/\"+ author_name+\"-dvr.csv\" ,res_folder+\"/Signatures\")"
   ]
  },
  {
   "cell_type": "code",
   "execution_count": 12,
   "id": "660a4916",
   "metadata": {},
   "outputs": [],
   "source": [
    "calculate_distances_wrapper(big_folder = key_word+ \"/NotPrompts/2StoriesOrMore\")"
   ]
  },
  {
   "cell_type": "markdown",
   "id": "6d1579a9",
   "metadata": {},
   "source": [
    "## Distances"
   ]
  },
  {
   "cell_type": "code",
   "execution_count": 28,
   "id": "e399c481",
   "metadata": {},
   "outputs": [],
   "source": [
    "dvr_path = experimentpath+\"/\"+key_word+\"-dvr.csv\"\n",
    "dvr_prompts = experimentpath+\"/Results/Prompts/\"+key_word+\"-prompts-dvr.csv\"\n",
    "real_sigs = experimentpath+\"/Signatures/UnDivided_authors\"\n",
    "prompts_sigs = experimentpath+\"/Signatures/Prompts\"\n",
    "out_real = experimentpath+\"/Results/Distances/\"+key_word+\"-fanfiction-distances.csv\" \n",
    "out_prompts = experimentpath+\"/Results/Distances/\"+key_word+\"-prompts-distances-from-real.csv\" \n",
    "out_prompts_self = experimentpath+\"/Results/Distances/\"+key_word+\"-prompts-distances-from-prompts.csv\" "
   ]
  },
  {
   "cell_type": "markdown",
   "id": "d062dde2",
   "metadata": {},
   "source": [
    "## Distances Real"
   ]
  },
  {
   "cell_type": "code",
   "execution_count": 29,
   "id": "f76c20a8",
   "metadata": {},
   "outputs": [],
   "source": [
    "nonpromptsdis = calculate_distances(dvr_path , real_sigs , out_real)\n"
   ]
  },
  {
   "cell_type": "code",
   "execution_count": 30,
   "id": "bc691e8a",
   "metadata": {},
   "outputs": [
    {
     "data": {
      "text/html": [
       "<div>\n",
       "<style scoped>\n",
       "    .dataframe tbody tr th:only-of-type {\n",
       "        vertical-align: middle;\n",
       "    }\n",
       "\n",
       "    .dataframe tbody tr th {\n",
       "        vertical-align: top;\n",
       "    }\n",
       "\n",
       "    .dataframe thead th {\n",
       "        text-align: right;\n",
       "    }\n",
       "</style>\n",
       "<table border=\"1\" class=\"dataframe\">\n",
       "  <thead>\n",
       "    <tr style=\"text-align: right;\">\n",
       "      <th></th>\n",
       "      <th>Distance</th>\n",
       "    </tr>\n",
       "  </thead>\n",
       "  <tbody>\n",
       "    <tr>\n",
       "      <th>Halo_ Pok_mon - Gundam117 - Missing in action.csv-Signature.csv</th>\n",
       "      <td>0.260404</td>\n",
       "    </tr>\n",
       "    <tr>\n",
       "      <th>Harry Potter_ Pok_mon - aki19891989 - harry potter and the legendary storm.csv-Signature.csv</th>\n",
       "      <td>0.437322</td>\n",
       "    </tr>\n",
       "    <tr>\n",
       "      <th>Harry Potter_ Pok_mon - Eetle35 - Poke' Hogwarts.csv-Signature.csv</th>\n",
       "      <td>0.269355</td>\n",
       "    </tr>\n",
       "    <tr>\n",
       "      <th>Harry Potter_ Pok_mon - germain.bouten - aura harry.csv-Signature.csv</th>\n",
       "      <td>0.283495</td>\n",
       "    </tr>\n",
       "    <tr>\n",
       "      <th>Harry Potter_ Pok_mon - Hikari-Tenshi-Yuri - PikaGirl.csv-Signature.csv</th>\n",
       "      <td>0.293272</td>\n",
       "    </tr>\n",
       "    <tr>\n",
       "      <th>...</th>\n",
       "      <td>...</td>\n",
       "    </tr>\n",
       "    <tr>\n",
       "      <th>Pok_mon_ Web Shows - RoseBadwolf1000 - Dan and Phil and the Pokemon Death.csv-Signature.csv</th>\n",
       "      <td>0.258289</td>\n",
       "    </tr>\n",
       "    <tr>\n",
       "      <th>Pok_mon_ Wrestling - undeadArtist666 - Journey Through the Brawler Region_.csv-Signature.csv</th>\n",
       "      <td>0.332921</td>\n",
       "    </tr>\n",
       "    <tr>\n",
       "      <th>Pok_mon_ X-overs - AlexPwnsJoo - Pikachu's First Date.csv-Signature.csv</th>\n",
       "      <td>0.181238</td>\n",
       "    </tr>\n",
       "    <tr>\n",
       "      <th>Pok_mon_ Yu-Gi-Oh - Coolartist1110 - Marik plays Pokemon Black YGOTAS.csv-Signature.csv</th>\n",
       "      <td>0.342625</td>\n",
       "    </tr>\n",
       "    <tr>\n",
       "      <th>Pok_mon_ Yu-Gi-Oh - StevenAndNathan Fan-Fic - Super Kawaii Crossover FanFic_.csv-Signature.csv</th>\n",
       "      <td>0.392032</td>\n",
       "    </tr>\n",
       "  </tbody>\n",
       "</table>\n",
       "<p>1035 rows × 1 columns</p>\n",
       "</div>"
      ],
      "text/plain": [
       "                                                    Distance\n",
       "Halo_ Pok_mon - Gundam117 - Missing in action.c...  0.260404\n",
       "Harry Potter_ Pok_mon - aki19891989 - harry pot...  0.437322\n",
       "Harry Potter_ Pok_mon - Eetle35 - Poke' Hogwart...  0.269355\n",
       "Harry Potter_ Pok_mon - germain.bouten - aura h...  0.283495\n",
       "Harry Potter_ Pok_mon - Hikari-Tenshi-Yuri - Pi...  0.293272\n",
       "...                                                      ...\n",
       "Pok_mon_ Web Shows - RoseBadwolf1000 - Dan and ...  0.258289\n",
       "Pok_mon_ Wrestling - undeadArtist666 - Journey ...  0.332921\n",
       "Pok_mon_ X-overs - AlexPwnsJoo - Pikachu's Firs...  0.181238\n",
       "Pok_mon_ Yu-Gi-Oh - Coolartist1110 - Marik play...  0.342625\n",
       "Pok_mon_ Yu-Gi-Oh - StevenAndNathan Fan-Fic - S...  0.392032\n",
       "\n",
       "[1035 rows x 1 columns]"
      ]
     },
     "execution_count": 30,
     "metadata": {},
     "output_type": "execute_result"
    }
   ],
   "source": [
    "nonpromptsdis"
   ]
  },
  {
   "cell_type": "code",
   "execution_count": 31,
   "id": "ede239e4",
   "metadata": {},
   "outputs": [
    {
     "data": {
      "text/plain": [
       "0.3189945625793251"
      ]
     },
     "execution_count": 31,
     "metadata": {},
     "output_type": "execute_result"
    }
   ],
   "source": [
    "nonpromptsdis[\"Distance\"].mean()"
   ]
  },
  {
   "cell_type": "markdown",
   "id": "67110689",
   "metadata": {},
   "source": [
    "calculate_distances(dvr_path , real_sigs , out_real)"
   ]
  },
  {
   "cell_type": "markdown",
   "id": "173dc133",
   "metadata": {},
   "source": [
    "## Distances Prompts from Real"
   ]
  },
  {
   "cell_type": "code",
   "execution_count": 34,
   "id": "e7356b2f",
   "metadata": {},
   "outputs": [],
   "source": [
    "promptsdis = calculate_distances(dvr_path , prompts_sigs , out_prompts)"
   ]
  },
  {
   "cell_type": "code",
   "execution_count": 35,
   "id": "3831facc",
   "metadata": {},
   "outputs": [
    {
     "data": {
      "text/html": [
       "<div>\n",
       "<style scoped>\n",
       "    .dataframe tbody tr th:only-of-type {\n",
       "        vertical-align: middle;\n",
       "    }\n",
       "\n",
       "    .dataframe tbody tr th {\n",
       "        vertical-align: top;\n",
       "    }\n",
       "\n",
       "    .dataframe thead th {\n",
       "        text-align: right;\n",
       "    }\n",
       "</style>\n",
       "<table border=\"1\" class=\"dataframe\">\n",
       "  <thead>\n",
       "    <tr style=\"text-align: right;\">\n",
       "      <th></th>\n",
       "      <th>Distance</th>\n",
       "    </tr>\n",
       "  </thead>\n",
       "  <tbody>\n",
       "    <tr>\n",
       "      <th>Write me a Pokemon fan fiction about a group of trainers who explore a mysterious island r.csv-Signature.csv</th>\n",
       "      <td>0.181141</td>\n",
       "    </tr>\n",
       "    <tr>\n",
       "      <th>Write me a Pokemon fan fiction about a group of trainers who form a gym in a small town an.csv-Signature.csv</th>\n",
       "      <td>0.221453</td>\n",
       "    </tr>\n",
       "    <tr>\n",
       "      <th>Write me a Pokemon fan fiction about a meeting between Ash and a far away king named Konra.csv-Signature.csv</th>\n",
       "      <td>0.201982</td>\n",
       "    </tr>\n",
       "    <tr>\n",
       "      <th>Write me a Pokemon fan fiction about a team of trainers who set out to catch all of the Ee.csv-Signature.csv</th>\n",
       "      <td>0.211454</td>\n",
       "    </tr>\n",
       "    <tr>\n",
       "      <th>Write me a Pokemon fan fiction about a trainer who becomes friends with a legendary Pokemo.csv-Signature.csv</th>\n",
       "      <td>0.174347</td>\n",
       "    </tr>\n",
       "    <tr>\n",
       "      <th>Write me a Pokemon fan fiction about a trainer who becomes stranded on an island inhabited.csv-Signature.csv</th>\n",
       "      <td>0.171978</td>\n",
       "    </tr>\n",
       "    <tr>\n",
       "      <th>Write me a Pokemon fan fiction about a trainer who befriends a wild Magikarp and helps it .csv-Signature.csv</th>\n",
       "      <td>0.163733</td>\n",
       "    </tr>\n",
       "    <tr>\n",
       "      <th>Write me a Pokemon fan fiction about a trainer who befriends a wild Pikachu and trains it .csv-Signature.csv</th>\n",
       "      <td>0.202026</td>\n",
       "    </tr>\n",
       "    <tr>\n",
       "      <th>Write me a Pokemon fan fiction about a trainer who discovers a hidden valley where time mo.csv-Signature.csv</th>\n",
       "      <td>0.204051</td>\n",
       "    </tr>\n",
       "    <tr>\n",
       "      <th>Write me a Pokemon fan fiction about a trainer who discovers a new legendary Pokemon.csv-Signature.csv</th>\n",
       "      <td>0.156469</td>\n",
       "    </tr>\n",
       "    <tr>\n",
       "      <th>Write me a Pokemon fan fiction about a trainer who discovers a new type of Pokemon and has.csv-Signature.csv</th>\n",
       "      <td>0.217528</td>\n",
       "    </tr>\n",
       "    <tr>\n",
       "      <th>Write me a Pokemon fan fiction about a trainer who discovers that they have the power to c.csv-Signature.csv</th>\n",
       "      <td>0.210136</td>\n",
       "    </tr>\n",
       "    <tr>\n",
       "      <th>Write me a Pokemon fan fiction about a trainer who enters a tournament to become the best .csv-Signature.csv</th>\n",
       "      <td>0.209120</td>\n",
       "    </tr>\n",
       "    <tr>\n",
       "      <th>Write me a Pokemon fan fiction about a trainer who goes on a journey to learn about the hi.csv-Signature.csv</th>\n",
       "      <td>0.177271</td>\n",
       "    </tr>\n",
       "    <tr>\n",
       "      <th>Write me a Pokemon fan fiction about a trainer who has to save the world from a villainous.csv-Signature.csv</th>\n",
       "      <td>0.152611</td>\n",
       "    </tr>\n",
       "    <tr>\n",
       "      <th>Write me a Pokemon fan fiction about a trainer who has to train a group of misfit Pokemon .csv-Signature.csv</th>\n",
       "      <td>0.178473</td>\n",
       "    </tr>\n",
       "    <tr>\n",
       "      <th>Write me a Pokemon fan fiction about a trainer who is forced to team up with their rival t.csv-Signature.csv</th>\n",
       "      <td>0.203361</td>\n",
       "    </tr>\n",
       "    <tr>\n",
       "      <th>Write me a Pokemon fan fiction about a trainer who is on a quest to find the ultimate Mega.csv-Signature.csv</th>\n",
       "      <td>0.205049</td>\n",
       "    </tr>\n",
       "    <tr>\n",
       "      <th>Write me a Pokemon fan fiction about a trainer who is tasked with protecting a rare and po.csv-Signature.csv</th>\n",
       "      <td>0.151476</td>\n",
       "    </tr>\n",
       "    <tr>\n",
       "      <th>Write me a Pokemon fan fiction about a trainer who is transported to a world where Pokemon.csv-Signature.csv</th>\n",
       "      <td>0.178687</td>\n",
       "    </tr>\n",
       "    <tr>\n",
       "      <th>Write me a Pokemon fan fiction about a trainer who is transported to an alternate dimensio.csv-Signature.csv</th>\n",
       "      <td>0.181141</td>\n",
       "    </tr>\n",
       "    <tr>\n",
       "      <th>Write me a Pokemon fan fiction about a trainer who is trying to catch a shiny Charizard.cs.csv-Signature.csv</th>\n",
       "      <td>0.192170</td>\n",
       "    </tr>\n",
       "    <tr>\n",
       "      <th>Write me a Pokemon fan fiction about a trainer who is trying to collect all of the rarest .csv-Signature.csv</th>\n",
       "      <td>0.209120</td>\n",
       "    </tr>\n",
       "    <tr>\n",
       "      <th>Write me a Pokemon fan fiction about a trainer who is trying to uncover the truth about a .csv-Signature.csv</th>\n",
       "      <td>0.192427</td>\n",
       "    </tr>\n",
       "    <tr>\n",
       "      <th>Write me a Pokemon fan fiction about a trainer who must solve a series of riddles and puzz.csv-Signature.csv</th>\n",
       "      <td>0.184156</td>\n",
       "    </tr>\n",
       "    <tr>\n",
       "      <th>Write me a Pokemon fan fiction about a trainer who must team up with their rival to save t.csv-Signature.csv</th>\n",
       "      <td>0.177325</td>\n",
       "    </tr>\n",
       "    <tr>\n",
       "      <th>Write me a Pokemon fan fiction about a trainer who travels back in time to the origins of .csv-Signature.csv</th>\n",
       "      <td>0.185006</td>\n",
       "    </tr>\n",
       "    <tr>\n",
       "      <th>Write me a Pokemon fan fiction about Ash upbringing.csv-Signature.csv</th>\n",
       "      <td>0.235871</td>\n",
       "    </tr>\n",
       "    <tr>\n",
       "      <th>Write me a Pokemon fan fiction about pikachu learning english.csv-Signature.csv</th>\n",
       "      <td>0.234509</td>\n",
       "    </tr>\n",
       "    <tr>\n",
       "      <th>Write me a Pokemon fan fiction about pokemons teaching ash how to swim.csv-Signature.csv</th>\n",
       "      <td>0.277270</td>\n",
       "    </tr>\n",
       "    <tr>\n",
       "      <th>Write me a quick pokemon fan fiction.csv-Signature.csv</th>\n",
       "      <td>0.270682</td>\n",
       "    </tr>\n",
       "  </tbody>\n",
       "</table>\n",
       "</div>"
      ],
      "text/plain": [
       "                                                    Distance\n",
       "Write me a Pokemon fan fiction about a group of...  0.181141\n",
       "Write me a Pokemon fan fiction about a group of...  0.221453\n",
       "Write me a Pokemon fan fiction about a meeting ...  0.201982\n",
       "Write me a Pokemon fan fiction about a team of ...  0.211454\n",
       "Write me a Pokemon fan fiction about a trainer ...  0.174347\n",
       "Write me a Pokemon fan fiction about a trainer ...  0.171978\n",
       "Write me a Pokemon fan fiction about a trainer ...  0.163733\n",
       "Write me a Pokemon fan fiction about a trainer ...  0.202026\n",
       "Write me a Pokemon fan fiction about a trainer ...  0.204051\n",
       "Write me a Pokemon fan fiction about a trainer ...  0.156469\n",
       "Write me a Pokemon fan fiction about a trainer ...  0.217528\n",
       "Write me a Pokemon fan fiction about a trainer ...  0.210136\n",
       "Write me a Pokemon fan fiction about a trainer ...  0.209120\n",
       "Write me a Pokemon fan fiction about a trainer ...  0.177271\n",
       "Write me a Pokemon fan fiction about a trainer ...  0.152611\n",
       "Write me a Pokemon fan fiction about a trainer ...  0.178473\n",
       "Write me a Pokemon fan fiction about a trainer ...  0.203361\n",
       "Write me a Pokemon fan fiction about a trainer ...  0.205049\n",
       "Write me a Pokemon fan fiction about a trainer ...  0.151476\n",
       "Write me a Pokemon fan fiction about a trainer ...  0.178687\n",
       "Write me a Pokemon fan fiction about a trainer ...  0.181141\n",
       "Write me a Pokemon fan fiction about a trainer ...  0.192170\n",
       "Write me a Pokemon fan fiction about a trainer ...  0.209120\n",
       "Write me a Pokemon fan fiction about a trainer ...  0.192427\n",
       "Write me a Pokemon fan fiction about a trainer ...  0.184156\n",
       "Write me a Pokemon fan fiction about a trainer ...  0.177325\n",
       "Write me a Pokemon fan fiction about a trainer ...  0.185006\n",
       "Write me a Pokemon fan fiction about Ash upbrin...  0.235871\n",
       "Write me a Pokemon fan fiction about pikachu le...  0.234509\n",
       "Write me a Pokemon fan fiction about pokemons t...  0.277270\n",
       "Write me a quick pokemon fan fiction.csv-Signat...  0.270682"
      ]
     },
     "execution_count": 35,
     "metadata": {},
     "output_type": "execute_result"
    }
   ],
   "source": [
    "promptsdis"
   ]
  },
  {
   "cell_type": "code",
   "execution_count": 36,
   "id": "16bf53cd",
   "metadata": {},
   "outputs": [
    {
     "data": {
      "text/plain": [
       "0.1971620580473125"
      ]
     },
     "execution_count": 36,
     "metadata": {},
     "output_type": "execute_result"
    }
   ],
   "source": [
    "promptsdis[\"Distance\"].mean()"
   ]
  },
  {
   "cell_type": "markdown",
   "id": "f18be9df",
   "metadata": {},
   "source": [
    "## Distances Prompts from Real"
   ]
  },
  {
   "cell_type": "code",
   "execution_count": 102,
   "id": "bee142e8",
   "metadata": {},
   "outputs": [],
   "source": [
    "prompts_Self = calculate_distances(dvr_prompts , prompts_sigs , out_prompts_self)"
   ]
  },
  {
   "cell_type": "code",
   "execution_count": 103,
   "id": "b31c52d1",
   "metadata": {},
   "outputs": [
    {
     "data": {
      "text/html": [
       "<div>\n",
       "<style scoped>\n",
       "    .dataframe tbody tr th:only-of-type {\n",
       "        vertical-align: middle;\n",
       "    }\n",
       "\n",
       "    .dataframe tbody tr th {\n",
       "        vertical-align: top;\n",
       "    }\n",
       "\n",
       "    .dataframe thead th {\n",
       "        text-align: right;\n",
       "    }\n",
       "</style>\n",
       "<table border=\"1\" class=\"dataframe\">\n",
       "  <thead>\n",
       "    <tr style=\"text-align: right;\">\n",
       "      <th></th>\n",
       "      <th>Distance</th>\n",
       "    </tr>\n",
       "  </thead>\n",
       "  <tbody>\n",
       "    <tr>\n",
       "      <th>Write me a Pokemon fan fiction about a group of trainers who explore a mysterious island r.csv-Signature.csv</th>\n",
       "      <td>0.213804</td>\n",
       "    </tr>\n",
       "    <tr>\n",
       "      <th>Write me a Pokemon fan fiction about a group of trainers who form a gym in a small town an.csv-Signature.csv</th>\n",
       "      <td>0.237724</td>\n",
       "    </tr>\n",
       "    <tr>\n",
       "      <th>Write me a Pokemon fan fiction about a meeting between Ash and a far away king named Konra.csv-Signature.csv</th>\n",
       "      <td>0.231826</td>\n",
       "    </tr>\n",
       "    <tr>\n",
       "      <th>Write me a Pokemon fan fiction about a team of trainers who set out to catch all of the Ee.csv-Signature.csv</th>\n",
       "      <td>0.239148</td>\n",
       "    </tr>\n",
       "    <tr>\n",
       "      <th>Write me a Pokemon fan fiction about a trainer who becomes friends with a legendary Pokemo.csv-Signature.csv</th>\n",
       "      <td>0.206151</td>\n",
       "    </tr>\n",
       "    <tr>\n",
       "      <th>Write me a Pokemon fan fiction about a trainer who becomes stranded on an island inhabited.csv-Signature.csv</th>\n",
       "      <td>0.200417</td>\n",
       "    </tr>\n",
       "    <tr>\n",
       "      <th>Write me a Pokemon fan fiction about a trainer who befriends a wild Magikarp and helps it .csv-Signature.csv</th>\n",
       "      <td>0.177174</td>\n",
       "    </tr>\n",
       "    <tr>\n",
       "      <th>Write me a Pokemon fan fiction about a trainer who befriends a wild Pikachu and trains it .csv-Signature.csv</th>\n",
       "      <td>0.235622</td>\n",
       "    </tr>\n",
       "    <tr>\n",
       "      <th>Write me a Pokemon fan fiction about a trainer who discovers a hidden valley where time mo.csv-Signature.csv</th>\n",
       "      <td>0.232943</td>\n",
       "    </tr>\n",
       "    <tr>\n",
       "      <th>Write me a Pokemon fan fiction about a trainer who discovers a new legendary Pokemon.csv-Signature.csv</th>\n",
       "      <td>0.189942</td>\n",
       "    </tr>\n",
       "    <tr>\n",
       "      <th>Write me a Pokemon fan fiction about a trainer who discovers a new type of Pokemon and has.csv-Signature.csv</th>\n",
       "      <td>0.247602</td>\n",
       "    </tr>\n",
       "    <tr>\n",
       "      <th>Write me a Pokemon fan fiction about a trainer who discovers that they have the power to c.csv-Signature.csv</th>\n",
       "      <td>0.242050</td>\n",
       "    </tr>\n",
       "    <tr>\n",
       "      <th>Write me a Pokemon fan fiction about a trainer who enters a tournament to become the best .csv-Signature.csv</th>\n",
       "      <td>0.240367</td>\n",
       "    </tr>\n",
       "    <tr>\n",
       "      <th>Write me a Pokemon fan fiction about a trainer who goes on a journey to learn about the hi.csv-Signature.csv</th>\n",
       "      <td>0.209386</td>\n",
       "    </tr>\n",
       "    <tr>\n",
       "      <th>Write me a Pokemon fan fiction about a trainer who has to save the world from a villainous.csv-Signature.csv</th>\n",
       "      <td>0.177106</td>\n",
       "    </tr>\n",
       "    <tr>\n",
       "      <th>Write me a Pokemon fan fiction about a trainer who has to train a group of misfit Pokemon .csv-Signature.csv</th>\n",
       "      <td>0.206593</td>\n",
       "    </tr>\n",
       "    <tr>\n",
       "      <th>Write me a Pokemon fan fiction about a trainer who is forced to team up with their rival t.csv-Signature.csv</th>\n",
       "      <td>0.233008</td>\n",
       "    </tr>\n",
       "    <tr>\n",
       "      <th>Write me a Pokemon fan fiction about a trainer who is on a quest to find the ultimate Mega.csv-Signature.csv</th>\n",
       "      <td>0.225620</td>\n",
       "    </tr>\n",
       "    <tr>\n",
       "      <th>Write me a Pokemon fan fiction about a trainer who is tasked with protecting a rare and po.csv-Signature.csv</th>\n",
       "      <td>0.167151</td>\n",
       "    </tr>\n",
       "    <tr>\n",
       "      <th>Write me a Pokemon fan fiction about a trainer who is transported to a world where Pokemon.csv-Signature.csv</th>\n",
       "      <td>0.210964</td>\n",
       "    </tr>\n",
       "    <tr>\n",
       "      <th>Write me a Pokemon fan fiction about a trainer who is transported to an alternate dimensio.csv-Signature.csv</th>\n",
       "      <td>0.213804</td>\n",
       "    </tr>\n",
       "    <tr>\n",
       "      <th>Write me a Pokemon fan fiction about a trainer who is trying to catch a shiny Charizard.cs.csv-Signature.csv</th>\n",
       "      <td>0.211800</td>\n",
       "    </tr>\n",
       "    <tr>\n",
       "      <th>Write me a Pokemon fan fiction about a trainer who is trying to collect all of the rarest .csv-Signature.csv</th>\n",
       "      <td>0.240367</td>\n",
       "    </tr>\n",
       "    <tr>\n",
       "      <th>Write me a Pokemon fan fiction about a trainer who is trying to uncover the truth about a .csv-Signature.csv</th>\n",
       "      <td>0.214546</td>\n",
       "    </tr>\n",
       "    <tr>\n",
       "      <th>Write me a Pokemon fan fiction about a trainer who must solve a series of riddles and puzz.csv-Signature.csv</th>\n",
       "      <td>0.216132</td>\n",
       "    </tr>\n",
       "    <tr>\n",
       "      <th>Write me a Pokemon fan fiction about a trainer who must team up with their rival to save t.csv-Signature.csv</th>\n",
       "      <td>0.210170</td>\n",
       "    </tr>\n",
       "    <tr>\n",
       "      <th>Write me a Pokemon fan fiction about a trainer who travels back in time to the origins of .csv-Signature.csv</th>\n",
       "      <td>0.219390</td>\n",
       "    </tr>\n",
       "    <tr>\n",
       "      <th>Write me a Pokemon fan fiction about Ash upbringing.csv-Signature.csv</th>\n",
       "      <td>0.269044</td>\n",
       "    </tr>\n",
       "    <tr>\n",
       "      <th>Write me a Pokemon fan fiction about pikachu learning english.csv-Signature.csv</th>\n",
       "      <td>0.260129</td>\n",
       "    </tr>\n",
       "    <tr>\n",
       "      <th>Write me a Pokemon fan fiction about pokemons teaching ash how to swim.csv-Signature.csv</th>\n",
       "      <td>0.300434</td>\n",
       "    </tr>\n",
       "    <tr>\n",
       "      <th>Write me a quick pokemon fan fiction.csv-Signature.csv</th>\n",
       "      <td>0.286583</td>\n",
       "    </tr>\n",
       "  </tbody>\n",
       "</table>\n",
       "</div>"
      ],
      "text/plain": [
       "                                                    Distance\n",
       "Write me a Pokemon fan fiction about a group of...  0.213804\n",
       "Write me a Pokemon fan fiction about a group of...  0.237724\n",
       "Write me a Pokemon fan fiction about a meeting ...  0.231826\n",
       "Write me a Pokemon fan fiction about a team of ...  0.239148\n",
       "Write me a Pokemon fan fiction about a trainer ...  0.206151\n",
       "Write me a Pokemon fan fiction about a trainer ...  0.200417\n",
       "Write me a Pokemon fan fiction about a trainer ...  0.177174\n",
       "Write me a Pokemon fan fiction about a trainer ...  0.235622\n",
       "Write me a Pokemon fan fiction about a trainer ...  0.232943\n",
       "Write me a Pokemon fan fiction about a trainer ...  0.189942\n",
       "Write me a Pokemon fan fiction about a trainer ...  0.247602\n",
       "Write me a Pokemon fan fiction about a trainer ...  0.242050\n",
       "Write me a Pokemon fan fiction about a trainer ...  0.240367\n",
       "Write me a Pokemon fan fiction about a trainer ...  0.209386\n",
       "Write me a Pokemon fan fiction about a trainer ...  0.177106\n",
       "Write me a Pokemon fan fiction about a trainer ...  0.206593\n",
       "Write me a Pokemon fan fiction about a trainer ...  0.233008\n",
       "Write me a Pokemon fan fiction about a trainer ...  0.225620\n",
       "Write me a Pokemon fan fiction about a trainer ...  0.167151\n",
       "Write me a Pokemon fan fiction about a trainer ...  0.210964\n",
       "Write me a Pokemon fan fiction about a trainer ...  0.213804\n",
       "Write me a Pokemon fan fiction about a trainer ...  0.211800\n",
       "Write me a Pokemon fan fiction about a trainer ...  0.240367\n",
       "Write me a Pokemon fan fiction about a trainer ...  0.214546\n",
       "Write me a Pokemon fan fiction about a trainer ...  0.216132\n",
       "Write me a Pokemon fan fiction about a trainer ...  0.210170\n",
       "Write me a Pokemon fan fiction about a trainer ...  0.219390\n",
       "Write me a Pokemon fan fiction about Ash upbrin...  0.269044\n",
       "Write me a Pokemon fan fiction about pikachu le...  0.260129\n",
       "Write me a Pokemon fan fiction about pokemons t...  0.300434\n",
       "Write me a quick pokemon fan fiction.csv-Signat...  0.286583"
      ]
     },
     "execution_count": 103,
     "metadata": {},
     "output_type": "execute_result"
    }
   ],
   "source": [
    "prompts_Self"
   ]
  },
  {
   "cell_type": "code",
   "execution_count": 104,
   "id": "07d75a87",
   "metadata": {},
   "outputs": [
    {
     "data": {
      "text/plain": [
       "0.22474175260020213"
      ]
     },
     "execution_count": 104,
     "metadata": {},
     "output_type": "execute_result"
    }
   ],
   "source": [
    "prompts_Self[\"Distance\"].mean()"
   ]
  },
  {
   "cell_type": "markdown",
   "id": "82173d85",
   "metadata": {},
   "source": [
    "## Threshold Testing"
   ]
  },
  {
   "cell_type": "code",
   "execution_count": 121,
   "id": "4acfaef0",
   "metadata": {},
   "outputs": [
    {
     "data": {
      "text/plain": [
       "'There is a significant difference between the distances of the real and prompt datasets, and the mean distance of the real dataset is not smaller than that of the prompt dataset.'"
      ]
     },
     "execution_count": 121,
     "metadata": {},
     "output_type": "execute_result"
    }
   ],
   "source": [
    "test_dataset_difference(nonpromptsdis, promptsdis)"
   ]
  },
  {
   "cell_type": "code",
   "execution_count": 122,
   "id": "e03298e4",
   "metadata": {},
   "outputs": [
    {
     "name": "stdout",
     "output_type": "stream",
     "text": [
      "Within the range [0.1542, 0.1850], there are 14 prompts and 33 reals, with a frequency of 0.2979 and a recall of 0.4516\n"
     ]
    }
   ],
   "source": [
    "best_threshold , best_f1 , message = find_best_threshold(nonpromptsdis[\"Distance\"], promptsdis[\"Distance\"])"
   ]
  },
  {
   "cell_type": "code",
   "execution_count": 42,
   "id": "0bb7d8db",
   "metadata": {},
   "outputs": [
    {
     "data": {
      "text/plain": [
       "0.1850175783431004"
      ]
     },
     "execution_count": 42,
     "metadata": {},
     "output_type": "execute_result"
    }
   ],
   "source": [
    "best_threshold"
   ]
  },
  {
   "cell_type": "code",
   "execution_count": 43,
   "id": "cbfd4550",
   "metadata": {},
   "outputs": [
    {
     "data": {
      "text/plain": [
       "0.3589743589743589"
      ]
     },
     "execution_count": 43,
     "metadata": {},
     "output_type": "execute_result"
    }
   ],
   "source": [
    "best_f1"
   ]
  },
  {
   "cell_type": "code",
   "execution_count": 123,
   "id": "a4a053c9",
   "metadata": {},
   "outputs": [
    {
     "data": {
      "text/plain": [
       "'Within the range [0.1542, 0.1850], there are 14 prompts and 33 reals, with a frequency of 0.2979 and a recall of 0.4516'"
      ]
     },
     "execution_count": 123,
     "metadata": {},
     "output_type": "execute_result"
    }
   ],
   "source": [
    "message"
   ]
  },
  {
   "cell_type": "code",
   "execution_count": 44,
   "id": "15e8d0f3",
   "metadata": {},
   "outputs": [],
   "source": [
    "import matplotlib.pyplot as plt\n",
    "\n",
    "def plot_differences(df_fanfiction , df_prompts , field = \"Distance\"):\n",
    "    # Create a figure and axis object\n",
    "    fig, ax = plt.subplots()\n",
    "\n",
    "    # Create a histogram of the \"distance\" column in df_fanfiction, colored blue\n",
    "    ax.hist(df_fanfiction[field], bins=30, alpha=0.5, color=\"blue\", label=\"fanfiction\")\n",
    "\n",
    "    # Create a histogram of the \"distance\" column in df_prompts, colored red\n",
    "    ax.hist(df_prompts[field], bins=30, alpha=0.5, color=\"red\", label=\"prompts\")\n",
    "\n",
    "    # Set the x and y axis labels\n",
    "    ax.set_xlabel(\"Distance\")\n",
    "    ax.set_ylabel(\"Frequency\")\n",
    "\n",
    "    # Add a legend\n",
    "    ax.legend()\n",
    "\n",
    "    # Show the plot\n",
    "    plt.show()"
   ]
  },
  {
   "cell_type": "code",
   "execution_count": 45,
   "id": "43dfd506",
   "metadata": {},
   "outputs": [
    {
     "data": {
      "image/png": "[encoded data removed]",
      "text/plain": [
       "<Figure size 432x288 with 1 Axes>"
      ]
     },
     "metadata": {
      "needs_background": "light"
     },
     "output_type": "display_data"
    }
   ],
   "source": [
    "plot_differences(nonpromptsdis, promptsdis)"
   ]
  },
  {
   "cell_type": "code",
   "execution_count": 136,
   "id": "0539ed25",
   "metadata": {},
   "outputs": [],
   "source": [
    "def plot_differences_with_threshold(df_fanfiction, df_prompts, field=\"Distance\", threshold=None \n",
    "                                    ,save_format =\"jpg\" , filename=\"plot.jpg\" , out_path = \"/Images\" ):\n",
    "    # Create a figure and axis object\n",
    "    fig, ax = plt.subplots()\n",
    "\n",
    "    # Create a histogram of the \"distance\" column in df_fanfiction, colored blue\n",
    "    ax.hist(df_fanfiction[field], bins=30, alpha=0.5, color=\"blue\", label=\"fanfiction\")\n",
    "\n",
    "    # Create a histogram of the \"distance\" column in df_prompts, colored red\n",
    "    ax.hist(df_prompts[field], bins=30, alpha=0.5, color=\"red\", label=\"prompts\")\n",
    "\n",
    "    # Set the x and y axis labels\n",
    "    ax.set_xlabel(\"Distance\")\n",
    "    ax.set_ylabel(\"Frequency\")\n",
    "\n",
    "    # Add a legend\n",
    "    ax.legend()\n",
    "\n",
    "    # Add a vertical line at the threshold value, if provided\n",
    "    if threshold is not None:\n",
    "        ax.axvline(x=threshold, color='black', linestyle='--')\n",
    "        ax.text(threshold, ax.get_ylim()[1]*1.05, f'Threshold: {threshold:.2f}', ha='center', va='top', fontsize=12)\n",
    "    fig.set_facecolor('white')\n",
    "    fig.savefig(os.path.join(out_path, filename), format=save_format , dpi=300)\n",
    "    # Show the plot\n",
    "#     plt.style.use('classic')\n",
    "    plt.show()\n",
    "    "
   ]
  },
  {
   "cell_type": "code",
   "execution_count": 137,
   "id": "4d8a0ca6",
   "metadata": {},
   "outputs": [
    {
     "data": {
      "image/png": "[encoded data removed]",
      "text/plain": [
       "<Figure size 640x480 with 1 Axes>"
      ]
     },
     "metadata": {},
     "output_type": "display_data"
    }
   ],
   "source": [
    "plot_differences_with_threshold(nonpromptsdis, promptsdis, threshold=best_threshold,\n",
    "                                filename=key_word+\"-both_histogram.jpg\" , out_path = experimentpath+\"/Images\")"
   ]
  },
  {
   "cell_type": "code",
   "execution_count": 138,
   "id": "15d33c46",
   "metadata": {},
   "outputs": [],
   "source": [
    "def plot1(df , field = \"Distance\" , color = \"blue\" , label = \"fanfiction\" , threshold=None\n",
    "         ,save_format =\"jpg\" , filename=\"plot.jpg\" , out_path = \"/Images\" ):\n",
    "    # Create a figure and axis object\n",
    "    fig, ax = plt.subplots()\n",
    "\n",
    "    # Create a histogram of the \"distance\" column in df_fanfiction, colored blue\n",
    "    ax.hist(df[field], bins=30, alpha=0.5, color=color, label=label , range=[0, 1.5])\n",
    "        # Set the x and y axis labels\n",
    "    ax.set_xlabel(\"Distance\")\n",
    "    ax.set_ylabel(\"Frequency\")\n",
    "\n",
    "    # Add a legend\n",
    "    ax.legend()\n",
    "    if threshold is not None:\n",
    "        ax.axvline(x=threshold, color='black', linestyle='--')\n",
    "        ax.text(threshold, ax.get_ylim()[1]*1.05, f'Threshold: {threshold:.2f}', ha='center', va='top', fontsize=12)\n",
    "    fig.set_facecolor('white')\n",
    "    fig.savefig(os.path.join(out_path, filename), format=save_format , dpi=300)\n",
    "    # Show the plot\n",
    "    plt.show()"
   ]
  },
  {
   "cell_type": "code",
   "execution_count": 139,
   "id": "635fe3fe",
   "metadata": {},
   "outputs": [
    {
     "data": {
      "image/png": "[encoded data removed]",
      "text/plain": [
       "<Figure size 640x480 with 1 Axes>"
      ]
     },
     "metadata": {},
     "output_type": "display_data"
    }
   ],
   "source": [
    "plot1(nonpromptsdis, threshold=best_threshold ,\n",
    "      filename=key_word+\"-fanfiction_histogram.jpg\" , out_path = experimentpath+\"/Images\")"
   ]
  },
  {
   "cell_type": "code",
   "execution_count": 140,
   "id": "b3d18920",
   "metadata": {},
   "outputs": [
    {
     "data": {
      "image/png": "[encoded data removed]",
      "text/plain": [
       "<Figure size 640x480 with 1 Axes>"
      ]
     },
     "metadata": {},
     "output_type": "display_data"
    }
   ],
   "source": [
    "plot1(promptsdis ,color = \"red\" , label = \"Prompts\" , threshold=best_threshold,\n",
    "                             filename=key_word+\"-prompts_histogram.jpg\" , out_path = experimentpath+\"/Images\")"
   ]
  },
  {
   "cell_type": "markdown",
   "id": "a7594890",
   "metadata": {},
   "source": [
    "## Histogram of Writers"
   ]
  },
  {
   "cell_type": "code",
   "execution_count": 112,
   "id": "7a6a1e3b",
   "metadata": {},
   "outputs": [],
   "source": [
    "def makebigdf(folder_path ):\n",
    "    # List of all CSV files in the folder\n",
    "    csv_files = [f for f in os.listdir(folder_path) if f.endswith('.csv')]\n",
    "\n",
    "    # Initialize an empty list to store dataframes\n",
    "    dfs = []\n",
    "\n",
    "    # Iterate over each CSV file and read it into a dataframe\n",
    "    for file in csv_files:\n",
    "        file_path = os.path.join(folder_path, file)\n",
    "        df = pd.read_csv(file_path)\n",
    "        dfs.append(df)\n",
    "\n",
    "    # Concatenate all dataframes into one big dataframe\n",
    "    big_df = pd.concat(dfs, ignore_index=True)\n",
    "    return big_df"
   ]
  },
  {
   "cell_type": "code",
   "execution_count": 113,
   "id": "099ebd04",
   "metadata": {},
   "outputs": [],
   "source": [
    "bigDF = makebigdf(experimentpath+\"/Data/2Stories_OrLess_Undivided\")"
   ]
  },
  {
   "cell_type": "code",
   "execution_count": 114,
   "id": "6815bbce",
   "metadata": {},
   "outputs": [],
   "source": [
    "def entries_hist(df , field , title):\n",
    "    device_counts = df[field].value_counts()\n",
    "\n",
    "    # Create a bar chart of the device counts\n",
    "    device_counts.plot(kind=\"hist\")\n",
    "\n",
    "    # Add labels to the plot\n",
    "    plt.xlabel(\"Fan Fiction written\")\n",
    "    plt.ylabel(\"Number of Fanfiction Writters\")\n",
    "    plt.title(title)\n",
    "\n",
    "    # Display the plot\n",
    "    plt.show()"
   ]
  },
  {
   "cell_type": "code",
   "execution_count": 115,
   "id": "011d2c37",
   "metadata": {},
   "outputs": [
    {
     "data": {
      "image/png": "[encoded data removed]",
      "text/plain": [
       "<Figure size 640x480 with 1 Axes>"
      ]
     },
     "metadata": {},
     "output_type": "display_data"
    }
   ],
   "source": [
    "entries_hist(bigDF, \"Author URL\", \"Amount of Stories per User  Histogram\")"
   ]
  },
  {
   "cell_type": "code",
   "execution_count": 116,
   "id": "d074277d",
   "metadata": {},
   "outputs": [
    {
     "data": {
      "text/plain": [
       "pandas.core.frame.DataFrame"
      ]
     },
     "execution_count": 116,
     "metadata": {},
     "output_type": "execute_result"
    }
   ],
   "source": [
    "type(bigDF)"
   ]
  },
  {
   "cell_type": "code",
   "execution_count": 117,
   "id": "8c5be989",
   "metadata": {},
   "outputs": [
    {
     "data": {
      "text/plain": [
       "https://www.fanfiction.net/u/2373033/Ebaz                       2\n",
       "https://www.fanfiction.net/u/5304029/totheart                   2\n",
       "https://www.fanfiction.net/u/4490592/IgorThemii                 2\n",
       "https://www.fanfiction.net/u/5419210/incxndium                  2\n",
       "https://www.fanfiction.net/u/4460514/TheBitterSnow              2\n",
       "                                                               ..\n",
       "https://www.fanfiction.net/u/5760581/hemlockSindri              1\n",
       "https://www.fanfiction.net/u/3069625/HeroxPartnerfan96          1\n",
       "https://www.fanfiction.net/u/6199863/Heruseus                   1\n",
       "https://www.fanfiction.net/u/2544375/Hieisteel                  1\n",
       "https://www.fanfiction.net/u/5880161/StevenAndNathan-Fan-Fic    1\n",
       "Name: Author URL, Length: 949, dtype: int64"
      ]
     },
     "execution_count": 117,
     "metadata": {},
     "output_type": "execute_result"
    }
   ],
   "source": [
    "evice_counts = bigDF[\"Author URL\"].value_counts()\n",
    "evice_counts"
   ]
  },
  {
   "cell_type": "code",
   "execution_count": 118,
   "id": "67609440",
   "metadata": {},
   "outputs": [
    {
     "data": {
      "text/plain": [
       "https://www.fanfiction.net/u/2373033/Ebaz                   2\n",
       "https://www.fanfiction.net/u/5304029/totheart               2\n",
       "https://www.fanfiction.net/u/4490592/IgorThemii             2\n",
       "https://www.fanfiction.net/u/5419210/incxndium              2\n",
       "https://www.fanfiction.net/u/4460514/TheBitterSnow          2\n",
       "https://www.fanfiction.net/u/2539158/TheKeyToDestiny        2\n",
       "https://www.fanfiction.net/u/5675019/pikaree1               2\n",
       "https://www.fanfiction.net/u/1666528/pikachufanno9          2\n",
       "https://www.fanfiction.net/u/2706778/PettyFan43             2\n",
       "https://www.fanfiction.net/u/5041628/Empty-Corpse           2\n",
       "https://www.fanfiction.net/u/5551838/Brittannia-Angel       2\n",
       "https://www.fanfiction.net/u/4832096/Time-Signature         2\n",
       "https://www.fanfiction.net/u/5925303/PearlxAdvance          2\n",
       "https://www.fanfiction.net/u/6385448/Peanut-the-Elephant    2\n",
       "https://www.fanfiction.net/u/4768935/Topazique              2\n",
       "https://www.fanfiction.net/u/5590327/blazic                 2\n",
       "https://www.fanfiction.net/u/4418634/TuraHarmonia           2\n",
       "https://www.fanfiction.net/u/4666183/XicorE03               2\n",
       "https://www.fanfiction.net/u/2428045/bijou                  2\n",
       "https://www.fanfiction.net/u/6154462/untitledryan           2\n",
       "Name: Author URL, dtype: int64"
      ]
     },
     "execution_count": 118,
     "metadata": {},
     "output_type": "execute_result"
    }
   ],
   "source": [
    "evice_counts.head(20)"
   ]
  },
  {
   "cell_type": "code",
   "execution_count": 119,
   "id": "6534d05f",
   "metadata": {},
   "outputs": [
    {
     "data": {
      "text/plain": [
       "1035"
      ]
     },
     "execution_count": 119,
     "metadata": {},
     "output_type": "execute_result"
    }
   ],
   "source": [
    "evice_counts.sum()"
   ]
  },
  {
   "cell_type": "code",
   "execution_count": 120,
   "id": "1de5a6e8",
   "metadata": {},
   "outputs": [
    {
     "data": {
      "text/plain": [
       "949"
      ]
     },
     "execution_count": 120,
     "metadata": {},
     "output_type": "execute_result"
    }
   ],
   "source": [
    "len(evice_counts)"
   ]
  },
  {
   "cell_type": "markdown",
   "id": "ec268b64",
   "metadata": {},
   "source": [
    "## Write Summary"
   ]
  },
  {
   "cell_type": "code",
   "execution_count": 157,
   "id": "7c9a4028",
   "metadata": {},
   "outputs": [],
   "source": [
    "create_readme(key_word, experimentpath)"
   ]
  },
  {
   "cell_type": "code",
   "execution_count": 158,
   "id": "ff226b4a",
   "metadata": {},
   "outputs": [],
   "source": [
    "\n",
    "part1 =  f\"\"\"## Goal of the Experiment\n",
    "In this experiment we try to see if we can detect chatGPT written text on a topic using LPA.\n",
    "\n",
    "We have taken {evice_counts.sum()} stories written by {len(evice_counts)} different writers on {key_word}.\n",
    "\n",
    "We also took {len(prompts)} chatGPT written story on that same topic in order to compare the distances from the DVR in order to find the difference and the threshold between the human written text and the chatGPT written text.\n",
    "\n",
    "## Pre-Processing the Data\n",
    "The {key_word} Fan Fiction was taken and cleaned from archive.org at [fan fiction dump](https://archive.org/download/Fanfictiondotnet1011dump)\n",
    "- After downloading the raw data to the Dataset folder we unzip only the files with {key_word} in their name to Data/FanFictionTXT folder.\n",
    "- Since all thet files are in txt form and contain metadata we create from each text file a csv with all the data separated in Data/FanFictionCSV\n",
    "- We also create a prompts csv folder which contains each story and the prompt that created it in a unique csv file in Data/Prompts.\n",
    "- We calculate the minimum and maximum of words in each ChatGPT story in order to use only stories with similar sizes (between {min_length} and {max_length} words per story here)\n",
    "- We move only the stories with the appropriate sizes (+-50 words from the minimum and maximum) in Data/FanFictionNormalSizesCSV\n",
    "- We Divide All of the stories by authors each author gets a floder with his own folder in Data/Divided_by_authors\n",
    "- We Create a new folder with only the authors who have 2 stories or less in Data/authors_with_2Stories_OrLess\n",
    "- We take all the stories from authors_with_2Stories_OrLess and copy all of them into a new folder 2Stories_OrLess_Undivided which the DVR will be created from\n",
    "- We do a word frequency to the prompts authors_with_2Stories_OrLess and 2Stories_OrLess_Undivided each at a folder named word_freq in the respective folders\n",
    "\n",
    "## Running LPA\n",
    "After we have all the Data ready we are ready to run LPA and calculate distances\n",
    "- We run DVR on all the Human made FanFiction which is named {key_word}-dvr.csv this iis the vector we compare all the distances to.\n",
    "- We calculate and save the prompts DVR in Results/Prompts folder\n",
    "- We calculate the signatures of each story to the Signatures divided in 3 folders , prompts , authors and undivided by authors\n",
    "- We calculate the dvr of each author to Results\\Author_Results\n",
    "- We calculate the Distances into Results/Distances folder\n",
    "- We have distnces of prompts from human-dvr, distnces of human from human-dvr and distnces of prompts from prompts-dvr\n",
    "\n",
    "## Results\n",
    "\n",
    "### Distances\n",
    "The average distance of the real fanfiction from the DVR is: {nonpromptsdis[\"Distance\"].mean():.2f}\n",
    "The average distance of the poromts fanfiction from the DVR is: {promptsdis[\"Distance\"].mean():.2f}\n",
    "After running a t-test we we arrived at this conclusion at 95% certainty:\n",
    "{test_dataset_difference(nonpromptsdis, promptsdis)}\n",
    "\n",
    "The best range that found is {best_threshold:.2f} which means that {message}\n",
    "Our best f1 result was {best_f1:.2f} \n",
    "\n",
    "#### Results histograms\n",
    "The histograms images can be found at Images folders\n",
    "\n",
    "![](../{experimentpath.rsplit(\"/\", 1)[-1]+\"/Images/\"+ key_word+\"-fanfiction_histogram.jpg\"})\n",
    "\n",
    "![](../{experimentpath.rsplit(\"/\", 1)[-1]+\"/Images/\"+ key_word+\"-prompts_histogram.jpg\"})\n",
    "\n",
    "![](../{experimentpath.rsplit(\"/\", 1)[-1]+\"/Images/\"+ key_word+\"-both_histogram.jpg\"})\n",
    "\"\"\""
   ]
  },
  {
   "cell_type": "code",
   "execution_count": 159,
   "id": "19adf596",
   "metadata": {},
   "outputs": [],
   "source": [
    "append_to_readme(part1, experimentpath+'/README.md')"
   ]
  },
  {
   "cell_type": "code",
   "execution_count": null,
   "id": "8115ab42",
   "metadata": {},
   "outputs": [],
   "source": []
  },
  {
   "cell_type": "code",
   "execution_count": null,
   "id": "c372d488",
   "metadata": {},
   "outputs": [],
   "source": []
  },
  {
   "cell_type": "code",
   "execution_count": null,
   "id": "d0206bc0",
   "metadata": {},
   "outputs": [],
   "source": []
  },
  {
   "cell_type": "code",
   "execution_count": null,
   "id": "327d9587",
   "metadata": {},
   "outputs": [],
   "source": []
  }
 ],
 "metadata": {
  "kernelspec": {
   "display_name": "Python 3 (ipykernel)",
   "language": "python",
   "name": "python3"
  },
  "language_info": {
   "codemirror_mode": {
    "name": "ipython",
    "version": 3
   },
   "file_extension": ".py",
   "mimetype": "text/x-python",
   "name": "python",
   "nbconvert_exporter": "python",
   "pygments_lexer": "ipython3",
   "version": "3.8.2"
  }
 },
 "nbformat": 4,
 "nbformat_minor": 5
}
