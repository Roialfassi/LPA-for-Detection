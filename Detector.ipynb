{
 "cells": [
  {
   "cell_type": "code",
   "execution_count": 1,
   "id": "edd89864",
   "metadata": {},
   "outputs": [],
   "source": [
    "import os\n",
    "import pandas as pd\n",
    "from sklearn.feature_extraction.text import CountVectorizer\n",
    "from sklearn.ensemble import RandomForestClassifier\n",
    "\n",
    "class FolderClassifier:\n",
    "    def __init__(self):\n",
    "        self.vectorizer = CountVectorizer()\n",
    "        self.classifier = RandomForestClassifier()\n",
    "\n",
    "    def _load_dataframe(self, file_path):\n",
    "        df = pd.read_csv(file_path, header=None)\n",
    "        return df\n",
    "\n",
    "    def _prepare_data(self, folder_path):\n",
    "        X = []\n",
    "        y = []\n",
    "        for root, dirs, files in os.walk(folder_path):\n",
    "            for file_name in files:\n",
    "                file_path = os.path.join(root, file_name)\n",
    "                folder_name = os.path.basename(os.path.dirname(file_path))\n",
    "                df = self._load_dataframe(file_path)\n",
    "                words = df.iloc[:, 0].astype(str).tolist()\n",
    "                X.append(\" \".join(words))\n",
    "                y.append(folder_name)\n",
    "        return X, y\n",
    "\n",
    "    def train(self, folder1_path, folder2_path):\n",
    "        X1, y1 = self._prepare_data(folder1_path)\n",
    "        X2, y2 = self._prepare_data(folder2_path)\n",
    "        X = X1 + X2\n",
    "        y = y1 + y2\n",
    "        X = self.vectorizer.fit_transform(X)\n",
    "        self.classifier.fit(X, y)\n",
    "\n",
    "    def predict(self, file_path):\n",
    "        df = self._load_dataframe(file_path)\n",
    "        words = df.iloc[:, 0].astype(str).tolist()\n",
    "        X = self.vectorizer.transform([\" \".join(words)])\n",
    "        prediction = self.classifier.predict(X)\n",
    "        return prediction[0]\n",
    "    def save_model(self, file_path):\n",
    "        dump((self.vectorizer, self.classifier), file_path)\n",
    "\n",
    "    def load_model(self, file_path):\n",
    "        self.vectorizer, self.classifier = load(file_path)\n"
   ]
  },
  {
   "cell_type": "code",
   "execution_count": 11,
   "id": "ff7ce8c1",
   "metadata": {},
   "outputs": [],
   "source": [
    "import os\n",
    "import pandas as pd\n",
    "\n",
    "def predict_folder(test_folder, model):\n",
    "    file_predictions = []\n",
    "    for root, dirs, files in os.walk(test_folder):\n",
    "        for file_name in files:\n",
    "            file_path = os.path.join(root, file_name)\n",
    "            prediction = model.predict(file_path)\n",
    "            file_predictions.append((file_name, prediction))\n",
    "    df = pd.DataFrame(file_predictions, columns=['File Name', 'Prediction'])\n",
    "    return df\n"
   ]
  },
  {
   "cell_type": "code",
   "execution_count": 20,
   "id": "1f21a210",
   "metadata": {},
   "outputs": [],
   "source": [
    "def add_label_column(dataframe):\n",
    "    dataframe[\"Label\"] = dataframe[\"File Name\"].apply(lambda x: \"GPT\" if x.lower().startswith(\"write me\") else \"Real\")\n",
    "    return dataframe\n"
   ]
  },
  {
   "cell_type": "code",
   "execution_count": 50,
   "id": "b3f910ee",
   "metadata": {},
   "outputs": [],
   "source": [
    "import numpy as np\n",
    "import pandas as pd\n",
    "import seaborn as sns\n",
    "import matplotlib.pyplot as plt\n",
    "from sklearn.metrics import accuracy_score, confusion_matrix\n",
    "\n",
    "def evaluate_predictions(df):\n",
    "    y_true = df['Label'].values\n",
    "    y_pred = df['Prediction'].values\n",
    "\n",
    "    # Calculate accuracy\n",
    "    accuracy = accuracy_score(y_true, y_pred)\n",
    "\n",
    "    # Create confusion matrix\n",
    "    confusion = confusion_matrix(y_true, y_pred)\n",
    "    labels = np.unique(df[['Label', 'Prediction']].values)\n",
    "    cm_df = pd.DataFrame(confusion, index=labels, columns=labels)\n",
    "\n",
    "    # Plot confusion matrix\n",
    "    plt.figure(figsize=(8, 6))\n",
    "    sns.heatmap(cm_df, annot=True, fmt=\"d\", cmap='Blues')\n",
    "    plt.title(\"Confusion Matrix\")\n",
    "    plt.xlabel(\"Predicted\")\n",
    "    plt.ylabel(\"Actual\")\n",
    "    plt.show()\n",
    "\n",
    "    return accuracy, cm_df\n"
   ]
  },
  {
   "cell_type": "code",
   "execution_count": 3,
   "id": "abe764ac",
   "metadata": {},
   "outputs": [],
   "source": [
    "fp = r'Experiments\\Model-Data-Gathering1\\Harry_Potter\\experiment-1\\Signatures\\Harry Potter - Blue Crows - Danielle Riddle.csv-Signature.csv'\n"
   ]
  },
  {
   "cell_type": "code",
   "execution_count": 4,
   "id": "39276ee1",
   "metadata": {},
   "outputs": [
    {
     "name": "stdout",
     "output_type": "stream",
     "text": [
      "Predicted folder: Real\n"
     ]
    }
   ],
   "source": [
    "# Predict the folder for a new dataframe\n",
    "predicted_folder = classifier.predict(fp)\n",
    "print(f\"Predicted folder: {predicted_folder}\")"
   ]
  },
  {
   "cell_type": "code",
   "execution_count": 31,
   "id": "4bf813e0",
   "metadata": {},
   "outputs": [],
   "source": [
    "def model_wrapper(real_path , gpt_path, test_path):\n",
    "    model = FolderClassifier()\n",
    "    model.train(real_path, gpt_path)\n",
    "    res = predict_folder(test_path , model)\n",
    "    res = add_label_column(res)\n",
    "    accuracy, confusion_matrix = evaluate_predictions(res.copy())\n",
    "    print(\"Accuracy Score is: \", accuracy)\n",
    "    return res , model"
   ]
  },
  {
   "cell_type": "code",
   "execution_count": null,
   "id": "68a2f570",
   "metadata": {},
   "outputs": [],
   "source": []
  },
  {
   "cell_type": "markdown",
   "id": "85ee61df",
   "metadata": {},
   "source": [
    "## Harry - Potter Model"
   ]
  },
  {
   "cell_type": "code",
   "execution_count": 41,
   "id": "cf1ced5b",
   "metadata": {},
   "outputs": [],
   "source": [
    "\n",
    "# Example usage\n",
    "harry_model = FolderClassifier()\n",
    "\n",
    "# Train the classifier\n",
    "folder1_path = r'Data-For-Model\\Harry_Potter\\Real'\n",
    "folder2_path = r'Data-For-Model\\Harry_Potter\\GPT'\n",
    "test_path = r'Data-For-Model\\Harry_Potter\\Test'\n",
    "harry_model.train(folder1_path, folder2_path)\n",
    "\n",
    "\n"
   ]
  },
  {
   "cell_type": "code",
   "execution_count": 42,
   "id": "bb5118ff",
   "metadata": {},
   "outputs": [],
   "source": [
    "h_potter_res = predict_folder(test_path,harry_model)"
   ]
  },
  {
   "cell_type": "code",
   "execution_count": 43,
   "id": "aaae81bd",
   "metadata": {},
   "outputs": [
    {
     "data": {
      "text/html": [
       "<div>\n",
       "<style scoped>\n",
       "    .dataframe tbody tr th:only-of-type {\n",
       "        vertical-align: middle;\n",
       "    }\n",
       "\n",
       "    .dataframe tbody tr th {\n",
       "        vertical-align: top;\n",
       "    }\n",
       "\n",
       "    .dataframe thead th {\n",
       "        text-align: right;\n",
       "    }\n",
       "</style>\n",
       "<table border=\"1\" class=\"dataframe\">\n",
       "  <thead>\n",
       "    <tr style=\"text-align: right;\">\n",
       "      <th></th>\n",
       "      <th>File Name</th>\n",
       "      <th>Prediction</th>\n",
       "    </tr>\n",
       "  </thead>\n",
       "  <tbody>\n",
       "    <tr>\n",
       "      <th>0</th>\n",
       "      <td>Harry Potter - Quill of the King - History can...</td>\n",
       "      <td>Real</td>\n",
       "    </tr>\n",
       "    <tr>\n",
       "      <th>1</th>\n",
       "      <td>Harry Potter - Quill's And Parchment - I Am Re...</td>\n",
       "      <td>Real</td>\n",
       "    </tr>\n",
       "    <tr>\n",
       "      <th>2</th>\n",
       "      <td>Harry Potter - Quills-messyhands - Potion Fail...</td>\n",
       "      <td>Real</td>\n",
       "    </tr>\n",
       "    <tr>\n",
       "      <th>3</th>\n",
       "      <td>Harry Potter - quillstrike - Outtakes.csv-Sign...</td>\n",
       "      <td>Real</td>\n",
       "    </tr>\n",
       "    <tr>\n",
       "      <th>4</th>\n",
       "      <td>Harry Potter - Qwerts - Fire's Shadow.csv-Sign...</td>\n",
       "      <td>Real</td>\n",
       "    </tr>\n",
       "    <tr>\n",
       "      <th>...</th>\n",
       "      <td>...</td>\n",
       "      <td>...</td>\n",
       "    </tr>\n",
       "    <tr>\n",
       "      <th>88</th>\n",
       "      <td>Write me a fan fiction about How Harry Potter ...</td>\n",
       "      <td>Real</td>\n",
       "    </tr>\n",
       "    <tr>\n",
       "      <th>89</th>\n",
       "      <td>Write me a fan fiction about Hufflepuff gettin...</td>\n",
       "      <td>GPT</td>\n",
       "    </tr>\n",
       "    <tr>\n",
       "      <th>90</th>\n",
       "      <td>Write me a fan fiction about Ron Wiseley's old...</td>\n",
       "      <td>GPT</td>\n",
       "    </tr>\n",
       "    <tr>\n",
       "      <th>91</th>\n",
       "      <td>Write me a fan fiction about Ron Wiseley's you...</td>\n",
       "      <td>Real</td>\n",
       "    </tr>\n",
       "    <tr>\n",
       "      <th>92</th>\n",
       "      <td>write me a fan fiction about the Malfoys havin...</td>\n",
       "      <td>Real</td>\n",
       "    </tr>\n",
       "  </tbody>\n",
       "</table>\n",
       "<p>93 rows × 2 columns</p>\n",
       "</div>"
      ],
      "text/plain": [
       "                                            File Name Prediction\n",
       "0   Harry Potter - Quill of the King - History can...       Real\n",
       "1   Harry Potter - Quill's And Parchment - I Am Re...       Real\n",
       "2   Harry Potter - Quills-messyhands - Potion Fail...       Real\n",
       "3   Harry Potter - quillstrike - Outtakes.csv-Sign...       Real\n",
       "4   Harry Potter - Qwerts - Fire's Shadow.csv-Sign...       Real\n",
       "..                                                ...        ...\n",
       "88  Write me a fan fiction about How Harry Potter ...       Real\n",
       "89  Write me a fan fiction about Hufflepuff gettin...        GPT\n",
       "90  Write me a fan fiction about Ron Wiseley's old...        GPT\n",
       "91  Write me a fan fiction about Ron Wiseley's you...       Real\n",
       "92  write me a fan fiction about the Malfoys havin...       Real\n",
       "\n",
       "[93 rows x 2 columns]"
      ]
     },
     "execution_count": 43,
     "metadata": {},
     "output_type": "execute_result"
    }
   ],
   "source": [
    "h_potter_res"
   ]
  },
  {
   "cell_type": "code",
   "execution_count": 44,
   "id": "79281936",
   "metadata": {},
   "outputs": [],
   "source": [
    "h_potter_res = add_label_column(h_potter_res.copy())"
   ]
  },
  {
   "cell_type": "code",
   "execution_count": 45,
   "id": "a4d6fc3c",
   "metadata": {},
   "outputs": [
    {
     "data": {
      "text/html": [
       "<div>\n",
       "<style scoped>\n",
       "    .dataframe tbody tr th:only-of-type {\n",
       "        vertical-align: middle;\n",
       "    }\n",
       "\n",
       "    .dataframe tbody tr th {\n",
       "        vertical-align: top;\n",
       "    }\n",
       "\n",
       "    .dataframe thead th {\n",
       "        text-align: right;\n",
       "    }\n",
       "</style>\n",
       "<table border=\"1\" class=\"dataframe\">\n",
       "  <thead>\n",
       "    <tr style=\"text-align: right;\">\n",
       "      <th></th>\n",
       "      <th>File Name</th>\n",
       "      <th>Prediction</th>\n",
       "      <th>Label</th>\n",
       "    </tr>\n",
       "  </thead>\n",
       "  <tbody>\n",
       "    <tr>\n",
       "      <th>0</th>\n",
       "      <td>Harry Potter - Quill of the King - History can...</td>\n",
       "      <td>Real</td>\n",
       "      <td>Real</td>\n",
       "    </tr>\n",
       "    <tr>\n",
       "      <th>1</th>\n",
       "      <td>Harry Potter - Quill's And Parchment - I Am Re...</td>\n",
       "      <td>Real</td>\n",
       "      <td>Real</td>\n",
       "    </tr>\n",
       "    <tr>\n",
       "      <th>2</th>\n",
       "      <td>Harry Potter - Quills-messyhands - Potion Fail...</td>\n",
       "      <td>Real</td>\n",
       "      <td>Real</td>\n",
       "    </tr>\n",
       "    <tr>\n",
       "      <th>3</th>\n",
       "      <td>Harry Potter - quillstrike - Outtakes.csv-Sign...</td>\n",
       "      <td>Real</td>\n",
       "      <td>Real</td>\n",
       "    </tr>\n",
       "    <tr>\n",
       "      <th>4</th>\n",
       "      <td>Harry Potter - Qwerts - Fire's Shadow.csv-Sign...</td>\n",
       "      <td>Real</td>\n",
       "      <td>Real</td>\n",
       "    </tr>\n",
       "    <tr>\n",
       "      <th>...</th>\n",
       "      <td>...</td>\n",
       "      <td>...</td>\n",
       "      <td>...</td>\n",
       "    </tr>\n",
       "    <tr>\n",
       "      <th>88</th>\n",
       "      <td>Write me a fan fiction about How Harry Potter ...</td>\n",
       "      <td>Real</td>\n",
       "      <td>GPT</td>\n",
       "    </tr>\n",
       "    <tr>\n",
       "      <th>89</th>\n",
       "      <td>Write me a fan fiction about Hufflepuff gettin...</td>\n",
       "      <td>GPT</td>\n",
       "      <td>GPT</td>\n",
       "    </tr>\n",
       "    <tr>\n",
       "      <th>90</th>\n",
       "      <td>Write me a fan fiction about Ron Wiseley's old...</td>\n",
       "      <td>GPT</td>\n",
       "      <td>GPT</td>\n",
       "    </tr>\n",
       "    <tr>\n",
       "      <th>91</th>\n",
       "      <td>Write me a fan fiction about Ron Wiseley's you...</td>\n",
       "      <td>Real</td>\n",
       "      <td>GPT</td>\n",
       "    </tr>\n",
       "    <tr>\n",
       "      <th>92</th>\n",
       "      <td>write me a fan fiction about the Malfoys havin...</td>\n",
       "      <td>Real</td>\n",
       "      <td>GPT</td>\n",
       "    </tr>\n",
       "  </tbody>\n",
       "</table>\n",
       "<p>93 rows × 3 columns</p>\n",
       "</div>"
      ],
      "text/plain": [
       "                                            File Name Prediction Label\n",
       "0   Harry Potter - Quill of the King - History can...       Real  Real\n",
       "1   Harry Potter - Quill's And Parchment - I Am Re...       Real  Real\n",
       "2   Harry Potter - Quills-messyhands - Potion Fail...       Real  Real\n",
       "3   Harry Potter - quillstrike - Outtakes.csv-Sign...       Real  Real\n",
       "4   Harry Potter - Qwerts - Fire's Shadow.csv-Sign...       Real  Real\n",
       "..                                                ...        ...   ...\n",
       "88  Write me a fan fiction about How Harry Potter ...       Real   GPT\n",
       "89  Write me a fan fiction about Hufflepuff gettin...        GPT   GPT\n",
       "90  Write me a fan fiction about Ron Wiseley's old...        GPT   GPT\n",
       "91  Write me a fan fiction about Ron Wiseley's you...       Real   GPT\n",
       "92  write me a fan fiction about the Malfoys havin...       Real   GPT\n",
       "\n",
       "[93 rows x 3 columns]"
      ]
     },
     "execution_count": 45,
     "metadata": {},
     "output_type": "execute_result"
    }
   ],
   "source": [
    "h_potter_res"
   ]
  },
  {
   "cell_type": "code",
   "execution_count": 46,
   "id": "7de3e389",
   "metadata": {},
   "outputs": [
    {
     "data": {
      "image/png": "[encoded data removed]",
      "text/plain": [
       "<Figure size 576x432 with 2 Axes>"
      ]
     },
     "metadata": {
      "needs_background": "light"
     },
     "output_type": "display_data"
    }
   ],
   "source": [
    "accuracy, confusion_matrix = evaluate_predictions(h_potter_res)"
   ]
  },
  {
   "cell_type": "code",
   "execution_count": 53,
   "id": "8cd8d71e",
   "metadata": {},
   "outputs": [
    {
     "name": "stdout",
     "output_type": "stream",
     "text": [
      "<function confusion_matrix at 0x000001E8AAD9DCA0>\n"
     ]
    }
   ],
   "source": [
    "print(confusion_matrix)"
   ]
  },
  {
   "cell_type": "code",
   "execution_count": 47,
   "id": "c2e5437e",
   "metadata": {},
   "outputs": [
    {
     "data": {
      "text/plain": [
       "0.9247311827956989"
      ]
     },
     "execution_count": 47,
     "metadata": {},
     "output_type": "execute_result"
    }
   ],
   "source": [
    "accuracy"
   ]
  },
  {
   "cell_type": "markdown",
   "id": "9d454199",
   "metadata": {},
   "source": [
    "## Warcraft"
   ]
  },
  {
   "cell_type": "code",
   "execution_count": 29,
   "id": "4487e51f",
   "metadata": {},
   "outputs": [],
   "source": [
    "# Train the classifier\n",
    "w_real_path = r'Data-For-Model\\Warcraft\\Real'\n",
    "w_gpt_path = r'Data-For-Model\\Warcraft\\GPT'\n",
    "w_test_path = r'Data-For-Model\\Warcraft\\Test'\n",
    "\n",
    "\n"
   ]
  },
  {
   "cell_type": "code",
   "execution_count": 34,
   "id": "cc66fe85",
   "metadata": {},
   "outputs": [
    {
     "data": {
      "image/png": "[encoded data removed]",
      "text/plain": [
       "<Figure size 576x432 with 2 Axes>"
      ]
     },
     "metadata": {
      "needs_background": "light"
     },
     "output_type": "display_data"
    },
    {
     "name": "stdout",
     "output_type": "stream",
     "text": [
      "Accuracy Score is:  1.0\n"
     ]
    }
   ],
   "source": [
    "w_res , w_model = model_wrapper(w_real_path , w_gpt_path, w_test_path)"
   ]
  },
  {
   "cell_type": "markdown",
   "id": "69a8119b",
   "metadata": {},
   "source": [
    "## twilight"
   ]
  },
  {
   "cell_type": "code",
   "execution_count": 35,
   "id": "a8725812",
   "metadata": {},
   "outputs": [],
   "source": [
    "# Train the classifier\n",
    "tw_real_path = r'Data-For-Model\\twilight\\Real'\n",
    "tw_gpt_path = r'Data-For-Model\\twilight\\GPT'\n",
    "tw_test_path = r'Data-For-Model\\twilight\\Test'\n"
   ]
  },
  {
   "cell_type": "code",
   "execution_count": 36,
   "id": "c1ffcd70",
   "metadata": {},
   "outputs": [
    {
     "data": {
      "image/png": "[encoded data removed]",
      "text/plain": [
       "<Figure size 576x432 with 2 Axes>"
      ]
     },
     "metadata": {
      "needs_background": "light"
     },
     "output_type": "display_data"
    },
    {
     "name": "stdout",
     "output_type": "stream",
     "text": [
      "Accuracy Score is:  1.0\n"
     ]
    }
   ],
   "source": [
    "tw_res , tw_model = model_wrapper(tw_real_path , tw_gpt_path, tw_test_path)"
   ]
  },
  {
   "cell_type": "code",
   "execution_count": 58,
   "id": "56729418",
   "metadata": {},
   "outputs": [
    {
     "data": {
      "text/html": [
       "<div>\n",
       "<style scoped>\n",
       "    .dataframe tbody tr th:only-of-type {\n",
       "        vertical-align: middle;\n",
       "    }\n",
       "\n",
       "    .dataframe tbody tr th {\n",
       "        vertical-align: top;\n",
       "    }\n",
       "\n",
       "    .dataframe thead th {\n",
       "        text-align: right;\n",
       "    }\n",
       "</style>\n",
       "<table border=\"1\" class=\"dataframe\">\n",
       "  <thead>\n",
       "    <tr style=\"text-align: right;\">\n",
       "      <th></th>\n",
       "      <th>File Name</th>\n",
       "      <th>Prediction</th>\n",
       "      <th>Label</th>\n",
       "    </tr>\n",
       "  </thead>\n",
       "  <tbody>\n",
       "    <tr>\n",
       "      <th>0</th>\n",
       "      <td>Twilight - ttfan111robstar1 - Mommy_ Please Do...</td>\n",
       "      <td>Real</td>\n",
       "      <td>Real</td>\n",
       "    </tr>\n",
       "    <tr>\n",
       "      <th>1</th>\n",
       "      <td>Twilight - ttfan111robstar1 - You Made Us Who ...</td>\n",
       "      <td>Real</td>\n",
       "      <td>Real</td>\n",
       "    </tr>\n",
       "    <tr>\n",
       "      <th>2</th>\n",
       "      <td>Twilight - TTJColeman - True Love.csv-Signatur...</td>\n",
       "      <td>Real</td>\n",
       "      <td>Real</td>\n",
       "    </tr>\n",
       "    <tr>\n",
       "      <th>3</th>\n",
       "      <td>Twilight - TTJColeman - When Fire Meets Ice.cs...</td>\n",
       "      <td>Real</td>\n",
       "      <td>Real</td>\n",
       "    </tr>\n",
       "    <tr>\n",
       "      <th>4</th>\n",
       "      <td>Twilight - TurnItUp03 - Meant To Be.csv-Signat...</td>\n",
       "      <td>Real</td>\n",
       "      <td>Real</td>\n",
       "    </tr>\n",
       "    <tr>\n",
       "      <th>...</th>\n",
       "      <td>...</td>\n",
       "      <td>...</td>\n",
       "      <td>...</td>\n",
       "    </tr>\n",
       "    <tr>\n",
       "      <th>56</th>\n",
       "      <td>Write me a Twilight fan fiction about a signif...</td>\n",
       "      <td>GPT</td>\n",
       "      <td>GPT</td>\n",
       "    </tr>\n",
       "    <tr>\n",
       "      <th>57</th>\n",
       "      <td>Write me a Twilight fan fiction about a surpri...</td>\n",
       "      <td>GPT</td>\n",
       "      <td>GPT</td>\n",
       "    </tr>\n",
       "    <tr>\n",
       "      <th>58</th>\n",
       "      <td>Write me a Twilight fan fiction about a time w...</td>\n",
       "      <td>GPT</td>\n",
       "      <td>GPT</td>\n",
       "    </tr>\n",
       "    <tr>\n",
       "      <th>59</th>\n",
       "      <td>Write me a Twilight fan fiction about a timetr...</td>\n",
       "      <td>GPT</td>\n",
       "      <td>GPT</td>\n",
       "    </tr>\n",
       "    <tr>\n",
       "      <th>60</th>\n",
       "      <td>Write me a Twilight fan fiction about a vampir...</td>\n",
       "      <td>GPT</td>\n",
       "      <td>GPT</td>\n",
       "    </tr>\n",
       "  </tbody>\n",
       "</table>\n",
       "<p>61 rows × 3 columns</p>\n",
       "</div>"
      ],
      "text/plain": [
       "                                            File Name Prediction Label\n",
       "0   Twilight - ttfan111robstar1 - Mommy_ Please Do...       Real  Real\n",
       "1   Twilight - ttfan111robstar1 - You Made Us Who ...       Real  Real\n",
       "2   Twilight - TTJColeman - True Love.csv-Signatur...       Real  Real\n",
       "3   Twilight - TTJColeman - When Fire Meets Ice.cs...       Real  Real\n",
       "4   Twilight - TurnItUp03 - Meant To Be.csv-Signat...       Real  Real\n",
       "..                                                ...        ...   ...\n",
       "56  Write me a Twilight fan fiction about a signif...        GPT   GPT\n",
       "57  Write me a Twilight fan fiction about a surpri...        GPT   GPT\n",
       "58  Write me a Twilight fan fiction about a time w...        GPT   GPT\n",
       "59  Write me a Twilight fan fiction about a timetr...        GPT   GPT\n",
       "60  Write me a Twilight fan fiction about a vampir...        GPT   GPT\n",
       "\n",
       "[61 rows x 3 columns]"
      ]
     },
     "execution_count": 58,
     "metadata": {},
     "output_type": "execute_result"
    }
   ],
   "source": [
    "tw_res"
   ]
  },
  {
   "cell_type": "markdown",
   "id": "1a74fac9",
   "metadata": {},
   "source": [
    "## pok_mon"
   ]
  },
  {
   "cell_type": "code",
   "execution_count": 37,
   "id": "c4680f96",
   "metadata": {},
   "outputs": [],
   "source": [
    "# Train the classifier\n",
    "p_real_path = r'Data-For-Model\\pok_mon\\Real'\n",
    "p_gpt_path = r'Data-For-Model\\pok_mon\\GPT'\n",
    "p_test_path = r'Data-For-Model\\pok_mon\\Test'"
   ]
  },
  {
   "cell_type": "code",
   "execution_count": 38,
   "id": "e01bc1fd",
   "metadata": {},
   "outputs": [
    {
     "data": {
      "image/png": "[encoded data removed]",
      "text/plain": [
       "<Figure size 576x432 with 2 Axes>"
      ]
     },
     "metadata": {
      "needs_background": "light"
     },
     "output_type": "display_data"
    },
    {
     "name": "stdout",
     "output_type": "stream",
     "text": [
      "Accuracy Score is:  0.9777777777777777\n"
     ]
    }
   ],
   "source": [
    "p_res , p_model = model_wrapper(p_real_path , p_gpt_path, p_test_path)"
   ]
  },
  {
   "cell_type": "markdown",
   "id": "0157081a",
   "metadata": {},
   "source": [
    "### lord_of_the_rings"
   ]
  },
  {
   "cell_type": "code",
   "execution_count": 59,
   "id": "cbff195d",
   "metadata": {},
   "outputs": [],
   "source": [
    "# Train the classifier\n",
    "lotr_real_path = r'Data-For-Model\\lord_of_the_rings\\Real'\n",
    "lotr_gpt_path = r'Data-For-Model\\lord_of_the_rings\\GPT'\n",
    "lotr_test_path = r'Data-For-Model\\lord_of_the_rings\\Test'"
   ]
  },
  {
   "cell_type": "code",
   "execution_count": 60,
   "id": "739759d8",
   "metadata": {},
   "outputs": [
    {
     "data": {
      "image/png": "[encoded data removed]",
      "text/plain": [
       "<Figure size 576x432 with 2 Axes>"
      ]
     },
     "metadata": {
      "needs_background": "light"
     },
     "output_type": "display_data"
    },
    {
     "name": "stdout",
     "output_type": "stream",
     "text": [
      "Accuracy Score is:  0.9615384615384616\n"
     ]
    }
   ],
   "source": [
    "lotr_res , lotr_model = model_wrapper(lotr_real_path , lotr_gpt_path, lotr_test_path)"
   ]
  },
  {
   "cell_type": "code",
   "execution_count": 61,
   "id": "a3dd279e",
   "metadata": {},
   "outputs": [
    {
     "data": {
      "text/html": [
       "<div>\n",
       "<style scoped>\n",
       "    .dataframe tbody tr th:only-of-type {\n",
       "        vertical-align: middle;\n",
       "    }\n",
       "\n",
       "    .dataframe tbody tr th {\n",
       "        vertical-align: top;\n",
       "    }\n",
       "\n",
       "    .dataframe thead th {\n",
       "        text-align: right;\n",
       "    }\n",
       "</style>\n",
       "<table border=\"1\" class=\"dataframe\">\n",
       "  <thead>\n",
       "    <tr style=\"text-align: right;\">\n",
       "      <th></th>\n",
       "      <th>File Name</th>\n",
       "      <th>Prediction</th>\n",
       "      <th>Label</th>\n",
       "    </tr>\n",
       "  </thead>\n",
       "  <tbody>\n",
       "    <tr>\n",
       "      <th>0</th>\n",
       "      <td>Lord of the Rings - d'elfe - Innocence's journ...</td>\n",
       "      <td>Real</td>\n",
       "      <td>Real</td>\n",
       "    </tr>\n",
       "    <tr>\n",
       "      <th>1</th>\n",
       "      <td>Lord of the Rings - D.L. Fercy - The Lost Chil...</td>\n",
       "      <td>Real</td>\n",
       "      <td>Real</td>\n",
       "    </tr>\n",
       "    <tr>\n",
       "      <th>2</th>\n",
       "      <td>Lord of the Rings - Da.Hybrid.Queen - My Broth...</td>\n",
       "      <td>Real</td>\n",
       "      <td>Real</td>\n",
       "    </tr>\n",
       "    <tr>\n",
       "      <th>3</th>\n",
       "      <td>Lord of the Rings - Daeril Ullothwen - More Th...</td>\n",
       "      <td>Real</td>\n",
       "      <td>Real</td>\n",
       "    </tr>\n",
       "    <tr>\n",
       "      <th>4</th>\n",
       "      <td>Lord of the Rings - Dagorloth - An Innocent Ga...</td>\n",
       "      <td>Real</td>\n",
       "      <td>Real</td>\n",
       "    </tr>\n",
       "    <tr>\n",
       "      <th>5</th>\n",
       "      <td>Lord of the Rings - Dance of the Dead - White ...</td>\n",
       "      <td>Real</td>\n",
       "      <td>Real</td>\n",
       "    </tr>\n",
       "    <tr>\n",
       "      <th>6</th>\n",
       "      <td>Lord of the Rings - Dancing like Garrus - Drin...</td>\n",
       "      <td>Real</td>\n",
       "      <td>Real</td>\n",
       "    </tr>\n",
       "    <tr>\n",
       "      <th>7</th>\n",
       "      <td>Lord of the Rings - DancingChestnut - Wanderin...</td>\n",
       "      <td>Real</td>\n",
       "      <td>Real</td>\n",
       "    </tr>\n",
       "    <tr>\n",
       "      <th>8</th>\n",
       "      <td>Lord of the Rings - Danigirltuesday - Among th...</td>\n",
       "      <td>Real</td>\n",
       "      <td>Real</td>\n",
       "    </tr>\n",
       "    <tr>\n",
       "      <th>9</th>\n",
       "      <td>Lord of the Rings - dansesinfernale - unrequit...</td>\n",
       "      <td>Real</td>\n",
       "      <td>Real</td>\n",
       "    </tr>\n",
       "    <tr>\n",
       "      <th>10</th>\n",
       "      <td>Lord of the Rings - Dark Sweetheart - A Shade ...</td>\n",
       "      <td>Real</td>\n",
       "      <td>Real</td>\n",
       "    </tr>\n",
       "    <tr>\n",
       "      <th>11</th>\n",
       "      <td>Lord of the Rings - Dark Sweetheart - Bleeding...</td>\n",
       "      <td>Real</td>\n",
       "      <td>Real</td>\n",
       "    </tr>\n",
       "    <tr>\n",
       "      <th>12</th>\n",
       "      <td>Lord of the Rings - darkwolf76 - Ranger.csv-Si...</td>\n",
       "      <td>Real</td>\n",
       "      <td>Real</td>\n",
       "    </tr>\n",
       "    <tr>\n",
       "      <th>13</th>\n",
       "      <td>Lord of the Rings - Daryl-Dixon'z Girl - Girl ...</td>\n",
       "      <td>Real</td>\n",
       "      <td>Real</td>\n",
       "    </tr>\n",
       "    <tr>\n",
       "      <th>14</th>\n",
       "      <td>Lord of the Rings - Dawnpath - Dawn.csv-Signat...</td>\n",
       "      <td>Real</td>\n",
       "      <td>Real</td>\n",
       "    </tr>\n",
       "    <tr>\n",
       "      <th>15</th>\n",
       "      <td>Lord of the Rings - DawnsEmbrace 11 - A Shock ...</td>\n",
       "      <td>Real</td>\n",
       "      <td>Real</td>\n",
       "    </tr>\n",
       "    <tr>\n",
       "      <th>16</th>\n",
       "      <td>Lord of the Rings - daydreaming-reality - Free...</td>\n",
       "      <td>Real</td>\n",
       "      <td>Real</td>\n",
       "    </tr>\n",
       "    <tr>\n",
       "      <th>17</th>\n",
       "      <td>Lord of the Rings - daydreamingbadwolf - Immor...</td>\n",
       "      <td>Real</td>\n",
       "      <td>Real</td>\n",
       "    </tr>\n",
       "    <tr>\n",
       "      <th>18</th>\n",
       "      <td>Lord of the Rings - DaynaWayna - Laurelin.csv-...</td>\n",
       "      <td>Real</td>\n",
       "      <td>Real</td>\n",
       "    </tr>\n",
       "    <tr>\n",
       "      <th>19</th>\n",
       "      <td>Lord of the Rings - Dcoop7400 - An Arrow in th...</td>\n",
       "      <td>Real</td>\n",
       "      <td>Real</td>\n",
       "    </tr>\n",
       "    <tr>\n",
       "      <th>20</th>\n",
       "      <td>Lord of the Rings - DefyingDeath222 - Fading H...</td>\n",
       "      <td>Real</td>\n",
       "      <td>Real</td>\n",
       "    </tr>\n",
       "    <tr>\n",
       "      <th>21</th>\n",
       "      <td>Lord of the Rings - Destiny Xavier16 - Diana's...</td>\n",
       "      <td>Real</td>\n",
       "      <td>Real</td>\n",
       "    </tr>\n",
       "    <tr>\n",
       "      <th>22</th>\n",
       "      <td>Lord of the Rings - Detective Ryoshi - The Sag...</td>\n",
       "      <td>Real</td>\n",
       "      <td>Real</td>\n",
       "    </tr>\n",
       "    <tr>\n",
       "      <th>23</th>\n",
       "      <td>Lord of the Rings - Devisaur - The Soldier and...</td>\n",
       "      <td>Real</td>\n",
       "      <td>Real</td>\n",
       "    </tr>\n",
       "    <tr>\n",
       "      <th>24</th>\n",
       "      <td>Lord of the Rings - Diana360 - Sway of the Son...</td>\n",
       "      <td>Real</td>\n",
       "      <td>Real</td>\n",
       "    </tr>\n",
       "    <tr>\n",
       "      <th>25</th>\n",
       "      <td>Lord of the Rings - DianneRose2016 - Hidden Se...</td>\n",
       "      <td>Real</td>\n",
       "      <td>Real</td>\n",
       "    </tr>\n",
       "    <tr>\n",
       "      <th>26</th>\n",
       "      <td>Lord of the Rings - Dinemenel - Hello_ Goodbye...</td>\n",
       "      <td>Real</td>\n",
       "      <td>Real</td>\n",
       "    </tr>\n",
       "    <tr>\n",
       "      <th>27</th>\n",
       "      <td>Lord of the Rings - Dinemenel - Mary-Sues galo...</td>\n",
       "      <td>Real</td>\n",
       "      <td>Real</td>\n",
       "    </tr>\n",
       "    <tr>\n",
       "      <th>28</th>\n",
       "      <td>Lord of the Rings - DistopianExton - Live and ...</td>\n",
       "      <td>Real</td>\n",
       "      <td>Real</td>\n",
       "    </tr>\n",
       "    <tr>\n",
       "      <th>29</th>\n",
       "      <td>Lord of the Rings - Doc. blu xx - Scars.csv-Si...</td>\n",
       "      <td>Real</td>\n",
       "      <td>Real</td>\n",
       "    </tr>\n",
       "    <tr>\n",
       "      <th>30</th>\n",
       "      <td>Lord of the Rings - dodlsegirl123 - Fates Road...</td>\n",
       "      <td>Real</td>\n",
       "      <td>Real</td>\n",
       "    </tr>\n",
       "    <tr>\n",
       "      <th>31</th>\n",
       "      <td>Lord of the Rings - doingsuper - Black Rot.csv...</td>\n",
       "      <td>Real</td>\n",
       "      <td>Real</td>\n",
       "    </tr>\n",
       "    <tr>\n",
       "      <th>32</th>\n",
       "      <td>Lord of the Rings - doingsuper - Friends in th...</td>\n",
       "      <td>Real</td>\n",
       "      <td>Real</td>\n",
       "    </tr>\n",
       "    <tr>\n",
       "      <th>33</th>\n",
       "      <td>Lord of the Rings - Domina-Raistlinis - The Wr...</td>\n",
       "      <td>Real</td>\n",
       "      <td>Real</td>\n",
       "    </tr>\n",
       "    <tr>\n",
       "      <th>34</th>\n",
       "      <td>Lord of the Rings - donotread101 - The Forgott...</td>\n",
       "      <td>Real</td>\n",
       "      <td>Real</td>\n",
       "    </tr>\n",
       "    <tr>\n",
       "      <th>35</th>\n",
       "      <td>Lord of the Rings - dracoinletherpants - In lu...</td>\n",
       "      <td>Real</td>\n",
       "      <td>Real</td>\n",
       "    </tr>\n",
       "    <tr>\n",
       "      <th>36</th>\n",
       "      <td>Lord of the Rings - draconic chronicler - Midd...</td>\n",
       "      <td>GPT</td>\n",
       "      <td>Real</td>\n",
       "    </tr>\n",
       "    <tr>\n",
       "      <th>37</th>\n",
       "      <td>Lord of the Rings - DragonLoverA113 - I am Fir...</td>\n",
       "      <td>Real</td>\n",
       "      <td>Real</td>\n",
       "    </tr>\n",
       "    <tr>\n",
       "      <th>38</th>\n",
       "      <td>Lord of the Rings - dragonsire13 - How to writ...</td>\n",
       "      <td>Real</td>\n",
       "      <td>Real</td>\n",
       "    </tr>\n",
       "    <tr>\n",
       "      <th>39</th>\n",
       "      <td>Lord of the Rings - Dreamer4life16 - Forever a...</td>\n",
       "      <td>Real</td>\n",
       "      <td>Real</td>\n",
       "    </tr>\n",
       "    <tr>\n",
       "      <th>40</th>\n",
       "      <td>Lord of the Rings - dreaming-world - Run Away ...</td>\n",
       "      <td>Real</td>\n",
       "      <td>Real</td>\n",
       "    </tr>\n",
       "    <tr>\n",
       "      <th>41</th>\n",
       "      <td>Lord of the Rings - dressagejet - A Rose Trapp...</td>\n",
       "      <td>Real</td>\n",
       "      <td>Real</td>\n",
       "    </tr>\n",
       "    <tr>\n",
       "      <th>42</th>\n",
       "      <td>Write me a lord of the rings fan fiction about...</td>\n",
       "      <td>GPT</td>\n",
       "      <td>GPT</td>\n",
       "    </tr>\n",
       "    <tr>\n",
       "      <th>43</th>\n",
       "      <td>Write me a lord of the rings fan fiction about...</td>\n",
       "      <td>GPT</td>\n",
       "      <td>GPT</td>\n",
       "    </tr>\n",
       "    <tr>\n",
       "      <th>44</th>\n",
       "      <td>Write me a lord of the rings fan fiction about...</td>\n",
       "      <td>GPT</td>\n",
       "      <td>GPT</td>\n",
       "    </tr>\n",
       "    <tr>\n",
       "      <th>45</th>\n",
       "      <td>Write me a lord of the rings fan fiction about...</td>\n",
       "      <td>GPT</td>\n",
       "      <td>GPT</td>\n",
       "    </tr>\n",
       "    <tr>\n",
       "      <th>46</th>\n",
       "      <td>Write me a lord of the rings fan fiction about...</td>\n",
       "      <td>GPT</td>\n",
       "      <td>GPT</td>\n",
       "    </tr>\n",
       "    <tr>\n",
       "      <th>47</th>\n",
       "      <td>Write me a lord of the rings fan fiction about...</td>\n",
       "      <td>GPT</td>\n",
       "      <td>GPT</td>\n",
       "    </tr>\n",
       "    <tr>\n",
       "      <th>48</th>\n",
       "      <td>Write me a lord of the rings fan fiction about...</td>\n",
       "      <td>GPT</td>\n",
       "      <td>GPT</td>\n",
       "    </tr>\n",
       "    <tr>\n",
       "      <th>49</th>\n",
       "      <td>Write me a lord of the rings fan fiction about...</td>\n",
       "      <td>GPT</td>\n",
       "      <td>GPT</td>\n",
       "    </tr>\n",
       "    <tr>\n",
       "      <th>50</th>\n",
       "      <td>Write me a lord of the rings fan fiction about...</td>\n",
       "      <td>Real</td>\n",
       "      <td>GPT</td>\n",
       "    </tr>\n",
       "    <tr>\n",
       "      <th>51</th>\n",
       "      <td>Write me a lord of the rings fan fiction about...</td>\n",
       "      <td>GPT</td>\n",
       "      <td>GPT</td>\n",
       "    </tr>\n",
       "  </tbody>\n",
       "</table>\n",
       "</div>"
      ],
      "text/plain": [
       "                                            File Name Prediction Label\n",
       "0   Lord of the Rings - d'elfe - Innocence's journ...       Real  Real\n",
       "1   Lord of the Rings - D.L. Fercy - The Lost Chil...       Real  Real\n",
       "2   Lord of the Rings - Da.Hybrid.Queen - My Broth...       Real  Real\n",
       "3   Lord of the Rings - Daeril Ullothwen - More Th...       Real  Real\n",
       "4   Lord of the Rings - Dagorloth - An Innocent Ga...       Real  Real\n",
       "5   Lord of the Rings - Dance of the Dead - White ...       Real  Real\n",
       "6   Lord of the Rings - Dancing like Garrus - Drin...       Real  Real\n",
       "7   Lord of the Rings - DancingChestnut - Wanderin...       Real  Real\n",
       "8   Lord of the Rings - Danigirltuesday - Among th...       Real  Real\n",
       "9   Lord of the Rings - dansesinfernale - unrequit...       Real  Real\n",
       "10  Lord of the Rings - Dark Sweetheart - A Shade ...       Real  Real\n",
       "11  Lord of the Rings - Dark Sweetheart - Bleeding...       Real  Real\n",
       "12  Lord of the Rings - darkwolf76 - Ranger.csv-Si...       Real  Real\n",
       "13  Lord of the Rings - Daryl-Dixon'z Girl - Girl ...       Real  Real\n",
       "14  Lord of the Rings - Dawnpath - Dawn.csv-Signat...       Real  Real\n",
       "15  Lord of the Rings - DawnsEmbrace 11 - A Shock ...       Real  Real\n",
       "16  Lord of the Rings - daydreaming-reality - Free...       Real  Real\n",
       "17  Lord of the Rings - daydreamingbadwolf - Immor...       Real  Real\n",
       "18  Lord of the Rings - DaynaWayna - Laurelin.csv-...       Real  Real\n",
       "19  Lord of the Rings - Dcoop7400 - An Arrow in th...       Real  Real\n",
       "20  Lord of the Rings - DefyingDeath222 - Fading H...       Real  Real\n",
       "21  Lord of the Rings - Destiny Xavier16 - Diana's...       Real  Real\n",
       "22  Lord of the Rings - Detective Ryoshi - The Sag...       Real  Real\n",
       "23  Lord of the Rings - Devisaur - The Soldier and...       Real  Real\n",
       "24  Lord of the Rings - Diana360 - Sway of the Son...       Real  Real\n",
       "25  Lord of the Rings - DianneRose2016 - Hidden Se...       Real  Real\n",
       "26  Lord of the Rings - Dinemenel - Hello_ Goodbye...       Real  Real\n",
       "27  Lord of the Rings - Dinemenel - Mary-Sues galo...       Real  Real\n",
       "28  Lord of the Rings - DistopianExton - Live and ...       Real  Real\n",
       "29  Lord of the Rings - Doc. blu xx - Scars.csv-Si...       Real  Real\n",
       "30  Lord of the Rings - dodlsegirl123 - Fates Road...       Real  Real\n",
       "31  Lord of the Rings - doingsuper - Black Rot.csv...       Real  Real\n",
       "32  Lord of the Rings - doingsuper - Friends in th...       Real  Real\n",
       "33  Lord of the Rings - Domina-Raistlinis - The Wr...       Real  Real\n",
       "34  Lord of the Rings - donotread101 - The Forgott...       Real  Real\n",
       "35  Lord of the Rings - dracoinletherpants - In lu...       Real  Real\n",
       "36  Lord of the Rings - draconic chronicler - Midd...        GPT  Real\n",
       "37  Lord of the Rings - DragonLoverA113 - I am Fir...       Real  Real\n",
       "38  Lord of the Rings - dragonsire13 - How to writ...       Real  Real\n",
       "39  Lord of the Rings - Dreamer4life16 - Forever a...       Real  Real\n",
       "40  Lord of the Rings - dreaming-world - Run Away ...       Real  Real\n",
       "41  Lord of the Rings - dressagejet - A Rose Trapp...       Real  Real\n",
       "42  Write me a lord of the rings fan fiction about...        GPT   GPT\n",
       "43  Write me a lord of the rings fan fiction about...        GPT   GPT\n",
       "44  Write me a lord of the rings fan fiction about...        GPT   GPT\n",
       "45  Write me a lord of the rings fan fiction about...        GPT   GPT\n",
       "46  Write me a lord of the rings fan fiction about...        GPT   GPT\n",
       "47  Write me a lord of the rings fan fiction about...        GPT   GPT\n",
       "48  Write me a lord of the rings fan fiction about...        GPT   GPT\n",
       "49  Write me a lord of the rings fan fiction about...        GPT   GPT\n",
       "50  Write me a lord of the rings fan fiction about...       Real   GPT\n",
       "51  Write me a lord of the rings fan fiction about...        GPT   GPT"
      ]
     },
     "execution_count": 61,
     "metadata": {},
     "output_type": "execute_result"
    }
   ],
   "source": [
    "lotr_res"
   ]
  },
  {
   "cell_type": "markdown",
   "id": "33a88513",
   "metadata": {},
   "source": [
    "## Combined"
   ]
  },
  {
   "cell_type": "code",
   "execution_count": 48,
   "id": "9bc92fd3",
   "metadata": {},
   "outputs": [],
   "source": [
    "# Train the classifier\n",
    "combined_real_path = r'Data-For-Model\\Combined\\Real'\n",
    "combined_gpt_path = r'Data-For-Model\\Combined\\GPT'\n",
    "combined_test_path = r'Data-For-Model\\Combined\\Test'"
   ]
  },
  {
   "cell_type": "code",
   "execution_count": 51,
   "id": "66f3d641",
   "metadata": {},
   "outputs": [
    {
     "data": {
      "image/png": "[encoded data removed]",
      "text/plain": [
       "<Figure size 576x432 with 2 Axes>"
      ]
     },
     "metadata": {
      "needs_background": "light"
     },
     "output_type": "display_data"
    },
    {
     "name": "stdout",
     "output_type": "stream",
     "text": [
      "Accuracy Score is:  0.9658703071672355\n"
     ]
    }
   ],
   "source": [
    "p_res , p_model = model_wrapper(combined_real_path , combined_gpt_path, combined_test_path)"
   ]
  },
  {
   "cell_type": "code",
   "execution_count": 6,
   "id": "f5d7944f",
   "metadata": {},
   "outputs": [],
   "source": [
    "import os\n",
    "import shutil\n",
    "\n",
    "def copy_files_with_prefix(folder_path, destination_folder, start = \"write me\"):\n",
    "    # Iterate over the subfolders in the given folder path\n",
    "    for root, dirs, files in os.walk(folder_path):\n",
    "        # Check if the \"Signatures\" folder exists\n",
    "        if \"Signatures\" in dirs:\n",
    "            signature_folder = os.path.join(root, \"Signatures\")\n",
    "            # Iterate over the files in the \"Signatures\" folder\n",
    "            for file_name in os.listdir(signature_folder):\n",
    "                # Check if the file starts with \"write me\" (case insensitive)\n",
    "                if file_name.lower().startswith(start.lower()):\n",
    "                    source_file_path = os.path.join(signature_folder, file_name)\n",
    "                    destination_file_path = os.path.join(destination_folder, file_name)\n",
    "                    # Copy the file to the destination folder\n",
    "                    shutil.copy2(source_file_path, destination_file_path)\n"
   ]
  },
  {
   "cell_type": "code",
   "execution_count": 7,
   "id": "5038f121",
   "metadata": {},
   "outputs": [],
   "source": [
    "copy_files_with_prefix(\"Experiments/Model-Data-Gathering1/Warcraft\",\"Data-For-Model/Warcraft/GPT\")"
   ]
  },
  {
   "cell_type": "code",
   "execution_count": 8,
   "id": "d660212f",
   "metadata": {},
   "outputs": [],
   "source": [
    "data_folders = [\"Harry_Potter\" , \"lord_of_the_rings\", \"pok_mon\" , \"twilight\" , \"Warcraft\"]"
   ]
  },
  {
   "cell_type": "code",
   "execution_count": 10,
   "id": "a247f27a",
   "metadata": {},
   "outputs": [],
   "source": [
    "for folder in data_folders:\n",
    "    copy_files_with_prefix(\"Experiments/Model-Data-Gathering1/\"+folder,\"Data-For-Model/\"+folder+\"/GPT\")"
   ]
  },
  {
   "cell_type": "code",
   "execution_count": null,
   "id": "93b328a5",
   "metadata": {},
   "outputs": [],
   "source": []
  }
 ],
 "metadata": {
  "kernelspec": {
   "display_name": "Python 3 (ipykernel)",
   "language": "python",
   "name": "python3"
  },
  "language_info": {
   "codemirror_mode": {
    "name": "ipython",
    "version": 3
   },
   "file_extension": ".py",
   "mimetype": "text/x-python",
   "name": "python",
   "nbconvert_exporter": "python",
   "pygments_lexer": "ipython3",
   "version": "3.8.2"
  }
 },
 "nbformat": 4,
 "nbformat_minor": 5
}
