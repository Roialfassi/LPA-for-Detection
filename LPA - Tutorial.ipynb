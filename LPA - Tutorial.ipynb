{
 "cells": [
  {
   "cell_type": "markdown",
   "metadata": {},
   "source": [
    "## Latent Personal Analysis in Python\n",
    "by Alex Abbey"
   ]
  },
  {
   "cell_type": "markdown",
   "metadata": {},
   "source": [
    "This short tutorial will demonstrate how to use the Python implementation of LPA, as described in the [article](https://link.springer.com/article/10.1007/s11257-021-09295-7) in User Modeling and User-Adapted Interaction.\n",
    "\n",
    "LPA helps analyze a corpus of text, or any set of data, by taking into account the missing popular elements and frequently used yet generally infrequent elements.\n",
    "\n",
    "The first implementation for LPA was written by Hagit Ben-Shoshan in SQL and can be found [here](https://github.com/hagitbenshoshan/text_distance/) - \n",
    "For very large datasets, users of this package are encouraged to switch to the SQL implementation using cloud infrustructure, as the calculation of the results will be much faster.\n",
    "\n",
    "Dependencies can be found in `requirements.txt`.\n",
    "\n",
    "### Terminology\n",
    "\n",
    "It can be useful to think of the basic unit of analysis as a word, which is part of a chapter, which is part of a book. To keep things general we'll use these terms:\n",
    "* **Element** is the basic unit of analysis, i.e. a word\n",
    "* **Documents** (or entities or categories) are compared to each other and in the context of their domain. **Local weight** is the normalized frequency of elements whithin a document. Each weighted entity's vector is termed Personal Vector Rates (**PVR**). \n",
    "* **Domain** (or world or corpus) consist of all of the categories, and is what the documents are compared to. The weighted domain vector is termed Domain Vector Rates (**DVR**).\n"
   ]
  },
  {
   "cell_type": "code",
   "execution_count": 49,
   "metadata": {},
   "outputs": [],
   "source": [
    "import pandas as pd\n",
    "import numpy as np\n",
    "from LPA import Corpus, sockpuppet_distance\n",
    "import altair as alt\n",
    "import numpy.ma as ma"
   ]
  },
  {
   "cell_type": "markdown",
   "metadata": {},
   "source": [
    "In this tutorial we demonstrate LPA using a small portion of the LOCO dataset (Miani, 2021), the unprocessed data available here: https://osf.io/snpcg/. The data you are using should consist of a count of elements per document (bag of words). For instance, with this dataset, each document is an article, each element is a (tokenized) word, and the frequency is a count of the amount of times the word appeared in an article. The input should be a csv file with the columns: `element`, `document`, `frequency_in_document`. "
   ]
  },
  {
   "cell_type": "code",
   "execution_count": 15,
   "metadata": {},
   "outputs": [
    {
     "data": {
      "text/html": [
       "<div>\n",
       "<style scoped>\n",
       "    .dataframe tbody tr th:only-of-type {\n",
       "        vertical-align: middle;\n",
       "    }\n",
       "\n",
       "    .dataframe tbody tr th {\n",
       "        vertical-align: top;\n",
       "    }\n",
       "\n",
       "    .dataframe thead th {\n",
       "        text-align: right;\n",
       "    }\n",
       "</style>\n",
       "<table border=\"1\" class=\"dataframe\">\n",
       "  <thead>\n",
       "    <tr style=\"text-align: right;\">\n",
       "      <th></th>\n",
       "      <th>document</th>\n",
       "      <th>element</th>\n",
       "      <th>frequency_in_document</th>\n",
       "    </tr>\n",
       "  </thead>\n",
       "  <tbody>\n",
       "    <tr>\n",
       "      <th>0</th>\n",
       "      <td>C00001</td>\n",
       "      <td>know</td>\n",
       "      <td>4.0</td>\n",
       "    </tr>\n",
       "    <tr>\n",
       "      <th>1</th>\n",
       "      <td>C00001</td>\n",
       "      <td>associ</td>\n",
       "      <td>5.0</td>\n",
       "    </tr>\n",
       "    <tr>\n",
       "      <th>2</th>\n",
       "      <td>C00001</td>\n",
       "      <td>said</td>\n",
       "      <td>1.0</td>\n",
       "    </tr>\n",
       "    <tr>\n",
       "      <th>3</th>\n",
       "      <td>C00001</td>\n",
       "      <td>known</td>\n",
       "      <td>3.0</td>\n",
       "    </tr>\n",
       "    <tr>\n",
       "      <th>4</th>\n",
       "      <td>C00001</td>\n",
       "      <td>colonel</td>\n",
       "      <td>1.0</td>\n",
       "    </tr>\n",
       "  </tbody>\n",
       "</table>\n",
       "</div>"
      ],
      "text/plain": [
       "  document  element  frequency_in_document\n",
       "0   C00001     know                    4.0\n",
       "1   C00001   associ                    5.0\n",
       "2   C00001     said                    1.0\n",
       "3   C00001    known                    3.0\n",
       "4   C00001  colonel                    1.0"
      ]
     },
     "metadata": {},
     "output_type": "display_data"
    },
    {
     "data": {
      "text/html": [
       "<div>\n",
       "<style scoped>\n",
       "    .dataframe tbody tr th:only-of-type {\n",
       "        vertical-align: middle;\n",
       "    }\n",
       "\n",
       "    .dataframe tbody tr th {\n",
       "        vertical-align: top;\n",
       "    }\n",
       "\n",
       "    .dataframe thead th {\n",
       "        text-align: right;\n",
       "    }\n",
       "</style>\n",
       "<table border=\"1\" class=\"dataframe\">\n",
       "  <thead>\n",
       "    <tr style=\"text-align: right;\">\n",
       "      <th></th>\n",
       "      <th>document</th>\n",
       "      <th>element</th>\n",
       "      <th>frequency_in_document</th>\n",
       "    </tr>\n",
       "  </thead>\n",
       "  <tbody>\n",
       "    <tr>\n",
       "      <th>count</th>\n",
       "      <td>350874</td>\n",
       "      <td>350869</td>\n",
       "      <td>350874.000000</td>\n",
       "    </tr>\n",
       "    <tr>\n",
       "      <th>unique</th>\n",
       "      <td>1000</td>\n",
       "      <td>24709</td>\n",
       "      <td>NaN</td>\n",
       "    </tr>\n",
       "    <tr>\n",
       "      <th>top</th>\n",
       "      <td>C0029e</td>\n",
       "      <td>one</td>\n",
       "      <td>NaN</td>\n",
       "    </tr>\n",
       "    <tr>\n",
       "      <th>freq</th>\n",
       "      <td>2047</td>\n",
       "      <td>727</td>\n",
       "      <td>NaN</td>\n",
       "    </tr>\n",
       "    <tr>\n",
       "      <th>mean</th>\n",
       "      <td>NaN</td>\n",
       "      <td>NaN</td>\n",
       "      <td>1.829950</td>\n",
       "    </tr>\n",
       "    <tr>\n",
       "      <th>std</th>\n",
       "      <td>NaN</td>\n",
       "      <td>NaN</td>\n",
       "      <td>2.434249</td>\n",
       "    </tr>\n",
       "    <tr>\n",
       "      <th>min</th>\n",
       "      <td>NaN</td>\n",
       "      <td>NaN</td>\n",
       "      <td>1.000000</td>\n",
       "    </tr>\n",
       "    <tr>\n",
       "      <th>25%</th>\n",
       "      <td>NaN</td>\n",
       "      <td>NaN</td>\n",
       "      <td>1.000000</td>\n",
       "    </tr>\n",
       "    <tr>\n",
       "      <th>50%</th>\n",
       "      <td>NaN</td>\n",
       "      <td>NaN</td>\n",
       "      <td>1.000000</td>\n",
       "    </tr>\n",
       "    <tr>\n",
       "      <th>75%</th>\n",
       "      <td>NaN</td>\n",
       "      <td>NaN</td>\n",
       "      <td>2.000000</td>\n",
       "    </tr>\n",
       "    <tr>\n",
       "      <th>max</th>\n",
       "      <td>NaN</td>\n",
       "      <td>NaN</td>\n",
       "      <td>168.000000</td>\n",
       "    </tr>\n",
       "  </tbody>\n",
       "</table>\n",
       "</div>"
      ],
      "text/plain": [
       "       document element  frequency_in_document\n",
       "count    350874  350869          350874.000000\n",
       "unique     1000   24709                    NaN\n",
       "top      C0029e     one                    NaN\n",
       "freq       2047     727                    NaN\n",
       "mean        NaN     NaN               1.829950\n",
       "std         NaN     NaN               2.434249\n",
       "min         NaN     NaN               1.000000\n",
       "25%         NaN     NaN               1.000000\n",
       "50%         NaN     NaN               1.000000\n",
       "75%         NaN     NaN               2.000000\n",
       "max         NaN     NaN             168.000000"
      ]
     },
     "metadata": {},
     "output_type": "display_data"
    }
   ],
   "source": [
    "freq = pd.read_csv('./frequency.csv')\n",
    "display(freq.head())\n",
    "display(freq.describe(include=\"all\"))"
   ]
  },
  {
   "cell_type": "markdown",
   "metadata": {},
   "source": [
    "#### Creating the domain\n",
    "Start LPA by instantiating a `Corpus` object. `Corpus` can be instantiated either with a frequency DataFrame, as in the following code cell, or by sending it two Series, one of all documents and one of all elements.\n",
    "\n",
    "The domain (DVR) consists of the frequency of all elements from all categories together. If the `Corpus` wasn't instantiated with a frequency dataframe, you must use it as an argument for `create_dvr()`. Use the `equally_weighted=True` to create a DVR where each document is equally weighted (fdefults to `False`). Use the head and tail of the `dvr` to calibrate your epsilon."
   ]
  },
  {
   "cell_type": "code",
   "execution_count": 16,
   "metadata": {},
   "outputs": [
    {
     "data": {
      "text/html": [
       "<div>\n",
       "<style scoped>\n",
       "    .dataframe tbody tr th:only-of-type {\n",
       "        vertical-align: middle;\n",
       "    }\n",
       "\n",
       "    .dataframe tbody tr th {\n",
       "        vertical-align: top;\n",
       "    }\n",
       "\n",
       "    .dataframe thead th {\n",
       "        text-align: right;\n",
       "    }\n",
       "</style>\n",
       "<table border=\"1\" class=\"dataframe\">\n",
       "  <thead>\n",
       "    <tr style=\"text-align: right;\">\n",
       "      <th></th>\n",
       "      <th>element</th>\n",
       "      <th>global_weight</th>\n",
       "    </tr>\n",
       "  </thead>\n",
       "  <tbody>\n",
       "    <tr>\n",
       "      <th>0</th>\n",
       "      <td>one</td>\n",
       "      <td>0.004708</td>\n",
       "    </tr>\n",
       "    <tr>\n",
       "      <th>1</th>\n",
       "      <td>peopl</td>\n",
       "      <td>0.004643</td>\n",
       "    </tr>\n",
       "    <tr>\n",
       "      <th>2</th>\n",
       "      <td>us</td>\n",
       "      <td>0.004303</td>\n",
       "    </tr>\n",
       "    <tr>\n",
       "      <th>3</th>\n",
       "      <td>world</td>\n",
       "      <td>0.004249</td>\n",
       "    </tr>\n",
       "    <tr>\n",
       "      <th>4</th>\n",
       "      <td>use</td>\n",
       "      <td>0.003856</td>\n",
       "    </tr>\n",
       "    <tr>\n",
       "      <th>...</th>\n",
       "      <td>...</td>\n",
       "      <td>...</td>\n",
       "    </tr>\n",
       "    <tr>\n",
       "      <th>24704</th>\n",
       "      <td>nonstat</td>\n",
       "      <td>0.000002</td>\n",
       "    </tr>\n",
       "    <tr>\n",
       "      <th>24705</th>\n",
       "      <td>collegian</td>\n",
       "      <td>0.000002</td>\n",
       "    </tr>\n",
       "    <tr>\n",
       "      <th>24706</th>\n",
       "      <td>nonwhit</td>\n",
       "      <td>0.000002</td>\n",
       "    </tr>\n",
       "    <tr>\n",
       "      <th>24707</th>\n",
       "      <td>noonan</td>\n",
       "      <td>0.000002</td>\n",
       "    </tr>\n",
       "    <tr>\n",
       "      <th>24708</th>\n",
       "      <td>aa</td>\n",
       "      <td>0.000002</td>\n",
       "    </tr>\n",
       "  </tbody>\n",
       "</table>\n",
       "<p>24709 rows × 2 columns</p>\n",
       "</div>"
      ],
      "text/plain": [
       "         element  global_weight\n",
       "0            one       0.004708\n",
       "1          peopl       0.004643\n",
       "2             us       0.004303\n",
       "3          world       0.004249\n",
       "4            use       0.003856\n",
       "...          ...            ...\n",
       "24704    nonstat       0.000002\n",
       "24705  collegian       0.000002\n",
       "24706    nonwhit       0.000002\n",
       "24707     noonan       0.000002\n",
       "24708         aa       0.000002\n",
       "\n",
       "[24709 rows x 2 columns]"
      ]
     },
     "execution_count": 16,
     "metadata": {},
     "output_type": "execute_result"
    }
   ],
   "source": [
    "corpus = Corpus(freq=freq)\n",
    "dvr = corpus.create_dvr()\n",
    "dvr"
   ]
  },
  {
   "cell_type": "markdown",
   "metadata": {},
   "source": [
    "#### Setting the value of $\\varepsilon$\n",
    "No $\\varepsilon$ (`epsilon`) is set by default. $\\varepsilon$ should be proportionate to the size of the domain, so a recommended value is 1 / (domain size * `epsilon_frac`). In this case if `epsilon_frac` is a number greater than 1 will decrease the weight of $\\varepsilon$ (the default weight given to missing terms) while a number between 0 and 1 will increase it."
   ]
  },
  {
   "cell_type": "code",
   "execution_count": 17,
   "metadata": {},
   "outputs": [
    {
     "data": {
      "text/plain": [
       "2.0235541705451456e-05"
      ]
     },
     "execution_count": 17,
     "metadata": {},
     "output_type": "execute_result"
    }
   ],
   "source": [
    "epsilon_frac = 2\n",
    "epsilon = 1 / (len(dvr) * epsilon_frac)\n",
    "epsilon\n"
   ]
  },
  {
   "cell_type": "markdown",
   "metadata": {},
   "source": [
    "#### Creating Signatures\n",
    "Another common use of LPA is creating a signature for every document, which is made up of the most meaningful terms for every document, whether in their prominence or absence. Usually, one won't need the full signature, but rather signatures of a certain length, as shown in the paper.\n",
    "\n",
    "Create signatures with `create_signatures()`. This will give you a list of signatures (dataframes) with $KLD_\\varepsilon$ distances of all of the words in the corpus for each document, and a list of dataframes of the n most significant elements in the whole corpus. Please note that signatures are computed between the documents and the DVR, so you must have created the dvr using `create_dvr()` before creating signatures.\n",
    "\n",
    "Parameters:\n",
    "* `epsilon` is the value of epsilon for computing $KLD_\\varepsilon$ distance.\n",
    "* `most_significant` is the amount of most significant elements over the whole corpus you want to output (defaults to 30). Use `None` if most significant elements aren't needed.\n",
    "* Use `sig_length` to cut the signatures to a certain length (defaults to 500), or use `None` if you don't want to cut the signatures at all."
   ]
  },
  {
   "cell_type": "code",
   "execution_count": 9,
   "metadata": {
    "scrolled": true
   },
   "outputs": [
    {
     "data": {
      "text/plain": [
       "aquino      0.077534\n",
       "abus        0.031451\n",
       "michael     0.024926\n",
       "new        -0.024833\n",
       "victim      0.020379\n",
       "vaccin     -0.018646\n",
       "napoli      0.017760\n",
       "pedophil    0.017517\n",
       "child       0.017474\n",
       "say        -0.016981\n",
       "Name: C00001, dtype: float64"
      ]
     },
     "metadata": {},
     "output_type": "display_data"
    },
    {
     "data": {
      "text/plain": [
       "vaccin   -1.864649e-02\n",
       "us       -1.434564e-04\n",
       "world    -1.171441e-02\n",
       "peopl    -1.769297e-04\n",
       "use      -1.856459e-04\n",
       "report   -4.685122e-04\n",
       "state    -1.333955e-02\n",
       "one      -9.087573e-07\n",
       "govern   -1.501270e-03\n",
       "would    -3.472630e-03\n",
       "Name: C00001, dtype: float64"
      ]
     },
     "metadata": {},
     "output_type": "display_data"
    }
   ],
   "source": [
    "signatures, most_significant = corpus.create_signatures(epsilon=epsilon, most_significant=30, sig_length=500)\n",
    "display(signatures[0].head(10))\n",
    "display(most_significant[0].head(10))"
   ]
  },
  {
   "cell_type": "markdown",
   "metadata": {},
   "source": [
    "Above you can see the signature of the first document, in which the elements \"aquino\", \"abus\", \"michael\", and \"victim\" are prominent, whereas \"new\" and \"vaccin\" are absent from document. Both the absent and prominent terms characterize the document. Additionallym the document is lacking the top 10 most prominent elements in the whole corpus (i.e. elements with largert absolute sum of distances from the domain).\n",
    "\n",
    "To get a feel for the dataset as a whole, check the the distance of each document from the domain by computing the summed distance of the signatures:"
   ]
  },
  {
   "cell_type": "code",
   "execution_count": 10,
   "metadata": {},
   "outputs": [
    {
     "data": {
      "text/plain": [
       "<AxesSubplot:ylabel='Frequency'>"
      ]
     },
     "execution_count": 10,
     "metadata": {},
     "output_type": "execute_result"
    },
    {
     "data": {
      "image/png": "[encoded data removed]",
      "text/plain": [
       "<Figure size 432x288 with 1 Axes>"
      ]
     },
     "metadata": {},
     "output_type": "display_data"
    }
   ],
   "source": [
    "pd.DataFrame(\n",
    "    [sig.sum() for sig in signatures], index=corpus.document_cat.categories\n",
    ").plot.hist()\n"
   ]
  },
  {
   "cell_type": "markdown",
   "metadata": {},
   "source": [
    "#### Distances between pairs of categories (Sockpuppet Distance)\n",
    "Finally, one can use the signatures created to calculate the L1 distance between every pair of categories. \n",
    "`sockpuppet_distance` accepts two Corpus classes of $n$ and $m$ signatures respectively and compares them, returning a matrix sized $n \\times m$."
   ]
  },
  {
   "cell_type": "code",
   "execution_count": 12,
   "metadata": {},
   "outputs": [
    {
     "data": {
      "text/html": [
       "<div>\n",
       "<style scoped>\n",
       "    .dataframe tbody tr th:only-of-type {\n",
       "        vertical-align: middle;\n",
       "    }\n",
       "\n",
       "    .dataframe tbody tr th {\n",
       "        vertical-align: top;\n",
       "    }\n",
       "\n",
       "    .dataframe thead th {\n",
       "        text-align: right;\n",
       "    }\n",
       "</style>\n",
       "<table border=\"1\" class=\"dataframe\">\n",
       "  <thead>\n",
       "    <tr style=\"text-align: right;\">\n",
       "      <th></th>\n",
       "      <th>C00001</th>\n",
       "      <th>C00003</th>\n",
       "      <th>C00004</th>\n",
       "      <th>C00005</th>\n",
       "      <th>C00007</th>\n",
       "      <th>C00008</th>\n",
       "      <th>C00009</th>\n",
       "      <th>C0000a</th>\n",
       "      <th>C0000b</th>\n",
       "      <th>C0000c</th>\n",
       "    </tr>\n",
       "  </thead>\n",
       "  <tbody>\n",
       "    <tr>\n",
       "      <th>C00001</th>\n",
       "      <td>0.000000</td>\n",
       "      <td>4.380839</td>\n",
       "      <td>3.678197</td>\n",
       "      <td>2.888862</td>\n",
       "      <td>4.288199</td>\n",
       "      <td>3.968978</td>\n",
       "      <td>3.294285</td>\n",
       "      <td>3.873619</td>\n",
       "      <td>4.992373</td>\n",
       "      <td>3.680182</td>\n",
       "    </tr>\n",
       "    <tr>\n",
       "      <th>C00003</th>\n",
       "      <td>4.380839</td>\n",
       "      <td>0.000000</td>\n",
       "      <td>4.377497</td>\n",
       "      <td>4.584950</td>\n",
       "      <td>4.704225</td>\n",
       "      <td>4.373326</td>\n",
       "      <td>4.211065</td>\n",
       "      <td>4.425313</td>\n",
       "      <td>4.875140</td>\n",
       "      <td>4.387032</td>\n",
       "    </tr>\n",
       "    <tr>\n",
       "      <th>C00004</th>\n",
       "      <td>3.678197</td>\n",
       "      <td>4.377497</td>\n",
       "      <td>0.000000</td>\n",
       "      <td>3.769148</td>\n",
       "      <td>4.135151</td>\n",
       "      <td>3.926983</td>\n",
       "      <td>3.470131</td>\n",
       "      <td>3.993971</td>\n",
       "      <td>4.631742</td>\n",
       "      <td>3.691009</td>\n",
       "    </tr>\n",
       "    <tr>\n",
       "      <th>C00005</th>\n",
       "      <td>2.888862</td>\n",
       "      <td>4.584950</td>\n",
       "      <td>3.769148</td>\n",
       "      <td>0.000000</td>\n",
       "      <td>4.472240</td>\n",
       "      <td>4.138694</td>\n",
       "      <td>3.485823</td>\n",
       "      <td>3.917474</td>\n",
       "      <td>5.145862</td>\n",
       "      <td>3.679726</td>\n",
       "    </tr>\n",
       "    <tr>\n",
       "      <th>C00007</th>\n",
       "      <td>4.288199</td>\n",
       "      <td>4.704225</td>\n",
       "      <td>4.135151</td>\n",
       "      <td>4.472240</td>\n",
       "      <td>0.000000</td>\n",
       "      <td>4.161515</td>\n",
       "      <td>3.978134</td>\n",
       "      <td>4.402189</td>\n",
       "      <td>4.678128</td>\n",
       "      <td>3.782680</td>\n",
       "    </tr>\n",
       "    <tr>\n",
       "      <th>C00008</th>\n",
       "      <td>3.968978</td>\n",
       "      <td>4.373326</td>\n",
       "      <td>3.926983</td>\n",
       "      <td>4.138694</td>\n",
       "      <td>4.161515</td>\n",
       "      <td>0.000000</td>\n",
       "      <td>3.633188</td>\n",
       "      <td>4.150514</td>\n",
       "      <td>4.649916</td>\n",
       "      <td>3.910216</td>\n",
       "    </tr>\n",
       "    <tr>\n",
       "      <th>C00009</th>\n",
       "      <td>3.294285</td>\n",
       "      <td>4.211065</td>\n",
       "      <td>3.470131</td>\n",
       "      <td>3.485823</td>\n",
       "      <td>3.978134</td>\n",
       "      <td>3.633188</td>\n",
       "      <td>0.000000</td>\n",
       "      <td>3.843076</td>\n",
       "      <td>4.648981</td>\n",
       "      <td>3.484082</td>\n",
       "    </tr>\n",
       "    <tr>\n",
       "      <th>C0000a</th>\n",
       "      <td>3.873619</td>\n",
       "      <td>4.425313</td>\n",
       "      <td>3.993971</td>\n",
       "      <td>3.917474</td>\n",
       "      <td>4.402189</td>\n",
       "      <td>4.150514</td>\n",
       "      <td>3.843076</td>\n",
       "      <td>0.000000</td>\n",
       "      <td>4.922020</td>\n",
       "      <td>3.892824</td>\n",
       "    </tr>\n",
       "    <tr>\n",
       "      <th>C0000b</th>\n",
       "      <td>4.992373</td>\n",
       "      <td>4.875140</td>\n",
       "      <td>4.631742</td>\n",
       "      <td>5.145862</td>\n",
       "      <td>4.678128</td>\n",
       "      <td>4.649916</td>\n",
       "      <td>4.648981</td>\n",
       "      <td>4.922020</td>\n",
       "      <td>0.000000</td>\n",
       "      <td>4.553281</td>\n",
       "    </tr>\n",
       "    <tr>\n",
       "      <th>C0000c</th>\n",
       "      <td>3.680182</td>\n",
       "      <td>4.387032</td>\n",
       "      <td>3.691009</td>\n",
       "      <td>3.679726</td>\n",
       "      <td>3.782680</td>\n",
       "      <td>3.910216</td>\n",
       "      <td>3.484082</td>\n",
       "      <td>3.892824</td>\n",
       "      <td>4.553281</td>\n",
       "      <td>0.000000</td>\n",
       "    </tr>\n",
       "  </tbody>\n",
       "</table>\n",
       "</div>"
      ],
      "text/plain": [
       "          C00001    C00003    C00004    C00005    C00007    C00008    C00009  \\\n",
       "C00001  0.000000  4.380839  3.678197  2.888862  4.288199  3.968978  3.294285   \n",
       "C00003  4.380839  0.000000  4.377497  4.584950  4.704225  4.373326  4.211065   \n",
       "C00004  3.678197  4.377497  0.000000  3.769148  4.135151  3.926983  3.470131   \n",
       "C00005  2.888862  4.584950  3.769148  0.000000  4.472240  4.138694  3.485823   \n",
       "C00007  4.288199  4.704225  4.135151  4.472240  0.000000  4.161515  3.978134   \n",
       "C00008  3.968978  4.373326  3.926983  4.138694  4.161515  0.000000  3.633188   \n",
       "C00009  3.294285  4.211065  3.470131  3.485823  3.978134  3.633188  0.000000   \n",
       "C0000a  3.873619  4.425313  3.993971  3.917474  4.402189  4.150514  3.843076   \n",
       "C0000b  4.992373  4.875140  4.631742  5.145862  4.678128  4.649916  4.648981   \n",
       "C0000c  3.680182  4.387032  3.691009  3.679726  3.782680  3.910216  3.484082   \n",
       "\n",
       "          C0000a    C0000b    C0000c  \n",
       "C00001  3.873619  4.992373  3.680182  \n",
       "C00003  4.425313  4.875140  4.387032  \n",
       "C00004  3.993971  4.631742  3.691009  \n",
       "C00005  3.917474  5.145862  3.679726  \n",
       "C00007  4.402189  4.678128  3.782680  \n",
       "C00008  4.150514  4.649916  3.910216  \n",
       "C00009  3.843076  4.648981  3.484082  \n",
       "C0000a  0.000000  4.922020  3.892824  \n",
       "C0000b  4.922020  0.000000  4.553281  \n",
       "C0000c  3.892824  4.553281  0.000000  "
      ]
     },
     "execution_count": 12,
     "metadata": {},
     "output_type": "execute_result"
    }
   ],
   "source": [
    "spd = sockpuppet_distance(corpus, corpus)\n",
    "spd.iloc[:10, :10]"
   ]
  },
  {
   "cell_type": "code",
   "execution_count": 13,
   "metadata": {},
   "outputs": [
    {
     "name": "stderr",
     "output_type": "stream",
     "text": [
      "/home/alexzabbey/.virtualenvs/lpa/lib/python3.10/site-packages/altair/utils/core.py:317: FutureWarning: iteritems is deprecated and will be removed in a future version. Use .items instead.\n",
      "  for col_name, dtype in df.dtypes.iteritems():\n"
     ]
    },
    {
     "data": {
      "text/html": [
       "\n",
       "<div id=\"altair-viz-8d52e8598da045c092670675c1f99ed9\"></div>\n",
       "<script type=\"text/javascript\">\n",
       "  var VEGA_DEBUG = (typeof VEGA_DEBUG == \"undefined\") ? {} : VEGA_DEBUG;\n",
       "  (function(spec, embedOpt){\n",
       "    let outputDiv = document.currentScript.previousElementSibling;\n",
       "    if (outputDiv.id !== \"altair-viz-8d52e8598da045c092670675c1f99ed9\") {\n",
       "      outputDiv = document.getElementById(\"altair-viz-8d52e8598da045c092670675c1f99ed9\");\n",
       "    }\n",
       "    const paths = {\n",
       "      \"vega\": \"https://cdn.jsdelivr.net/npm//vega@5?noext\",\n",
       "      \"vega-lib\": \"https://cdn.jsdelivr.net/npm//vega-lib?noext\",\n",
       "      \"vega-lite\": \"https://cdn.jsdelivr.net/npm//vega-lite@4.17.0?noext\",\n",
       "      \"vega-embed\": \"https://cdn.jsdelivr.net/npm//vega-embed@6?noext\",\n",
       "    };\n",
       "\n",
       "    function maybeLoadScript(lib, version) {\n",
       "      var key = `${lib.replace(\"-\", \"\")}_version`;\n",
       "      return (VEGA_DEBUG[key] == version) ?\n",
       "        Promise.resolve(paths[lib]) :\n",
       "        new Promise(function(resolve, reject) {\n",
       "          var s = document.createElement('script');\n",
       "          document.getElementsByTagName(\"head\")[0].appendChild(s);\n",
       "          s.async = true;\n",
       "          s.onload = () => {\n",
       "            VEGA_DEBUG[key] = version;\n",
       "            return resolve(paths[lib]);\n",
       "          };\n",
       "          s.onerror = () => reject(`Error loading script: ${paths[lib]}`);\n",
       "          s.src = paths[lib];\n",
       "        });\n",
       "    }\n",
       "\n",
       "    function showError(err) {\n",
       "      outputDiv.innerHTML = `<div class=\"error\" style=\"color:red;\">${err}</div>`;\n",
       "      throw err;\n",
       "    }\n",
       "\n",
       "    function displayChart(vegaEmbed) {\n",
       "      vegaEmbed(outputDiv, spec, embedOpt)\n",
       "        .catch(err => showError(`Javascript Error: ${err.message}<br>This usually means there's a typo in your chart specification. See the javascript console for the full traceback.`));\n",
       "    }\n",
       "\n",
       "    if(typeof define === \"function\" && define.amd) {\n",
       "      requirejs.config({paths});\n",
       "      require([\"vega-embed\"], displayChart, err => showError(`Error loading script: ${err.message}`));\n",
       "    } else {\n",
       "      maybeLoadScript(\"vega\", \"5\")\n",
       "        .then(() => maybeLoadScript(\"vega-lite\", \"4.17.0\"))\n",
       "        .then(() => maybeLoadScript(\"vega-embed\", \"6\"))\n",
       "        .catch(showError)\n",
       "        .then(() => displayChart(vegaEmbed));\n",
       "    }\n",
       "  })({\"config\": {\"view\": {\"continuousWidth\": 400, \"continuousHeight\": 300}}, \"data\": {\"name\": \"data-fa1e4626df20590a28d39cecfd509e29\"}, \"mark\": \"rect\", \"encoding\": {\"color\": {\"field\": \"value\", \"type\": \"quantitative\"}, \"x\": {\"field\": \"doc1\", \"type\": \"nominal\"}, \"y\": {\"field\": \"doc2\", \"type\": \"nominal\"}}, \"$schema\": \"https://vega.github.io/schema/vega-lite/v4.17.0.json\", \"datasets\": {\"data-fa1e4626df20590a28d39cecfd509e29\": [{\"doc1\": \"C00001\", \"doc2\": \"C00001\", \"value\": 0.0}, {\"doc1\": \"C00003\", \"doc2\": \"C00001\", \"value\": 4.380838871163861}, {\"doc1\": \"C00004\", \"doc2\": \"C00001\", \"value\": 3.678196637053644}, {\"doc1\": \"C00005\", \"doc2\": \"C00001\", \"value\": 2.8888615829906072}, {\"doc1\": \"C00007\", \"doc2\": \"C00001\", \"value\": 4.288198607489523}, {\"doc1\": \"C00008\", \"doc2\": \"C00001\", \"value\": 3.9689782161239027}, {\"doc1\": \"C00009\", \"doc2\": \"C00001\", \"value\": 3.294284901665111}, {\"doc1\": \"C0000a\", \"doc2\": \"C00001\", \"value\": 3.87361911192756}, {\"doc1\": \"C0000b\", \"doc2\": \"C00001\", \"value\": 4.992372972186335}, {\"doc1\": \"C0000c\", \"doc2\": \"C00001\", \"value\": 3.68018237736008}, {\"doc1\": \"C00001\", \"doc2\": \"C00003\", \"value\": 4.380838871163861}, {\"doc1\": \"C00003\", \"doc2\": \"C00003\", \"value\": 0.0}, {\"doc1\": \"C00004\", \"doc2\": \"C00003\", \"value\": 4.377497255638294}, {\"doc1\": \"C00005\", \"doc2\": \"C00003\", \"value\": 4.58494995757019}, {\"doc1\": \"C00007\", \"doc2\": \"C00003\", \"value\": 4.7042254164727435}, {\"doc1\": \"C00008\", \"doc2\": \"C00003\", \"value\": 4.373326113747527}, {\"doc1\": \"C00009\", \"doc2\": \"C00003\", \"value\": 4.211065081824568}, {\"doc1\": \"C0000a\", \"doc2\": \"C00003\", \"value\": 4.425312799216095}, {\"doc1\": \"C0000b\", \"doc2\": \"C00003\", \"value\": 4.875139869443667}, {\"doc1\": \"C0000c\", \"doc2\": \"C00003\", \"value\": 4.387032290335848}, {\"doc1\": \"C00001\", \"doc2\": \"C00004\", \"value\": 3.678196637053644}, {\"doc1\": \"C00003\", \"doc2\": \"C00004\", \"value\": 4.377497255638294}, {\"doc1\": \"C00004\", \"doc2\": \"C00004\", \"value\": 0.0}, {\"doc1\": \"C00005\", \"doc2\": \"C00004\", \"value\": 3.7691483468332083}, {\"doc1\": \"C00007\", \"doc2\": \"C00004\", \"value\": 4.135151282240733}, {\"doc1\": \"C00008\", \"doc2\": \"C00004\", \"value\": 3.9269828859682825}, {\"doc1\": \"C00009\", \"doc2\": \"C00004\", \"value\": 3.4701306982995774}, {\"doc1\": \"C0000a\", \"doc2\": \"C00004\", \"value\": 3.993970634843491}, {\"doc1\": \"C0000b\", \"doc2\": \"C00004\", \"value\": 4.631741691990599}, {\"doc1\": \"C0000c\", \"doc2\": \"C00004\", \"value\": 3.691009414021727}, {\"doc1\": \"C00001\", \"doc2\": \"C00005\", \"value\": 2.8888615829906072}, {\"doc1\": \"C00003\", \"doc2\": \"C00005\", \"value\": 4.58494995757019}, {\"doc1\": \"C00004\", \"doc2\": \"C00005\", \"value\": 3.7691483468332083}, {\"doc1\": \"C00005\", \"doc2\": \"C00005\", \"value\": 0.0}, {\"doc1\": \"C00007\", \"doc2\": \"C00005\", \"value\": 4.4722404454583655}, {\"doc1\": \"C00008\", \"doc2\": \"C00005\", \"value\": 4.1386935043780975}, {\"doc1\": \"C00009\", \"doc2\": \"C00005\", \"value\": 3.485823196711433}, {\"doc1\": \"C0000a\", \"doc2\": \"C00005\", \"value\": 3.917473835822286}, {\"doc1\": \"C0000b\", \"doc2\": \"C00005\", \"value\": 5.14586190616172}, {\"doc1\": \"C0000c\", \"doc2\": \"C00005\", \"value\": 3.6797261446320233}, {\"doc1\": \"C00001\", \"doc2\": \"C00007\", \"value\": 4.288198607489523}, {\"doc1\": \"C00003\", \"doc2\": \"C00007\", \"value\": 4.7042254164727435}, {\"doc1\": \"C00004\", \"doc2\": \"C00007\", \"value\": 4.135151282240733}, {\"doc1\": \"C00005\", \"doc2\": \"C00007\", \"value\": 4.4722404454583655}, {\"doc1\": \"C00007\", \"doc2\": \"C00007\", \"value\": 0.0}, {\"doc1\": \"C00008\", \"doc2\": \"C00007\", \"value\": 4.1615147485548984}, {\"doc1\": \"C00009\", \"doc2\": \"C00007\", \"value\": 3.9781341266438206}, {\"doc1\": \"C0000a\", \"doc2\": \"C00007\", \"value\": 4.4021890233698375}, {\"doc1\": \"C0000b\", \"doc2\": \"C00007\", \"value\": 4.67812789130619}, {\"doc1\": \"C0000c\", \"doc2\": \"C00007\", \"value\": 3.7826803967734968}, {\"doc1\": \"C00001\", \"doc2\": \"C00008\", \"value\": 3.9689782161239027}, {\"doc1\": \"C00003\", \"doc2\": \"C00008\", \"value\": 4.373326113747527}, {\"doc1\": \"C00004\", \"doc2\": \"C00008\", \"value\": 3.9269828859682825}, {\"doc1\": \"C00005\", \"doc2\": \"C00008\", \"value\": 4.1386935043780975}, {\"doc1\": \"C00007\", \"doc2\": \"C00008\", \"value\": 4.1615147485548984}, {\"doc1\": \"C00008\", \"doc2\": \"C00008\", \"value\": 0.0}, {\"doc1\": \"C00009\", \"doc2\": \"C00008\", \"value\": 3.633188357447741}, {\"doc1\": \"C0000a\", \"doc2\": \"C00008\", \"value\": 4.150513737744351}, {\"doc1\": \"C0000b\", \"doc2\": \"C00008\", \"value\": 4.649916499345384}, {\"doc1\": \"C0000c\", \"doc2\": \"C00008\", \"value\": 3.910215896901685}, {\"doc1\": \"C00001\", \"doc2\": \"C00009\", \"value\": 3.294284901665111}, {\"doc1\": \"C00003\", \"doc2\": \"C00009\", \"value\": 4.211065081824568}, {\"doc1\": \"C00004\", \"doc2\": \"C00009\", \"value\": 3.4701306982995774}, {\"doc1\": \"C00005\", \"doc2\": \"C00009\", \"value\": 3.485823196711433}, {\"doc1\": \"C00007\", \"doc2\": \"C00009\", \"value\": 3.9781341266438206}, {\"doc1\": \"C00008\", \"doc2\": \"C00009\", \"value\": 3.633188357447741}, {\"doc1\": \"C00009\", \"doc2\": \"C00009\", \"value\": 0.0}, {\"doc1\": \"C0000a\", \"doc2\": \"C00009\", \"value\": 3.843076141800562}, {\"doc1\": \"C0000b\", \"doc2\": \"C00009\", \"value\": 4.648980745464931}, {\"doc1\": \"C0000c\", \"doc2\": \"C00009\", \"value\": 3.48408210354895}, {\"doc1\": \"C00001\", \"doc2\": \"C0000a\", \"value\": 3.87361911192756}, {\"doc1\": \"C00003\", \"doc2\": \"C0000a\", \"value\": 4.425312799216095}, {\"doc1\": \"C00004\", \"doc2\": \"C0000a\", \"value\": 3.993970634843491}, {\"doc1\": \"C00005\", \"doc2\": \"C0000a\", \"value\": 3.917473835822286}, {\"doc1\": \"C00007\", \"doc2\": \"C0000a\", \"value\": 4.4021890233698375}, {\"doc1\": \"C00008\", \"doc2\": \"C0000a\", \"value\": 4.150513737744351}, {\"doc1\": \"C00009\", \"doc2\": \"C0000a\", \"value\": 3.843076141800562}, {\"doc1\": \"C0000a\", \"doc2\": \"C0000a\", \"value\": 0.0}, {\"doc1\": \"C0000b\", \"doc2\": \"C0000a\", \"value\": 4.922019806069081}, {\"doc1\": \"C0000c\", \"doc2\": \"C0000a\", \"value\": 3.8928239323219382}, {\"doc1\": \"C00001\", \"doc2\": \"C0000b\", \"value\": 4.992372972186335}, {\"doc1\": \"C00003\", \"doc2\": \"C0000b\", \"value\": 4.875139869443667}, {\"doc1\": \"C00004\", \"doc2\": \"C0000b\", \"value\": 4.631741691990599}, {\"doc1\": \"C00005\", \"doc2\": \"C0000b\", \"value\": 5.14586190616172}, {\"doc1\": \"C00007\", \"doc2\": \"C0000b\", \"value\": 4.67812789130619}, {\"doc1\": \"C00008\", \"doc2\": \"C0000b\", \"value\": 4.649916499345384}, {\"doc1\": \"C00009\", \"doc2\": \"C0000b\", \"value\": 4.648980745464931}, {\"doc1\": \"C0000a\", \"doc2\": \"C0000b\", \"value\": 4.922019806069081}, {\"doc1\": \"C0000b\", \"doc2\": \"C0000b\", \"value\": 0.0}, {\"doc1\": \"C0000c\", \"doc2\": \"C0000b\", \"value\": 4.553280870594565}, {\"doc1\": \"C00001\", \"doc2\": \"C0000c\", \"value\": 3.68018237736008}, {\"doc1\": \"C00003\", \"doc2\": \"C0000c\", \"value\": 4.387032290335848}, {\"doc1\": \"C00004\", \"doc2\": \"C0000c\", \"value\": 3.691009414021727}, {\"doc1\": \"C00005\", \"doc2\": \"C0000c\", \"value\": 3.6797261446320233}, {\"doc1\": \"C00007\", \"doc2\": \"C0000c\", \"value\": 3.7826803967734968}, {\"doc1\": \"C00008\", \"doc2\": \"C0000c\", \"value\": 3.910215896901685}, {\"doc1\": \"C00009\", \"doc2\": \"C0000c\", \"value\": 3.48408210354895}, {\"doc1\": \"C0000a\", \"doc2\": \"C0000c\", \"value\": 3.8928239323219382}, {\"doc1\": \"C0000b\", \"doc2\": \"C0000c\", \"value\": 4.553280870594565}, {\"doc1\": \"C0000c\", \"doc2\": \"C0000c\", \"value\": 0.0}]}}, {\"mode\": \"vega-lite\"});\n",
       "</script>"
      ],
      "text/plain": [
       "alt.Chart(...)"
      ]
     },
     "execution_count": 13,
     "metadata": {},
     "output_type": "execute_result"
    }
   ],
   "source": [
    "import altair as alt\n",
    "df = spd.iloc[:10, :10].rename_axis(index=[\"doc1\"]).melt(ignore_index=False, var_name=\"doc2\").reset_index()\n",
    "alt.Chart(df).mark_rect().encode(\n",
    "    x=\"doc1\", y=\"doc2\", color=\"value\"\n",
    ")"
   ]
  },
  {
   "cell_type": "markdown",
   "metadata": {},
   "source": [
    "### Further analysis\n",
    "Once we have calculated the distances between every category, we can perform further analysis on the results, for instance by clustering the sockpuppet distances and finding similar documents. "
   ]
  },
  {
   "cell_type": "markdown",
   "metadata": {},
   "source": [
    "## Good Luck!"
   ]
  },
  {
   "cell_type": "markdown",
   "metadata": {},
   "source": [
    "### References\n",
    "Miani, A., Hills, T. & Bangerter, A. LOCO: The 88-million-word language of conspiracy corpus. Behav Res (2021). https://doi.org/10.3758/s13428-021-01698-z\n",
    "\n",
    "Mokryn, O., Ben-Shoshan, H. Domain-based Latent Personal Analysis and its use for impersonation detection in social media. User Model User-Adap Inter 31, 785–828 (2021). https://doi.org/10.1007/s11257-021-09295-7"
   ]
  }
 ],
 "metadata": {
  "interpreter": {
   "hash": "602d5137c5051c7ad1050fca0bcc77f792b5903d7dd0c5290bd7ccb1dc571dda"
  },
  "kernelspec": {
   "display_name": "Python 3.10.4 ('lpa')",
   "language": "python",
   "name": "python3"
  },
  "language_info": {
   "codemirror_mode": {
    "name": "ipython",
    "version": 3
   },
   "file_extension": ".py",
   "mimetype": "text/x-python",
   "name": "python",
   "nbconvert_exporter": "python",
   "pygments_lexer": "ipython3",
   "version": "3.10.7"
  }
 },
 "nbformat": 4,
 "nbformat_minor": 4
}
