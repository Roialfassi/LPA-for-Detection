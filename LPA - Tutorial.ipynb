{
 "cells": [
  {
   "cell_type": "markdown",
   "metadata": {},
   "source": [
    "## Latent Personal Analysis in Python\n",
    "by Alex Abbey"
   ]
  },
  {
   "cell_type": "markdown",
   "metadata": {},
   "source": [
    "This short tutorial will demonstrate how to use the Python implementation of LPA, as described in the [article](https://link.springer.com/article/10.1007/s11257-021-09295-7) in User Modeling and User-Adapted Interaction.\n",
    "\n",
    "LPA helps analyze a corpus of text, or any set of data, by taking into account the missing popular elements and frequently used yet generally infrequent elements.\n",
    "\n",
    "The first implementation for LPA was written by Hagit Ben-Shoshan in SQL and can be found [here](https://github.com/hagitbenshoshan/text_distance/) - \n",
    "For very large datasets, users of this package are encouraged to switch to the SQL implementation using cloud infrustructure, as the calculation of the results will be much faster.\n",
    "\n",
    "Dependencies can be found in `requirements.txt`.\n",
    "\n",
    "### Terminology\n",
    "\n",
    "It can be useful to think of the basic unit of analysis as a word, which is part of a chapter, which is part of a book. To keep things general we'll use these terms:\n",
    "* **Element** is the basic unit of analysis, i.e. a word\n",
    "* **Documents** (or entities or categories) are compared to each other and in the context of their domain. **Local weight** is the normalized frequency of elements whithin a document. Each weighted entity's vector is termed Personal Vector Rates (**PVR**). \n",
    "* **Domain** (or world or corpus) consist of all of the categories, and is what the documents are compared to. The weighted domain vector is termed Domain Vector Rates (**DVR**).\n"
   ]
  },
  {
   "cell_type": "code",
   "execution_count": 1,
   "metadata": {},
   "outputs": [
    {
     "data": {
      "text/plain": [
       "DataTransformerRegistry.enable('default')"
      ]
     },
     "execution_count": 1,
     "metadata": {},
     "output_type": "execute_result"
    }
   ],
   "source": [
    "import pandas as pd\n",
    "from LPA import Corpus, sockpuppet_distance\n",
    "import altair as alt\n",
    "alt.data_transformers.disable_max_rows()\n"
   ]
  },
  {
   "cell_type": "markdown",
   "metadata": {},
   "source": [
    "In this tutorial we demonstrate LPA using a small portion of the LOCO dataset (Miani, 2021), the unprocessed data available here: https://osf.io/snpcg/. The data you are using should consist of a count of elements per document (bag of words). For instance, with this dataset, each document is an article, each element is a (tokenized) word, and the frequency is a count of the amount of times the word appeared in an article. The input should be a csv file with the columns: `element`, `document`, `frequency_in_document`. "
   ]
  },
  {
   "cell_type": "code",
   "execution_count": 2,
   "metadata": {},
   "outputs": [
    {
     "data": {
      "text/html": [
       "<div>\n",
       "<style scoped>\n",
       "    .dataframe tbody tr th:only-of-type {\n",
       "        vertical-align: middle;\n",
       "    }\n",
       "\n",
       "    .dataframe tbody tr th {\n",
       "        vertical-align: top;\n",
       "    }\n",
       "\n",
       "    .dataframe thead th {\n",
       "        text-align: right;\n",
       "    }\n",
       "</style>\n",
       "<table border=\"1\" class=\"dataframe\">\n",
       "  <thead>\n",
       "    <tr style=\"text-align: right;\">\n",
       "      <th></th>\n",
       "      <th>document</th>\n",
       "      <th>element</th>\n",
       "      <th>frequency_in_document</th>\n",
       "    </tr>\n",
       "  </thead>\n",
       "  <tbody>\n",
       "    <tr>\n",
       "      <th>0</th>\n",
       "      <td>C00001</td>\n",
       "      <td>know</td>\n",
       "      <td>4.0</td>\n",
       "    </tr>\n",
       "    <tr>\n",
       "      <th>1</th>\n",
       "      <td>C00001</td>\n",
       "      <td>associ</td>\n",
       "      <td>5.0</td>\n",
       "    </tr>\n",
       "    <tr>\n",
       "      <th>2</th>\n",
       "      <td>C00001</td>\n",
       "      <td>said</td>\n",
       "      <td>1.0</td>\n",
       "    </tr>\n",
       "    <tr>\n",
       "      <th>3</th>\n",
       "      <td>C00001</td>\n",
       "      <td>known</td>\n",
       "      <td>3.0</td>\n",
       "    </tr>\n",
       "    <tr>\n",
       "      <th>4</th>\n",
       "      <td>C00001</td>\n",
       "      <td>colonel</td>\n",
       "      <td>1.0</td>\n",
       "    </tr>\n",
       "  </tbody>\n",
       "</table>\n",
       "</div>"
      ],
      "text/plain": [
       "  document  element  frequency_in_document\n",
       "0   C00001     know                    4.0\n",
       "1   C00001   associ                    5.0\n",
       "2   C00001     said                    1.0\n",
       "3   C00001    known                    3.0\n",
       "4   C00001  colonel                    1.0"
      ]
     },
     "metadata": {},
     "output_type": "display_data"
    },
    {
     "data": {
      "text/html": [
       "<div>\n",
       "<style scoped>\n",
       "    .dataframe tbody tr th:only-of-type {\n",
       "        vertical-align: middle;\n",
       "    }\n",
       "\n",
       "    .dataframe tbody tr th {\n",
       "        vertical-align: top;\n",
       "    }\n",
       "\n",
       "    .dataframe thead th {\n",
       "        text-align: right;\n",
       "    }\n",
       "</style>\n",
       "<table border=\"1\" class=\"dataframe\">\n",
       "  <thead>\n",
       "    <tr style=\"text-align: right;\">\n",
       "      <th></th>\n",
       "      <th>document</th>\n",
       "      <th>element</th>\n",
       "      <th>frequency_in_document</th>\n",
       "    </tr>\n",
       "  </thead>\n",
       "  <tbody>\n",
       "    <tr>\n",
       "      <th>count</th>\n",
       "      <td>350874</td>\n",
       "      <td>350869</td>\n",
       "      <td>350874.000000</td>\n",
       "    </tr>\n",
       "    <tr>\n",
       "      <th>unique</th>\n",
       "      <td>1000</td>\n",
       "      <td>24709</td>\n",
       "      <td>NaN</td>\n",
       "    </tr>\n",
       "    <tr>\n",
       "      <th>top</th>\n",
       "      <td>C0029e</td>\n",
       "      <td>one</td>\n",
       "      <td>NaN</td>\n",
       "    </tr>\n",
       "    <tr>\n",
       "      <th>freq</th>\n",
       "      <td>2047</td>\n",
       "      <td>727</td>\n",
       "      <td>NaN</td>\n",
       "    </tr>\n",
       "    <tr>\n",
       "      <th>mean</th>\n",
       "      <td>NaN</td>\n",
       "      <td>NaN</td>\n",
       "      <td>1.829950</td>\n",
       "    </tr>\n",
       "    <tr>\n",
       "      <th>std</th>\n",
       "      <td>NaN</td>\n",
       "      <td>NaN</td>\n",
       "      <td>2.434249</td>\n",
       "    </tr>\n",
       "    <tr>\n",
       "      <th>min</th>\n",
       "      <td>NaN</td>\n",
       "      <td>NaN</td>\n",
       "      <td>1.000000</td>\n",
       "    </tr>\n",
       "    <tr>\n",
       "      <th>25%</th>\n",
       "      <td>NaN</td>\n",
       "      <td>NaN</td>\n",
       "      <td>1.000000</td>\n",
       "    </tr>\n",
       "    <tr>\n",
       "      <th>50%</th>\n",
       "      <td>NaN</td>\n",
       "      <td>NaN</td>\n",
       "      <td>1.000000</td>\n",
       "    </tr>\n",
       "    <tr>\n",
       "      <th>75%</th>\n",
       "      <td>NaN</td>\n",
       "      <td>NaN</td>\n",
       "      <td>2.000000</td>\n",
       "    </tr>\n",
       "    <tr>\n",
       "      <th>max</th>\n",
       "      <td>NaN</td>\n",
       "      <td>NaN</td>\n",
       "      <td>168.000000</td>\n",
       "    </tr>\n",
       "  </tbody>\n",
       "</table>\n",
       "</div>"
      ],
      "text/plain": [
       "       document element  frequency_in_document\n",
       "count    350874  350869          350874.000000\n",
       "unique     1000   24709                    NaN\n",
       "top      C0029e     one                    NaN\n",
       "freq       2047     727                    NaN\n",
       "mean        NaN     NaN               1.829950\n",
       "std         NaN     NaN               2.434249\n",
       "min         NaN     NaN               1.000000\n",
       "25%         NaN     NaN               1.000000\n",
       "50%         NaN     NaN               1.000000\n",
       "75%         NaN     NaN               2.000000\n",
       "max         NaN     NaN             168.000000"
      ]
     },
     "metadata": {},
     "output_type": "display_data"
    }
   ],
   "source": [
    "freq = pd.read_csv('./frequency.csv')\n",
    "display(freq.head())\n",
    "display(freq.describe(include=\"all\"))"
   ]
  },
  {
   "cell_type": "markdown",
   "metadata": {},
   "source": [
    "#### Creating the domain\n",
    "Start LPA by instantiating a `Corpus` object. `Corpus` can be instantiated either with a frequency DataFrame, as in the following code cell, or by sending it two Series, one of all documents and one of all elements.\n",
    "\n",
    "The domain (DVR) consists of the frequency of all elements from all categories together. If the `Corpus` wasn't instantiated with a frequency dataframe, you must use it as an argument for `create_dvr()`. Use the `equally_weighted=True` to create a DVR where each document is equally weighted (fdefults to `False`). Use the head and tail of the `dvr` to calibrate your epsilon."
   ]
  },
  {
   "cell_type": "code",
   "execution_count": 3,
   "metadata": {},
   "outputs": [
    {
     "data": {
      "text/html": [
       "<div>\n",
       "<style scoped>\n",
       "    .dataframe tbody tr th:only-of-type {\n",
       "        vertical-align: middle;\n",
       "    }\n",
       "\n",
       "    .dataframe tbody tr th {\n",
       "        vertical-align: top;\n",
       "    }\n",
       "\n",
       "    .dataframe thead th {\n",
       "        text-align: right;\n",
       "    }\n",
       "</style>\n",
       "<table border=\"1\" class=\"dataframe\">\n",
       "  <thead>\n",
       "    <tr style=\"text-align: right;\">\n",
       "      <th></th>\n",
       "      <th>element</th>\n",
       "      <th>global_weight</th>\n",
       "    </tr>\n",
       "  </thead>\n",
       "  <tbody>\n",
       "    <tr>\n",
       "      <th>0</th>\n",
       "      <td>one</td>\n",
       "      <td>0.004708</td>\n",
       "    </tr>\n",
       "    <tr>\n",
       "      <th>1</th>\n",
       "      <td>peopl</td>\n",
       "      <td>0.004643</td>\n",
       "    </tr>\n",
       "    <tr>\n",
       "      <th>2</th>\n",
       "      <td>us</td>\n",
       "      <td>0.004303</td>\n",
       "    </tr>\n",
       "    <tr>\n",
       "      <th>3</th>\n",
       "      <td>world</td>\n",
       "      <td>0.004249</td>\n",
       "    </tr>\n",
       "    <tr>\n",
       "      <th>4</th>\n",
       "      <td>use</td>\n",
       "      <td>0.003856</td>\n",
       "    </tr>\n",
       "    <tr>\n",
       "      <th>...</th>\n",
       "      <td>...</td>\n",
       "      <td>...</td>\n",
       "    </tr>\n",
       "    <tr>\n",
       "      <th>24704</th>\n",
       "      <td>nonstat</td>\n",
       "      <td>0.000002</td>\n",
       "    </tr>\n",
       "    <tr>\n",
       "      <th>24705</th>\n",
       "      <td>collegian</td>\n",
       "      <td>0.000002</td>\n",
       "    </tr>\n",
       "    <tr>\n",
       "      <th>24706</th>\n",
       "      <td>nonwhit</td>\n",
       "      <td>0.000002</td>\n",
       "    </tr>\n",
       "    <tr>\n",
       "      <th>24707</th>\n",
       "      <td>noonan</td>\n",
       "      <td>0.000002</td>\n",
       "    </tr>\n",
       "    <tr>\n",
       "      <th>24708</th>\n",
       "      <td>aa</td>\n",
       "      <td>0.000002</td>\n",
       "    </tr>\n",
       "  </tbody>\n",
       "</table>\n",
       "<p>24709 rows × 2 columns</p>\n",
       "</div>"
      ],
      "text/plain": [
       "         element  global_weight\n",
       "0            one       0.004708\n",
       "1          peopl       0.004643\n",
       "2             us       0.004303\n",
       "3          world       0.004249\n",
       "4            use       0.003856\n",
       "...          ...            ...\n",
       "24704    nonstat       0.000002\n",
       "24705  collegian       0.000002\n",
       "24706    nonwhit       0.000002\n",
       "24707     noonan       0.000002\n",
       "24708         aa       0.000002\n",
       "\n",
       "[24709 rows x 2 columns]"
      ]
     },
     "execution_count": 3,
     "metadata": {},
     "output_type": "execute_result"
    }
   ],
   "source": [
    "corpus = Corpus(freq=freq)\n",
    "dvr = corpus.create_dvr()\n",
    "dvr"
   ]
  },
  {
   "cell_type": "markdown",
   "metadata": {},
   "source": [
    "#### Setting the value of $\\varepsilon$\n",
    "No $\\varepsilon$ (`epsilon`) is set by default. $\\varepsilon$ should be proportionate to the size of the domain, so a recommended value is 1 / (domain size * `epsilon_frac`). In this case if `epsilon_frac` is a number greater than 1 will decrease the weight of $\\varepsilon$ (the default weight given to missing terms) while a number between 0 and 1 will increase it."
   ]
  },
  {
   "cell_type": "code",
   "execution_count": 4,
   "metadata": {},
   "outputs": [
    {
     "data": {
      "text/plain": [
       "2.0235541705451456e-05"
      ]
     },
     "execution_count": 4,
     "metadata": {},
     "output_type": "execute_result"
    }
   ],
   "source": [
    "epsilon_frac = 2\n",
    "epsilon = 1 / (len(dvr) * epsilon_frac)\n",
    "epsilon\n"
   ]
  },
  {
   "cell_type": "markdown",
   "metadata": {},
   "source": [
    "#### Creating Signatures\n",
    "Another common use of LPA is creating a signature for every document, which is made up of the most meaningful terms for every document, whether in their prominence or absence. Usually, one won't need the full signature, but rather signatures of a certain length, as shown in the paper.\n",
    "\n",
    "Create signatures with `create_signatures()`. This will give you a list of signatures (dataframes) with $KLD_\\varepsilon$ distances of all of the words in the corpus for each document, and a list of dataframes of the n most significant elements in the whole corpus. Please note that signatures are computed between the documents and the DVR, so you must have created the dvr using `create_dvr()` before creating signatures.\n",
    "\n",
    "Parameters:\n",
    "* `epsilon` is the value of epsilon for computing $KLD_\\varepsilon$ distance.\n",
    "* `most_significant` is the amount of most significant elements over the whole corpus you want to output (defaults to 30). Use `None` if most significant elements aren't needed.\n",
    "* Use `sig_length` to cut the signatures to a certain length (defaults to 500), or use `None` if you don't want to cut the signatures at all.\n",
    "* Use `prevelent` if you want to take the underused values only if they appeared in over a certain percentage of the documents.  "
   ]
  },
  {
   "cell_type": "code",
   "execution_count": 5,
   "metadata": {
    "scrolled": true
   },
   "outputs": [
    {
     "data": {
      "text/plain": [
       "aquino      0.077534\n",
       "abus        0.031451\n",
       "michael     0.024926\n",
       "new        -0.024833\n",
       "victim      0.020379\n",
       "vaccin     -0.018646\n",
       "napoli      0.017760\n",
       "pedophil    0.017517\n",
       "child       0.017474\n",
       "say        -0.016981\n",
       "Name: C00001, dtype: float64"
      ]
     },
     "metadata": {},
     "output_type": "display_data"
    },
    {
     "data": {
      "text/plain": [
       "vaccin   -1.864649e-02\n",
       "us       -1.434564e-04\n",
       "world    -1.171441e-02\n",
       "peopl    -1.769297e-04\n",
       "use      -1.856459e-04\n",
       "report   -4.685122e-04\n",
       "state    -1.333955e-02\n",
       "one      -9.087573e-07\n",
       "govern   -1.501270e-03\n",
       "would    -3.472630e-03\n",
       "Name: C00001, dtype: float64"
      ]
     },
     "metadata": {},
     "output_type": "display_data"
    }
   ],
   "source": [
    "signatures, most_significant = corpus.create_signatures(epsilon=epsilon, most_significant=30, sig_length=500)\n",
    "display(signatures[0].head(10))\n",
    "display(most_significant[0].head(10))"
   ]
  },
  {
   "cell_type": "markdown",
   "metadata": {},
   "source": [
    "Above you can see the signature of the first document, in which the elements \"aquino\", \"abus\", \"michael\", and \"victim\" are prominent, whereas \"new\" and \"vaccin\" are absent from document. Both the absent and prominent terms characterize the document. Additionally, the document is lacking the top 10 most prominent elements in the whole corpus (i.e. elements with largest absolute sum of distances from the domain).\n",
    "\n",
    "To get a feel for the dataset as a whole, check the the distance of each document from the domain by computing the summed distance of the signatures:"
   ]
  },
  {
   "cell_type": "code",
   "execution_count": 6,
   "metadata": {},
   "outputs": [
    {
     "data": {
      "text/plain": [
       "<AxesSubplot:ylabel='Frequency'>"
      ]
     },
     "execution_count": 6,
     "metadata": {},
     "output_type": "execute_result"
    },
    {
     "data": {
      "image/png": "[encoded data removed]",
      "text/plain": [
       "<Figure size 432x288 with 1 Axes>"
      ]
     },
     "metadata": {},
     "output_type": "display_data"
    }
   ],
   "source": [
    "pd.DataFrame(\n",
    "    [sig.sum() for sig in signatures], index=corpus.document_cat.categories\n",
    ").plot.hist()\n"
   ]
  },
  {
   "cell_type": "markdown",
   "metadata": {},
   "source": [
    "#### Distances between pairs of categories (Sockpuppet Distance)\n",
    "Finally, one can use the signatures created to calculate the L1 distance between every pair of categories. \n",
    "`sockpuppet_distance` accepts two Corpus classes of $n$ and $m$ signatures respectively and compares them, returning a matrix sized $n \\times m$."
   ]
  },
  {
   "cell_type": "code",
   "execution_count": 7,
   "metadata": {},
   "outputs": [
    {
     "name": "stderr",
     "output_type": "stream",
     "text": [
      "/home/alexzabbey/.virtualenvs/lpa/lib/python3.10/site-packages/altair/utils/core.py:317: FutureWarning: iteritems is deprecated and will be removed in a future version. Use .items instead.\n",
      "  for col_name, dtype in df.dtypes.iteritems():\n"
     ]
    }
   ],
   "source": [
    "spd = sockpuppet_distance(corpus, corpus)\n",
    "alt.Chart(spd).mark_rect().encode(\n",
    "    x=\"Corpus 1\", y=\"Corpus 2\", color=\"value\"\n",
    ")"
   ]
  },
  {
   "cell_type": "markdown",
   "metadata": {},
   "source": [
    "### Further analysis\n",
    "Once we have calculated the distances between every category, we can perform further analysis on the results, for instance by clustering the sockpuppet distances and finding similar documents. "
   ]
  },
  {
   "cell_type": "markdown",
   "metadata": {},
   "source": [
    "## Good Luck!"
   ]
  },
  {
   "cell_type": "markdown",
   "metadata": {},
   "source": [
    "### References\n",
    "Miani, A., Hills, T. & Bangerter, A. LOCO: The 88-million-word language of conspiracy corpus. Behav Res (2021). https://doi.org/10.3758/s13428-021-01698-z\n",
    "\n",
    "Mokryn, O., Ben-Shoshan, H. Domain-based Latent Personal Analysis and its use for impersonation detection in social media. User Model User-Adap Inter 31, 785–828 (2021). https://doi.org/10.1007/s11257-021-09295-7"
   ]
  }
 ],
 "metadata": {
  "interpreter": {
   "hash": "602d5137c5051c7ad1050fca0bcc77f792b5903d7dd0c5290bd7ccb1dc571dda"
  },
  "kernelspec": {
   "display_name": "Python 3.10.4 ('lpa')",
   "language": "python",
   "name": "python3"
  },
  "language_info": {
   "codemirror_mode": {
    "name": "ipython",
    "version": 3
   },
   "file_extension": ".py",
   "mimetype": "text/x-python",
   "name": "python",
   "nbconvert_exporter": "python",
   "pygments_lexer": "ipython3",
   "version": "3.10.7"
  }
 },
 "nbformat": 4,
 "nbformat_minor": 4
}
