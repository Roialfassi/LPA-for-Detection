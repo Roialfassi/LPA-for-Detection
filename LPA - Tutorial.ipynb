{
 "cells": [
  {
   "cell_type": "markdown",
   "metadata": {},
   "source": [
    "## Latent Personal Analysis in Python\n",
    "by Uri Alon"
   ]
  },
  {
   "cell_type": "markdown",
   "metadata": {},
   "source": [
    "This short tutorial will demonstrate how to use the Python implementation of LPA, as described in the article - https://arxiv.org/pdf/2004.02346.pdf.\n",
    "The first implementation for LPA was written in SQL and can be found here - https://github.com/hagitbenshoshan/text_distance/\n",
    "For very large datasets, users of this package are encouraged to switch to the SQL implementation using cloud infrustructure, as the calculation of the results will be much faster."
   ]
  },
  {
   "cell_type": "markdown",
   "metadata": {},
   "source": [
    "Dependencies:\n",
    "- pandas\n",
    "- numpy\n",
    "- scipy "
   ]
  },
  {
   "cell_type": "markdown",
   "metadata": {},
   "source": [
    "Dependecies  for further analysis demonstrated in this notebook:\n",
    "- scikit-learn\n",
    "- plotly"
   ]
  },
  {
   "cell_type": "code",
   "execution_count": 7,
   "metadata": {},
   "outputs": [],
   "source": [
    "import pandas as pd\n",
    "import numpy as np\n",
    "from scipy.spatial import distance\n",
    "import LPA\n",
    "import plotly.express as px\n",
    "from sklearn.decomposition import PCA"
   ]
  },
  {
   "cell_type": "markdown",
   "metadata": {},
   "source": [
    "The algorithm assumes correct input as in the following format (element, category_id, frequency_in_category). Failure to use data in the correct form will lead to erroneous results."
   ]
  },
  {
   "cell_type": "code",
   "execution_count": 2,
   "metadata": {},
   "outputs": [],
   "source": [
    "df = pd.read_csv('TripAdvisor_beaches2609.csv')\n",
    "df['category_id'] = df['category_id'].astype(str)\n",
    "df['element'] = df['element'].astype(str)"
   ]
  },
  {
   "cell_type": "code",
   "execution_count": 3,
   "metadata": {},
   "outputs": [
    {
     "data": {
      "text/html": [
       "<div>\n",
       "<style scoped>\n",
       "    .dataframe tbody tr th:only-of-type {\n",
       "        vertical-align: middle;\n",
       "    }\n",
       "\n",
       "    .dataframe tbody tr th {\n",
       "        vertical-align: top;\n",
       "    }\n",
       "\n",
       "    .dataframe thead th {\n",
       "        text-align: right;\n",
       "    }\n",
       "</style>\n",
       "<table border=\"1\" class=\"dataframe\">\n",
       "  <thead>\n",
       "    <tr style=\"text-align: right;\">\n",
       "      <th></th>\n",
       "      <th>element</th>\n",
       "      <th>category_id</th>\n",
       "      <th>frequency_in_category</th>\n",
       "    </tr>\n",
       "  </thead>\n",
       "  <tbody>\n",
       "    <tr>\n",
       "      <th>0</th>\n",
       "      <td>abit</td>\n",
       "      <td>Al-Iskandariyah (Alexandria)</td>\n",
       "      <td>4</td>\n",
       "    </tr>\n",
       "    <tr>\n",
       "      <th>1</th>\n",
       "      <td>accepted</td>\n",
       "      <td>Al-Iskandariyah (Alexandria)</td>\n",
       "      <td>5</td>\n",
       "    </tr>\n",
       "    <tr>\n",
       "      <th>2</th>\n",
       "      <td>activity</td>\n",
       "      <td>Al-Iskandariyah (Alexandria)</td>\n",
       "      <td>13</td>\n",
       "    </tr>\n",
       "    <tr>\n",
       "      <th>3</th>\n",
       "      <td>afraid</td>\n",
       "      <td>Al-Iskandariyah (Alexandria)</td>\n",
       "      <td>5</td>\n",
       "    </tr>\n",
       "    <tr>\n",
       "      <th>4</th>\n",
       "      <td>age</td>\n",
       "      <td>Al-Iskandariyah (Alexandria)</td>\n",
       "      <td>5</td>\n",
       "    </tr>\n",
       "  </tbody>\n",
       "</table>\n",
       "</div>"
      ],
      "text/plain": [
       "    element                   category_id  frequency_in_category\n",
       "0      abit  Al-Iskandariyah (Alexandria)                      4\n",
       "1  accepted  Al-Iskandariyah (Alexandria)                      5\n",
       "2  activity  Al-Iskandariyah (Alexandria)                     13\n",
       "3    afraid  Al-Iskandariyah (Alexandria)                      5\n",
       "4       age  Al-Iskandariyah (Alexandria)                      5"
      ]
     },
     "execution_count": 3,
     "metadata": {},
     "output_type": "execute_result"
    }
   ],
   "source": [
    "df.head()"
   ]
  },
  {
   "cell_type": "markdown",
   "metadata": {},
   "source": [
    "Once the data exists, one can deploy LPA to receive various results. The following examples will demonstrate this."
   ]
  },
  {
   "cell_type": "markdown",
   "metadata": {},
   "source": [
    "#### Distance from the world\n",
    "The following method returns the distance of every category from the domain, as a similarity measure between 0 and 1."
   ]
  },
  {
   "cell_type": "code",
   "execution_count": 4,
   "metadata": {},
   "outputs": [
    {
     "data": {
      "text/html": [
       "<div>\n",
       "<style scoped>\n",
       "    .dataframe tbody tr th:only-of-type {\n",
       "        vertical-align: middle;\n",
       "    }\n",
       "\n",
       "    .dataframe tbody tr th {\n",
       "        vertical-align: top;\n",
       "    }\n",
       "\n",
       "    .dataframe thead th {\n",
       "        text-align: right;\n",
       "    }\n",
       "</style>\n",
       "<table border=\"1\" class=\"dataframe\">\n",
       "  <thead>\n",
       "    <tr style=\"text-align: right;\">\n",
       "      <th></th>\n",
       "      <th>distance_summary</th>\n",
       "    </tr>\n",
       "    <tr>\n",
       "      <th>category_id</th>\n",
       "      <th></th>\n",
       "    </tr>\n",
       "  </thead>\n",
       "  <tbody>\n",
       "    <tr>\n",
       "      <th>Al-Iskandariyah (Alexandria)</th>\n",
       "      <td>0.865214</td>\n",
       "    </tr>\n",
       "    <tr>\n",
       "      <th>Alicante</th>\n",
       "      <td>0.442441</td>\n",
       "    </tr>\n",
       "    <tr>\n",
       "      <th>Antalya</th>\n",
       "      <td>0.417821</td>\n",
       "    </tr>\n",
       "    <tr>\n",
       "      <th>Athínai (Athens)</th>\n",
       "      <td>0.581777</td>\n",
       "    </tr>\n",
       "    <tr>\n",
       "      <th>Barcelona</th>\n",
       "      <td>0.430834</td>\n",
       "    </tr>\n",
       "    <tr>\n",
       "      <th>Bari</th>\n",
       "      <td>0.620462</td>\n",
       "    </tr>\n",
       "    <tr>\n",
       "      <th>Cagliari</th>\n",
       "      <td>0.435870</td>\n",
       "    </tr>\n",
       "    <tr>\n",
       "      <th>Catania</th>\n",
       "      <td>0.606696</td>\n",
       "    </tr>\n",
       "    <tr>\n",
       "      <th>Hefa (Haifa)</th>\n",
       "      <td>0.572605</td>\n",
       "    </tr>\n",
       "    <tr>\n",
       "      <th>Istanbul</th>\n",
       "      <td>0.630152</td>\n",
       "    </tr>\n",
       "    <tr>\n",
       "      <th>Malaga</th>\n",
       "      <td>0.475693</td>\n",
       "    </tr>\n",
       "    <tr>\n",
       "      <th>Marseille-Aix-en-Provence</th>\n",
       "      <td>0.650650</td>\n",
       "    </tr>\n",
       "    <tr>\n",
       "      <th>Napoli (Naples)</th>\n",
       "      <td>0.776902</td>\n",
       "    </tr>\n",
       "    <tr>\n",
       "      <th>Nice-Cannes</th>\n",
       "      <td>0.498868</td>\n",
       "    </tr>\n",
       "    <tr>\n",
       "      <th>Palermo</th>\n",
       "      <td>0.454258</td>\n",
       "    </tr>\n",
       "    <tr>\n",
       "      <th>Palma</th>\n",
       "      <td>0.423084</td>\n",
       "    </tr>\n",
       "    <tr>\n",
       "      <th>Tel Aviv-Yafo (Tel Aviv-Jaffa)</th>\n",
       "      <td>0.521734</td>\n",
       "    </tr>\n",
       "    <tr>\n",
       "      <th>Thessaloniki</th>\n",
       "      <td>0.915267</td>\n",
       "    </tr>\n",
       "    <tr>\n",
       "      <th>Toulon</th>\n",
       "      <td>0.797243</td>\n",
       "    </tr>\n",
       "    <tr>\n",
       "      <th>Valencia</th>\n",
       "      <td>0.420195</td>\n",
       "    </tr>\n",
       "  </tbody>\n",
       "</table>\n",
       "</div>"
      ],
      "text/plain": [
       "                                distance_summary\n",
       "category_id                                     \n",
       "Al-Iskandariyah (Alexandria)            0.865214\n",
       "Alicante                                0.442441\n",
       "Antalya                                 0.417821\n",
       "Athínai (Athens)                        0.581777\n",
       "Barcelona                               0.430834\n",
       "Bari                                    0.620462\n",
       "Cagliari                                0.435870\n",
       "Catania                                 0.606696\n",
       "Hefa (Haifa)                            0.572605\n",
       "Istanbul                                0.630152\n",
       "Malaga                                  0.475693\n",
       "Marseille-Aix-en-Provence               0.650650\n",
       "Napoli (Naples)                         0.776902\n",
       "Nice-Cannes                             0.498868\n",
       "Palermo                                 0.454258\n",
       "Palma                                   0.423084\n",
       "Tel Aviv-Yafo (Tel Aviv-Jaffa)          0.521734\n",
       "Thessaloniki                            0.915267\n",
       "Toulon                                  0.797243\n",
       "Valencia                                0.420195"
      ]
     },
     "execution_count": 4,
     "metadata": {},
     "output_type": "execute_result"
    }
   ],
   "source": [
    "LPA.distance_from_world(df)"
   ]
  },
  {
   "cell_type": "markdown",
   "metadata": {},
   "source": [
    "#### Creating Signatures\n",
    "Another prominent use of LPA is creating a signature for every category, which is made up of the most meaningful terms for every category, whether in their prominence or absence. By default the signature length is 500 and the epsilon is set to 1*(corpus size * 2), but both these parameters can be changed when calling the method.\n",
    "Epsilon frac - a number greater than 1 will decrease the weight of epsilon (the default weight given to missing terms) while a number between 0 and 1 will increase it."
   ]
  },
  {
   "cell_type": "code",
   "execution_count": 7,
   "metadata": {
    "scrolled": true
   },
   "outputs": [
    {
     "data": {
      "text/html": [
       "<div>\n",
       "<style scoped>\n",
       "    .dataframe tbody tr th:only-of-type {\n",
       "        vertical-align: middle;\n",
       "    }\n",
       "\n",
       "    .dataframe tbody tr th {\n",
       "        vertical-align: top;\n",
       "    }\n",
       "\n",
       "    .dataframe thead th {\n",
       "        text-align: right;\n",
       "    }\n",
       "</style>\n",
       "<table border=\"1\" class=\"dataframe\">\n",
       "  <thead>\n",
       "    <tr style=\"text-align: right;\">\n",
       "      <th></th>\n",
       "      <th>category_id</th>\n",
       "      <th>element</th>\n",
       "      <th>KL</th>\n",
       "      <th>existing_element_flag</th>\n",
       "    </tr>\n",
       "  </thead>\n",
       "  <tbody>\n",
       "    <tr>\n",
       "      <th>0</th>\n",
       "      <td>Al-Iskandariyah (Alexandria)</td>\n",
       "      <td>place</td>\n",
       "      <td>0.019829</td>\n",
       "      <td>1.0</td>\n",
       "    </tr>\n",
       "    <tr>\n",
       "      <th>1</th>\n",
       "      <td>Al-Iskandariyah (Alexandria)</td>\n",
       "      <td>bar</td>\n",
       "      <td>0.015515</td>\n",
       "      <td>0.0</td>\n",
       "    </tr>\n",
       "    <tr>\n",
       "      <th>2</th>\n",
       "      <td>Al-Iskandariyah (Alexandria)</td>\n",
       "      <td>winter</td>\n",
       "      <td>0.013617</td>\n",
       "      <td>1.0</td>\n",
       "    </tr>\n",
       "    <tr>\n",
       "      <th>3</th>\n",
       "      <td>Al-Iskandariyah (Alexandria)</td>\n",
       "      <td>alex</td>\n",
       "      <td>0.012069</td>\n",
       "      <td>1.0</td>\n",
       "    </tr>\n",
       "    <tr>\n",
       "      <th>4</th>\n",
       "      <td>Al-Iskandariyah (Alexandria)</td>\n",
       "      <td>summer</td>\n",
       "      <td>0.010023</td>\n",
       "      <td>1.0</td>\n",
       "    </tr>\n",
       "    <tr>\n",
       "      <th>...</th>\n",
       "      <td>...</td>\n",
       "      <td>...</td>\n",
       "      <td>...</td>\n",
       "      <td>...</td>\n",
       "    </tr>\n",
       "    <tr>\n",
       "      <th>495</th>\n",
       "      <td>Valencia</td>\n",
       "      <td>laaarge</td>\n",
       "      <td>0.000073</td>\n",
       "      <td>1.0</td>\n",
       "    </tr>\n",
       "    <tr>\n",
       "      <th>496</th>\n",
       "      <td>Valencia</td>\n",
       "      <td>tulum</td>\n",
       "      <td>0.000073</td>\n",
       "      <td>1.0</td>\n",
       "    </tr>\n",
       "    <tr>\n",
       "      <th>497</th>\n",
       "      <td>Valencia</td>\n",
       "      <td>lamarina</td>\n",
       "      <td>0.000073</td>\n",
       "      <td>1.0</td>\n",
       "    </tr>\n",
       "    <tr>\n",
       "      <th>498</th>\n",
       "      <td>Valencia</td>\n",
       "      <td>trouser</td>\n",
       "      <td>0.000073</td>\n",
       "      <td>1.0</td>\n",
       "    </tr>\n",
       "    <tr>\n",
       "      <th>499</th>\n",
       "      <td>Valencia</td>\n",
       "      <td>linea</td>\n",
       "      <td>0.000073</td>\n",
       "      <td>1.0</td>\n",
       "    </tr>\n",
       "  </tbody>\n",
       "</table>\n",
       "<p>10000 rows × 4 columns</p>\n",
       "</div>"
      ],
      "text/plain": [
       "                      category_id   element        KL  existing_element_flag\n",
       "0    Al-Iskandariyah (Alexandria)     place  0.019829                    1.0\n",
       "1    Al-Iskandariyah (Alexandria)       bar  0.015515                    0.0\n",
       "2    Al-Iskandariyah (Alexandria)    winter  0.013617                    1.0\n",
       "3    Al-Iskandariyah (Alexandria)      alex  0.012069                    1.0\n",
       "4    Al-Iskandariyah (Alexandria)    summer  0.010023                    1.0\n",
       "..                            ...       ...       ...                    ...\n",
       "495                      Valencia   laaarge  0.000073                    1.0\n",
       "496                      Valencia     tulum  0.000073                    1.0\n",
       "497                      Valencia  lamarina  0.000073                    1.0\n",
       "498                      Valencia   trouser  0.000073                    1.0\n",
       "499                      Valencia     linea  0.000073                    1.0\n",
       "\n",
       "[10000 rows x 4 columns]"
      ]
     },
     "execution_count": 7,
     "metadata": {},
     "output_type": "execute_result"
    }
   ],
   "source": [
    "LPA.create_signatures(df)"
   ]
  },
  {
   "cell_type": "code",
   "execution_count": 8,
   "metadata": {},
   "outputs": [
    {
     "data": {
      "text/html": [
       "<div>\n",
       "<style scoped>\n",
       "    .dataframe tbody tr th:only-of-type {\n",
       "        vertical-align: middle;\n",
       "    }\n",
       "\n",
       "    .dataframe tbody tr th {\n",
       "        vertical-align: top;\n",
       "    }\n",
       "\n",
       "    .dataframe thead th {\n",
       "        text-align: right;\n",
       "    }\n",
       "</style>\n",
       "<table border=\"1\" class=\"dataframe\">\n",
       "  <thead>\n",
       "    <tr style=\"text-align: right;\">\n",
       "      <th></th>\n",
       "      <th>category_id</th>\n",
       "      <th>element</th>\n",
       "      <th>KL</th>\n",
       "      <th>existing_element_flag</th>\n",
       "    </tr>\n",
       "  </thead>\n",
       "  <tbody>\n",
       "    <tr>\n",
       "      <th>0</th>\n",
       "      <td>Al-Iskandariyah (Alexandria)</td>\n",
       "      <td>place</td>\n",
       "      <td>0.019829</td>\n",
       "      <td>1.0</td>\n",
       "    </tr>\n",
       "    <tr>\n",
       "      <th>1</th>\n",
       "      <td>Al-Iskandariyah (Alexandria)</td>\n",
       "      <td>bar</td>\n",
       "      <td>0.018494</td>\n",
       "      <td>0.0</td>\n",
       "    </tr>\n",
       "    <tr>\n",
       "      <th>2</th>\n",
       "      <td>Al-Iskandariyah (Alexandria)</td>\n",
       "      <td>winter</td>\n",
       "      <td>0.013617</td>\n",
       "      <td>1.0</td>\n",
       "    </tr>\n",
       "    <tr>\n",
       "      <th>3</th>\n",
       "      <td>Al-Iskandariyah (Alexandria)</td>\n",
       "      <td>alex</td>\n",
       "      <td>0.012069</td>\n",
       "      <td>1.0</td>\n",
       "    </tr>\n",
       "    <tr>\n",
       "      <th>4</th>\n",
       "      <td>Al-Iskandariyah (Alexandria)</td>\n",
       "      <td>summer</td>\n",
       "      <td>0.010023</td>\n",
       "      <td>1.0</td>\n",
       "    </tr>\n",
       "    <tr>\n",
       "      <th>...</th>\n",
       "      <td>...</td>\n",
       "      <td>...</td>\n",
       "      <td>...</td>\n",
       "      <td>...</td>\n",
       "    </tr>\n",
       "    <tr>\n",
       "      <th>15</th>\n",
       "      <td>Valencia</td>\n",
       "      <td>pebble</td>\n",
       "      <td>0.001089</td>\n",
       "      <td>1.0</td>\n",
       "    </tr>\n",
       "    <tr>\n",
       "      <th>16</th>\n",
       "      <td>Valencia</td>\n",
       "      <td>tayelet</td>\n",
       "      <td>0.001044</td>\n",
       "      <td>0.0</td>\n",
       "    </tr>\n",
       "    <tr>\n",
       "      <th>17</th>\n",
       "      <td>Valencia</td>\n",
       "      <td>crystal</td>\n",
       "      <td>0.001044</td>\n",
       "      <td>1.0</td>\n",
       "    </tr>\n",
       "    <tr>\n",
       "      <th>18</th>\n",
       "      <td>Valencia</td>\n",
       "      <td>promenade</td>\n",
       "      <td>0.001028</td>\n",
       "      <td>1.0</td>\n",
       "    </tr>\n",
       "    <tr>\n",
       "      <th>19</th>\n",
       "      <td>Valencia</td>\n",
       "      <td>la</td>\n",
       "      <td>0.001024</td>\n",
       "      <td>1.0</td>\n",
       "    </tr>\n",
       "  </tbody>\n",
       "</table>\n",
       "<p>400 rows × 4 columns</p>\n",
       "</div>"
      ],
      "text/plain": [
       "                     category_id    element        KL  existing_element_flag\n",
       "0   Al-Iskandariyah (Alexandria)      place  0.019829                    1.0\n",
       "1   Al-Iskandariyah (Alexandria)        bar  0.018494                    0.0\n",
       "2   Al-Iskandariyah (Alexandria)     winter  0.013617                    1.0\n",
       "3   Al-Iskandariyah (Alexandria)       alex  0.012069                    1.0\n",
       "4   Al-Iskandariyah (Alexandria)     summer  0.010023                    1.0\n",
       "..                           ...        ...       ...                    ...\n",
       "15                      Valencia     pebble  0.001089                    1.0\n",
       "16                      Valencia    tayelet  0.001044                    0.0\n",
       "17                      Valencia    crystal  0.001044                    1.0\n",
       "18                      Valencia  promenade  0.001028                    1.0\n",
       "19                      Valencia         la  0.001024                    1.0\n",
       "\n",
       "[400 rows x 4 columns]"
      ]
     },
     "execution_count": 8,
     "metadata": {},
     "output_type": "execute_result"
    }
   ],
   "source": [
    "LPA.create_signatures(df,epsilon_frac=5,sig_length=20)"
   ]
  },
  {
   "cell_type": "markdown",
   "metadata": {},
   "source": [
    "#### Distances between pairs of categories (Sockpuppet Distance)\n",
    "Finally, one can use the signatures created to calculate the L1 distance between every pair of categories. An elaboration on the method can be found here - https://github.com/hagitbenshoshan/text_distance/blob/master/Step3.md\n",
    "Different signature lengths and epsilons can have dramatic effects on the results."
   ]
  },
  {
   "cell_type": "code",
   "execution_count": 9,
   "metadata": {},
   "outputs": [
    {
     "data": {
      "text/html": [
       "<div>\n",
       "<style scoped>\n",
       "    .dataframe tbody tr th:only-of-type {\n",
       "        vertical-align: middle;\n",
       "    }\n",
       "\n",
       "    .dataframe tbody tr th {\n",
       "        vertical-align: top;\n",
       "    }\n",
       "\n",
       "    .dataframe thead th {\n",
       "        text-align: right;\n",
       "    }\n",
       "</style>\n",
       "<table border=\"1\" class=\"dataframe\">\n",
       "  <thead>\n",
       "    <tr style=\"text-align: right;\">\n",
       "      <th></th>\n",
       "      <th>user1</th>\n",
       "      <th>user2</th>\n",
       "      <th>distance_between_users</th>\n",
       "    </tr>\n",
       "  </thead>\n",
       "  <tbody>\n",
       "    <tr>\n",
       "      <th>0</th>\n",
       "      <td>Al-Iskandariyah (Alexandria)</td>\n",
       "      <td>Al-Iskandariyah (Alexandria)</td>\n",
       "      <td>0.000000</td>\n",
       "    </tr>\n",
       "    <tr>\n",
       "      <th>1</th>\n",
       "      <td>Al-Iskandariyah (Alexandria)</td>\n",
       "      <td>Alicante</td>\n",
       "      <td>0.991202</td>\n",
       "    </tr>\n",
       "    <tr>\n",
       "      <th>2</th>\n",
       "      <td>Al-Iskandariyah (Alexandria)</td>\n",
       "      <td>Antalya</td>\n",
       "      <td>0.972759</td>\n",
       "    </tr>\n",
       "    <tr>\n",
       "      <th>3</th>\n",
       "      <td>Al-Iskandariyah (Alexandria)</td>\n",
       "      <td>Athínai (Athens)</td>\n",
       "      <td>0.899410</td>\n",
       "    </tr>\n",
       "    <tr>\n",
       "      <th>4</th>\n",
       "      <td>Al-Iskandariyah (Alexandria)</td>\n",
       "      <td>Barcelona</td>\n",
       "      <td>0.979442</td>\n",
       "    </tr>\n",
       "    <tr>\n",
       "      <th>...</th>\n",
       "      <td>...</td>\n",
       "      <td>...</td>\n",
       "      <td>...</td>\n",
       "    </tr>\n",
       "    <tr>\n",
       "      <th>395</th>\n",
       "      <td>Valencia</td>\n",
       "      <td>Palma</td>\n",
       "      <td>0.854393</td>\n",
       "    </tr>\n",
       "    <tr>\n",
       "      <th>396</th>\n",
       "      <td>Valencia</td>\n",
       "      <td>Tel Aviv-Yafo (Tel Aviv-Jaffa)</td>\n",
       "      <td>0.853495</td>\n",
       "    </tr>\n",
       "    <tr>\n",
       "      <th>397</th>\n",
       "      <td>Valencia</td>\n",
       "      <td>Thessaloniki</td>\n",
       "      <td>0.980272</td>\n",
       "    </tr>\n",
       "    <tr>\n",
       "      <th>398</th>\n",
       "      <td>Valencia</td>\n",
       "      <td>Toulon</td>\n",
       "      <td>0.957916</td>\n",
       "    </tr>\n",
       "    <tr>\n",
       "      <th>399</th>\n",
       "      <td>Valencia</td>\n",
       "      <td>Valencia</td>\n",
       "      <td>0.000000</td>\n",
       "    </tr>\n",
       "  </tbody>\n",
       "</table>\n",
       "<p>400 rows × 3 columns</p>\n",
       "</div>"
      ],
      "text/plain": [
       "                            user1                           user2  \\\n",
       "0    Al-Iskandariyah (Alexandria)    Al-Iskandariyah (Alexandria)   \n",
       "1    Al-Iskandariyah (Alexandria)                        Alicante   \n",
       "2    Al-Iskandariyah (Alexandria)                         Antalya   \n",
       "3    Al-Iskandariyah (Alexandria)                Athínai (Athens)   \n",
       "4    Al-Iskandariyah (Alexandria)                       Barcelona   \n",
       "..                            ...                             ...   \n",
       "395                      Valencia                           Palma   \n",
       "396                      Valencia  Tel Aviv-Yafo (Tel Aviv-Jaffa)   \n",
       "397                      Valencia                    Thessaloniki   \n",
       "398                      Valencia                          Toulon   \n",
       "399                      Valencia                        Valencia   \n",
       "\n",
       "     distance_between_users  \n",
       "0                  0.000000  \n",
       "1                  0.991202  \n",
       "2                  0.972759  \n",
       "3                  0.899410  \n",
       "4                  0.979442  \n",
       "..                      ...  \n",
       "395                0.854393  \n",
       "396                0.853495  \n",
       "397                0.980272  \n",
       "398                0.957916  \n",
       "399                0.000000  \n",
       "\n",
       "[400 rows x 3 columns]"
      ]
     },
     "execution_count": 9,
     "metadata": {},
     "output_type": "execute_result"
    }
   ],
   "source": [
    "LPA.SockPuppetDistance(LPA.create_signatures(df),df)"
   ]
  },
  {
   "cell_type": "code",
   "execution_count": 3,
   "metadata": {},
   "outputs": [
    {
     "data": {
      "text/html": [
       "<div>\n",
       "<style scoped>\n",
       "    .dataframe tbody tr th:only-of-type {\n",
       "        vertical-align: middle;\n",
       "    }\n",
       "\n",
       "    .dataframe tbody tr th {\n",
       "        vertical-align: top;\n",
       "    }\n",
       "\n",
       "    .dataframe thead th {\n",
       "        text-align: right;\n",
       "    }\n",
       "</style>\n",
       "<table border=\"1\" class=\"dataframe\">\n",
       "  <thead>\n",
       "    <tr style=\"text-align: right;\">\n",
       "      <th></th>\n",
       "      <th>user1</th>\n",
       "      <th>user2</th>\n",
       "      <th>distance_between_users</th>\n",
       "    </tr>\n",
       "  </thead>\n",
       "  <tbody>\n",
       "    <tr>\n",
       "      <th>0</th>\n",
       "      <td>Al-Iskandariyah (Alexandria)</td>\n",
       "      <td>Al-Iskandariyah (Alexandria)</td>\n",
       "      <td>0.000000</td>\n",
       "    </tr>\n",
       "    <tr>\n",
       "      <th>1</th>\n",
       "      <td>Al-Iskandariyah (Alexandria)</td>\n",
       "      <td>Alicante</td>\n",
       "      <td>0.980263</td>\n",
       "    </tr>\n",
       "    <tr>\n",
       "      <th>2</th>\n",
       "      <td>Al-Iskandariyah (Alexandria)</td>\n",
       "      <td>Antalya</td>\n",
       "      <td>0.976128</td>\n",
       "    </tr>\n",
       "    <tr>\n",
       "      <th>3</th>\n",
       "      <td>Al-Iskandariyah (Alexandria)</td>\n",
       "      <td>Athínai (Athens)</td>\n",
       "      <td>0.917338</td>\n",
       "    </tr>\n",
       "    <tr>\n",
       "      <th>4</th>\n",
       "      <td>Al-Iskandariyah (Alexandria)</td>\n",
       "      <td>Barcelona</td>\n",
       "      <td>0.992403</td>\n",
       "    </tr>\n",
       "    <tr>\n",
       "      <th>...</th>\n",
       "      <td>...</td>\n",
       "      <td>...</td>\n",
       "      <td>...</td>\n",
       "    </tr>\n",
       "    <tr>\n",
       "      <th>395</th>\n",
       "      <td>Valencia</td>\n",
       "      <td>Palma</td>\n",
       "      <td>0.840990</td>\n",
       "    </tr>\n",
       "    <tr>\n",
       "      <th>396</th>\n",
       "      <td>Valencia</td>\n",
       "      <td>Tel Aviv-Yafo (Tel Aviv-Jaffa)</td>\n",
       "      <td>0.851789</td>\n",
       "    </tr>\n",
       "    <tr>\n",
       "      <th>397</th>\n",
       "      <td>Valencia</td>\n",
       "      <td>Thessaloniki</td>\n",
       "      <td>0.974089</td>\n",
       "    </tr>\n",
       "    <tr>\n",
       "      <th>398</th>\n",
       "      <td>Valencia</td>\n",
       "      <td>Toulon</td>\n",
       "      <td>0.957929</td>\n",
       "    </tr>\n",
       "    <tr>\n",
       "      <th>399</th>\n",
       "      <td>Valencia</td>\n",
       "      <td>Valencia</td>\n",
       "      <td>0.000000</td>\n",
       "    </tr>\n",
       "  </tbody>\n",
       "</table>\n",
       "<p>400 rows × 3 columns</p>\n",
       "</div>"
      ],
      "text/plain": [
       "                            user1                           user2  \\\n",
       "0    Al-Iskandariyah (Alexandria)    Al-Iskandariyah (Alexandria)   \n",
       "1    Al-Iskandariyah (Alexandria)                        Alicante   \n",
       "2    Al-Iskandariyah (Alexandria)                         Antalya   \n",
       "3    Al-Iskandariyah (Alexandria)                Athínai (Athens)   \n",
       "4    Al-Iskandariyah (Alexandria)                       Barcelona   \n",
       "..                            ...                             ...   \n",
       "395                      Valencia                           Palma   \n",
       "396                      Valencia  Tel Aviv-Yafo (Tel Aviv-Jaffa)   \n",
       "397                      Valencia                    Thessaloniki   \n",
       "398                      Valencia                          Toulon   \n",
       "399                      Valencia                        Valencia   \n",
       "\n",
       "     distance_between_users  \n",
       "0                  0.000000  \n",
       "1                  0.980263  \n",
       "2                  0.976128  \n",
       "3                  0.917338  \n",
       "4                  0.992403  \n",
       "..                      ...  \n",
       "395                0.840990  \n",
       "396                0.851789  \n",
       "397                0.974089  \n",
       "398                0.957929  \n",
       "399                0.000000  \n",
       "\n",
       "[400 rows x 3 columns]"
      ]
     },
     "execution_count": 3,
     "metadata": {},
     "output_type": "execute_result"
    }
   ],
   "source": [
    "LPA.SockPuppetDistance(LPA.create_signatures(df, epsilon_frac=10, sig_length=300),df)"
   ]
  },
  {
   "cell_type": "markdown",
   "metadata": {},
   "source": [
    "### Examples of Further analysis - PCA\n",
    "Once we have calculated the distances between every category, we can perform further analysis on the results. The following example demonstrates this using scikit-learn's PCA method."
   ]
  },
  {
   "cell_type": "code",
   "execution_count": 5,
   "metadata": {},
   "outputs": [],
   "source": [
    "df = pd.read_csv('jane_austen_for_pca.csv')"
   ]
  },
  {
   "cell_type": "code",
   "execution_count": 6,
   "metadata": {},
   "outputs": [],
   "source": [
    "X = df.iloc[:,1:4].copy()\n",
    "X = pd.pivot_table(X, values='distance_between_users', index='user1',columns='user2')\n",
    "X.fillna(0, inplace= True)\n",
    "\n",
    "pca = PCA(n_components=3, svd_solver='full')\n",
    "clusters = pca.fit_transform(X)\n",
    "\n",
    "sample_clusters = pd.DataFrame(index=X.index, data = clusters, columns=['x','y', 'z'])\n",
    "\n",
    "sample_clusters.reset_index(inplace = True)\n",
    "\n",
    "sample_clusters['Book'] = sample_clusters['user1'].apply(lambda s: s.split(',')[0])"
   ]
  },
  {
   "cell_type": "code",
   "execution_count": 10,
   "metadata": {},
   "outputs": [],
   "source": [
    "fig = px.scatter_3d(sample_clusters, x='x', y='y', z='z', color='Book')\n"
   ]
  },
  {
   "cell_type": "code",
   "execution_count": 11,
   "metadata": {},
   "outputs": [
    {
     "data": {
      "application/vnd.plotly.v1+json": {
       "config": {
        "plotlyServerURL": "https://plot.ly"
       },
       "data": [
        {
         "hovertemplate": "Book=emma<br>x=%{x}<br>y=%{y}<br>z=%{z}<extra></extra>",
         "legendgroup": "emma",
         "marker": {
          "color": "#636efa",
          "symbol": "circle"
         },
         "mode": "markers",
         "name": "emma",
         "scene": "scene",
         "showlegend": true,
         "type": "scatter3d",
         "x": [
          -0.19445240515095832,
          -0.4230564955551012,
          0.10920744315006832,
          -0.36403644566569,
          -0.3485448495777748,
          0.029468703225508017,
          -0.4080906779372572,
          0.005213562033726973,
          0.6335115587058887,
          -0.11036125045931514,
          -0.025272202896424057,
          0.2457753782911754,
          -0.5383505767960807,
          -0.28193521341344635,
          0.023942054848214794,
          -0.5114616718675297,
          -0.33879710094251636,
          -0.012944920347057645,
          -1.1481065457768531,
          -0.22401457344823544,
          0.1939916803533673,
          -0.19095081625279267,
          -0.4097796437835971,
          0.13427439083957252,
          -0.034428610340130145,
          -0.5242598825858791,
          -0.45077023925984283,
          -0.4178053094241623,
          0.013907552265440964,
          -0.23208328985656446,
          0.7058657479365738,
          -0.5703107743307937,
          0.010930888513890404,
          -0.3794836534227904,
          0.2435911258502382,
          -0.30434924482016223,
          -1.084651058566646,
          -0.5127183854519878,
          0.023672269360641224,
          -0.23670094146518372,
          -0.3190431259498278,
          -0.6260517534978468,
          -0.3749831954770512,
          -0.5556165825593573,
          0.22944001719602763,
          -0.9194133289713228,
          -0.12802903419687908,
          -0.45521163774498846,
          -0.33556396950170486,
          -0.460888055863036,
          0.47354870665829446,
          -0.19145690051456596,
          0.20058507567118453,
          -0.6276064431383263,
          -0.7418691087967844
         ],
         "y": [
          0.30648432170138395,
          0.05458053345316538,
          0.2645210807381272,
          0.31102575834085855,
          0.30963871401801096,
          0.3618244306683258,
          0.15043527467403756,
          0.06758798315181186,
          0.15235000814383512,
          0.10141899144512827,
          0.3465728771039139,
          0.15584149487879762,
          -0.11628751217252534,
          0.43683469468940356,
          -0.020429305914170012,
          0.30356350740742855,
          0.16454426183069962,
          0.3072514831159195,
          0.32381894126815064,
          0.3645654515778162,
          0.3944176703615423,
          0.3775845198419,
          -0.010440750011586017,
          0.23518219764310327,
          0.038316507409244215,
          0.28241385665362734,
          0.2644919156821041,
          0.34619062403868267,
          0.16997762259314353,
          0.31165495578906516,
          0.16515880906726985,
          0.34463412554461276,
          0.02081977336464321,
          0.19526151514223475,
          0.1683709431601512,
          0.2507600418891884,
          0.10154601829284315,
          0.19336443735257222,
          0.3457695389268164,
          0.2341264712241133,
          0.227096579754581,
          0.24528603177954186,
          0.08549747614444989,
          0.06757943093765825,
          0.2526712828850937,
          0.018920552651688446,
          0.0972014542489562,
          0.28841348944556977,
          0.3518055448018509,
          0.22615815621618338,
          0.014110676157358552,
          0.054483475890051355,
          0.29425619851936824,
          0.2580910256284669,
          0.1794202838676031
         ],
         "z": [
          -0.06181495826398861,
          -0.09869830077132877,
          -0.13895056802728528,
          -0.0563966309675499,
          -0.06471615067961789,
          -0.09135947206541309,
          -0.12382840768961287,
          -0.19833286472345646,
          -0.22072316801218775,
          -0.15760614886797558,
          -0.013445294790074136,
          -0.1423765538694034,
          -0.08307069524200793,
          0.010451356417686315,
          -0.14324114700185558,
          -0.005963702955980467,
          -0.11699694855634057,
          -0.08839265987033562,
          0.08497799191016574,
          -0.03742828728004107,
          -0.030900972438984237,
          -0.052819061295343875,
          -0.12332212150973323,
          -0.120075622446864,
          -0.21330140741682166,
          -0.013189068432617721,
          -0.015393393078978456,
          -0.006530389165388324,
          -0.07563340352483527,
          -0.04620555136801925,
          -0.2229147463766472,
          0.041858660196309315,
          -0.18249717953379663,
          -0.09247114480588653,
          -0.17139855482446517,
          -0.1205002315844773,
          0.02150921760377197,
          -0.07691313664606526,
          -0.10037224465063775,
          -0.1264559169053305,
          -0.06884854426515734,
          0.008640888341893825,
          -0.16264724823562632,
          -0.06789548192656875,
          -0.14665392649795103,
          0.01668842437977016,
          -0.14989132288127516,
          -0.01937320297037803,
          -0.08283060616782455,
          -0.008592771111308215,
          -0.2575463342437763,
          -0.11886105926794495,
          -0.0062322526284251095,
          0.04784247836596032,
          -0.006457674240084715
         ]
        },
        {
         "hovertemplate": "Book=pride and prejudice<br>x=%{x}<br>y=%{y}<br>z=%{z}<extra></extra>",
         "legendgroup": "pride and prejudice",
         "marker": {
          "color": "#EF553B",
          "symbol": "circle"
         },
         "mode": "markers",
         "name": "pride and prejudice",
         "scene": "scene",
         "showlegend": true,
         "type": "scatter3d",
         "x": [
          1.1215920538035362,
          -0.12740595303495603,
          0.32275228607413625,
          1.2447623439715083,
          0.2798293886184338,
          0.514539512555412,
          0.19220937846228642,
          -0.526206009043647,
          0.7296324552340169,
          -0.8455416161029674,
          0.1322004586939517,
          1.2551313603591234,
          0.5414848271917355,
          0.26270013676603493,
          0.29719947640205907,
          0.40126789559978193,
          0.29476134128609005,
          0.51988569152138,
          0.011265477876852305,
          0.5331858442108025,
          0.3333725117503178,
          -0.03990725724373713,
          0.5146386345719315,
          0.7917020549750712,
          0.6576883189545755,
          0.681054259672976,
          0.3938880066300439,
          -0.22859820038423714,
          -0.6434101260389403,
          -0.17070010302098027,
          0.6372343990846433,
          0.9754213203920986,
          0.4994930342893218,
          1.0027502818038516,
          0.5396249737825399,
          -0.40372029960743866,
          -0.02068033602397436,
          -0.6039556135924086,
          -0.020481289693859303,
          0.3213163715555027,
          -0.3784548716539804,
          -0.6438174487010782,
          -0.1271531293826527,
          0.3345908776350775,
          1.0408882270783506,
          -0.26722025547975786,
          0.284471533794534,
          -0.282726805015056,
          -0.15970288626919568,
          0.733200836783564,
          0.18476774214228103,
          -0.10762331864393947,
          0.36530267180186543,
          0.057156911207525016,
          0.05911519047797311,
          -0.07508755506561411,
          0.46204409745549196,
          0.5920836641202616,
          0.251338903045124,
          0.07945795903387437,
          0.4223082276896345
         ],
         "y": [
          0.22873149687524405,
          -0.11775821216096466,
          -0.14365612364386787,
          0.14257584721435138,
          -0.1579453613371071,
          -0.1799557123371777,
          -0.1702786162864535,
          -0.03686035073164086,
          0.029212925754376402,
          -0.006972603475959085,
          -0.17832606452777042,
          0.1987271111890385,
          0.01970887385926246,
          -0.0026764021987475827,
          -0.17171505156656844,
          -0.16003149938075567,
          0.0008803906109397868,
          0.08016053418059382,
          0.12789802452340726,
          -0.08569229035918192,
          -0.15074187552419951,
          -0.04784616183529379,
          0.13369067428844428,
          0.016766382753709053,
          0.15345314990425846,
          0.12012799242590469,
          0.04946132703297782,
          -0.27327608855536034,
          -0.26471818687050946,
          -0.29524151077253097,
          0.010751280376731034,
          0.11943070173971804,
          0.060335376032877544,
          0.123557012253151,
          -0.009393950621043666,
          -0.24327556687321072,
          -0.2080002873809285,
          -0.05872249527994718,
          -0.20203994039017087,
          -0.18615390539779547,
          -0.2134915065853709,
          -0.06858514790048274,
          -0.19636504152614545,
          0.004443454007497275,
          0.19475700037022145,
          -0.28081231554744157,
          0.018086788956589488,
          -0.09318681581240217,
          0.01534111055570656,
          0.08802296841099809,
          -0.009731911508786602,
          -0.15526765546054025,
          -0.08305541623084088,
          -0.14813309207755973,
          0.006250133362733151,
          -0.15645885417319583,
          -0.053304254676745294,
          -0.20177533338273806,
          -0.06715841511268064,
          -0.17092966377552896,
          0.14806911640675394
         ],
         "z": [
          0.030958661078165476,
          0.16879138626112944,
          0.07468614224773218,
          0.07710262164330431,
          0.09912098931092568,
          0.0737349850288998,
          0.2081769341715667,
          0.3188987556824621,
          0.19606095257780298,
          0.4765163452756399,
          0.09144996585966864,
          0.0335505463821086,
          0.08795833374130614,
          0.21721436101400743,
          0.07168870102011252,
          0.1520443604634632,
          0.1576288510917,
          0.2984107900628589,
          0.3242153197290305,
          0.14913590978793964,
          0.01584681905786986,
          0.18227307977794294,
          0.2940995269591982,
          0.12385472058551,
          0.14536511050827508,
          0.17644333512364427,
          0.1093872855991482,
          0.08328061619971179,
          0.21170245300578833,
          0.15128478490049085,
          0.1034129973943259,
          0.0651386233385414,
          0.158101961113081,
          0.07976676366555344,
          0.11454626079209837,
          0.20078180976201632,
          0.0781193107680737,
          0.23489716373940336,
          0.17750008509403484,
          0.11095283466245251,
          0.24334138165428162,
          0.3525923748496597,
          0.2593669177994724,
          0.16430040557994519,
          0.12606358556239552,
          0.17401292549984887,
          0.17030992898046954,
          0.2574647564483447,
          0.3180863356038917,
          0.14268707192368155,
          0.1967406460462797,
          0.2255600161899859,
          0.18358803693745027,
          0.13276506574453995,
          0.2176823106803195,
          0.16293682317742636,
          0.12325891253080286,
          0.06211682682913456,
          0.20707010287906916,
          0.13611955935569792,
          0.24114565153875203
         ]
        },
        {
         "hovertemplate": "Book=sense and sensibility<br>x=%{x}<br>y=%{y}<br>z=%{z}<extra></extra>",
         "legendgroup": "sense and sensibility",
         "marker": {
          "color": "#00cc96",
          "symbol": "circle"
         },
         "mode": "markers",
         "name": "sense and sensibility",
         "scene": "scene",
         "showlegend": true,
         "type": "scatter3d",
         "x": [
          0.2446616715322997,
          -0.36158112696954875,
          0.39520166340986684,
          0.30384582276906064,
          0.30887618456800253,
          0.550608315005444,
          -0.01806471892088596,
          -0.08568417095524784,
          0.18404258618807837,
          0.25145483205730335,
          -0.22108217481667863,
          0.639983374390331,
          0.19933386400819464,
          -0.4272443181756461,
          -0.09904831692360395,
          -0.2934644348174068,
          -0.01348160052339715,
          0.2883452358658584,
          -0.1613708755203244,
          -0.13251608766879705,
          0.5873361192485147,
          -0.6158976606898149,
          0.4959239901830093,
          -0.31594519879446414,
          -0.7745706788362992,
          -0.26041632544675675,
          -0.43157591849575017,
          -0.2027228405446812,
          0.21961878039582924,
          -0.4975304261615012,
          -0.8091299068812741,
          -0.17334470087731088,
          0.05602908328406287,
          0.17068752942526697,
          0.05354636084436519,
          -0.17072595700474788,
          -0.49988530140734255,
          -0.6251656658016511,
          -1.0228190248419355,
          0.1169564575373409,
          -0.8501538583969508,
          -0.14808544264631418,
          0.5891958005520569,
          -0.7264464393928988,
          0.884630640871191,
          -0.5537592836419699,
          0.44425501619925756,
          0.49579182336438243,
          0.6434979495115856,
          -0.09250474970861249
         ],
         "y": [
          -0.3023255871874162,
          -0.319309972669249,
          -0.24244645429769576,
          -0.21798281337701864,
          0.003919764096775082,
          -0.1405629608615076,
          -0.24328627054594743,
          -0.33616213926307725,
          -0.21496186535734088,
          -0.2167933778646889,
          -0.14588250246293263,
          0.05529276432746323,
          0.16385582963191828,
          -0.15697446775618074,
          0.006083769158971466,
          -0.2854250924343237,
          -0.179088188502598,
          -0.177120305304992,
          -0.22661192379820805,
          -0.08719692701147644,
          -0.1913008360196011,
          -0.2142918343503376,
          -0.23298980020759485,
          -0.11067950670784704,
          -0.23846591802662087,
          -0.15934266068464115,
          -0.12063572249605742,
          -0.1626740046763589,
          0.030646551688720478,
          -0.11368382766165498,
          -0.09254810167215677,
          0.08004691401979336,
          -0.22382483535460876,
          -0.16525319228384716,
          0.08951413463511035,
          -0.023318963787313903,
          -0.3355277711700797,
          -0.27181884161824293,
          -0.1625304664490097,
          -0.26206046198624644,
          -0.30344752197336466,
          -0.3013320103515701,
          -0.20252846273019928,
          -0.19455823619098567,
          -0.05219989670649317,
          -0.3174111026183343,
          -0.26960993115980375,
          -0.08436197323108212,
          -0.1629208816801229,
          -0.24555355189154354
         ],
         "z": [
          -0.18740061977150319,
          -0.15584896540222093,
          -0.24740957651581252,
          -0.15996862466501985,
          -0.10729079806841942,
          -0.2192242250347639,
          -0.12267908858615922,
          -0.15036788745314517,
          -0.19767664685511507,
          -0.19347959490996064,
          -0.10345360214211007,
          -0.12843560021156214,
          0.003800309737471863,
          -0.03725142140501746,
          -0.05822835464213789,
          -0.10716560600218727,
          -0.0983327715375139,
          -0.169723932053638,
          -0.0848770382638363,
          -0.033344946360612096,
          -0.20617715162656455,
          -0.019157511167435998,
          -0.2264334114288024,
          -0.07317164285769927,
          -0.00474196907723291,
          -0.10196051621739077,
          -0.04881238962449361,
          -0.09407809725358378,
          -0.027343686546624488,
          -0.05831182554855418,
          0.04473753974218546,
          0.022118086479148157,
          -0.13917295483837486,
          -0.1853899483274493,
          -0.004850266815620346,
          -0.01651778037840936,
          -0.1256188514347651,
          -0.0824452984192427,
          0.018343372227146503,
          -0.20053680287608622,
          -0.11188440074765507,
          -0.15029188974745583,
          -0.17674314272902147,
          -0.0520488536741306,
          -0.19975861678429932,
          -0.1247742897041324,
          -0.24217917795773314,
          -0.18539586080965773,
          -0.25285348011921704,
          -0.13940276902184118
         ]
        }
       ],
       "layout": {
        "legend": {
         "title": {
          "text": "Book"
         },
         "tracegroupgap": 0
        },
        "margin": {
         "t": 60
        },
        "scene": {
         "domain": {
          "x": [
           0,
           1
          ],
          "y": [
           0,
           1
          ]
         },
         "xaxis": {
          "title": {
           "text": "x"
          }
         },
         "yaxis": {
          "title": {
           "text": "y"
          }
         },
         "zaxis": {
          "title": {
           "text": "z"
          }
         }
        },
        "template": {
         "data": {
          "bar": [
           {
            "error_x": {
             "color": "#2a3f5f"
            },
            "error_y": {
             "color": "#2a3f5f"
            },
            "marker": {
             "line": {
              "color": "#E5ECF6",
              "width": 0.5
             }
            },
            "type": "bar"
           }
          ],
          "barpolar": [
           {
            "marker": {
             "line": {
              "color": "#E5ECF6",
              "width": 0.5
             }
            },
            "type": "barpolar"
           }
          ],
          "carpet": [
           {
            "aaxis": {
             "endlinecolor": "#2a3f5f",
             "gridcolor": "white",
             "linecolor": "white",
             "minorgridcolor": "white",
             "startlinecolor": "#2a3f5f"
            },
            "baxis": {
             "endlinecolor": "#2a3f5f",
             "gridcolor": "white",
             "linecolor": "white",
             "minorgridcolor": "white",
             "startlinecolor": "#2a3f5f"
            },
            "type": "carpet"
           }
          ],
          "choropleth": [
           {
            "colorbar": {
             "outlinewidth": 0,
             "ticks": ""
            },
            "type": "choropleth"
           }
          ],
          "contour": [
           {
            "colorbar": {
             "outlinewidth": 0,
             "ticks": ""
            },
            "colorscale": [
             [
              0,
              "#0d0887"
             ],
             [
              0.1111111111111111,
              "#46039f"
             ],
             [
              0.2222222222222222,
              "#7201a8"
             ],
             [
              0.3333333333333333,
              "#9c179e"
             ],
             [
              0.4444444444444444,
              "#bd3786"
             ],
             [
              0.5555555555555556,
              "#d8576b"
             ],
             [
              0.6666666666666666,
              "#ed7953"
             ],
             [
              0.7777777777777778,
              "#fb9f3a"
             ],
             [
              0.8888888888888888,
              "#fdca26"
             ],
             [
              1,
              "#f0f921"
             ]
            ],
            "type": "contour"
           }
          ],
          "contourcarpet": [
           {
            "colorbar": {
             "outlinewidth": 0,
             "ticks": ""
            },
            "type": "contourcarpet"
           }
          ],
          "heatmap": [
           {
            "colorbar": {
             "outlinewidth": 0,
             "ticks": ""
            },
            "colorscale": [
             [
              0,
              "#0d0887"
             ],
             [
              0.1111111111111111,
              "#46039f"
             ],
             [
              0.2222222222222222,
              "#7201a8"
             ],
             [
              0.3333333333333333,
              "#9c179e"
             ],
             [
              0.4444444444444444,
              "#bd3786"
             ],
             [
              0.5555555555555556,
              "#d8576b"
             ],
             [
              0.6666666666666666,
              "#ed7953"
             ],
             [
              0.7777777777777778,
              "#fb9f3a"
             ],
             [
              0.8888888888888888,
              "#fdca26"
             ],
             [
              1,
              "#f0f921"
             ]
            ],
            "type": "heatmap"
           }
          ],
          "heatmapgl": [
           {
            "colorbar": {
             "outlinewidth": 0,
             "ticks": ""
            },
            "colorscale": [
             [
              0,
              "#0d0887"
             ],
             [
              0.1111111111111111,
              "#46039f"
             ],
             [
              0.2222222222222222,
              "#7201a8"
             ],
             [
              0.3333333333333333,
              "#9c179e"
             ],
             [
              0.4444444444444444,
              "#bd3786"
             ],
             [
              0.5555555555555556,
              "#d8576b"
             ],
             [
              0.6666666666666666,
              "#ed7953"
             ],
             [
              0.7777777777777778,
              "#fb9f3a"
             ],
             [
              0.8888888888888888,
              "#fdca26"
             ],
             [
              1,
              "#f0f921"
             ]
            ],
            "type": "heatmapgl"
           }
          ],
          "histogram": [
           {
            "marker": {
             "colorbar": {
              "outlinewidth": 0,
              "ticks": ""
             }
            },
            "type": "histogram"
           }
          ],
          "histogram2d": [
           {
            "colorbar": {
             "outlinewidth": 0,
             "ticks": ""
            },
            "colorscale": [
             [
              0,
              "#0d0887"
             ],
             [
              0.1111111111111111,
              "#46039f"
             ],
             [
              0.2222222222222222,
              "#7201a8"
             ],
             [
              0.3333333333333333,
              "#9c179e"
             ],
             [
              0.4444444444444444,
              "#bd3786"
             ],
             [
              0.5555555555555556,
              "#d8576b"
             ],
             [
              0.6666666666666666,
              "#ed7953"
             ],
             [
              0.7777777777777778,
              "#fb9f3a"
             ],
             [
              0.8888888888888888,
              "#fdca26"
             ],
             [
              1,
              "#f0f921"
             ]
            ],
            "type": "histogram2d"
           }
          ],
          "histogram2dcontour": [
           {
            "colorbar": {
             "outlinewidth": 0,
             "ticks": ""
            },
            "colorscale": [
             [
              0,
              "#0d0887"
             ],
             [
              0.1111111111111111,
              "#46039f"
             ],
             [
              0.2222222222222222,
              "#7201a8"
             ],
             [
              0.3333333333333333,
              "#9c179e"
             ],
             [
              0.4444444444444444,
              "#bd3786"
             ],
             [
              0.5555555555555556,
              "#d8576b"
             ],
             [
              0.6666666666666666,
              "#ed7953"
             ],
             [
              0.7777777777777778,
              "#fb9f3a"
             ],
             [
              0.8888888888888888,
              "#fdca26"
             ],
             [
              1,
              "#f0f921"
             ]
            ],
            "type": "histogram2dcontour"
           }
          ],
          "mesh3d": [
           {
            "colorbar": {
             "outlinewidth": 0,
             "ticks": ""
            },
            "type": "mesh3d"
           }
          ],
          "parcoords": [
           {
            "line": {
             "colorbar": {
              "outlinewidth": 0,
              "ticks": ""
             }
            },
            "type": "parcoords"
           }
          ],
          "pie": [
           {
            "automargin": true,
            "type": "pie"
           }
          ],
          "scatter": [
           {
            "marker": {
             "colorbar": {
              "outlinewidth": 0,
              "ticks": ""
             }
            },
            "type": "scatter"
           }
          ],
          "scatter3d": [
           {
            "line": {
             "colorbar": {
              "outlinewidth": 0,
              "ticks": ""
             }
            },
            "marker": {
             "colorbar": {
              "outlinewidth": 0,
              "ticks": ""
             }
            },
            "type": "scatter3d"
           }
          ],
          "scattercarpet": [
           {
            "marker": {
             "colorbar": {
              "outlinewidth": 0,
              "ticks": ""
             }
            },
            "type": "scattercarpet"
           }
          ],
          "scattergeo": [
           {
            "marker": {
             "colorbar": {
              "outlinewidth": 0,
              "ticks": ""
             }
            },
            "type": "scattergeo"
           }
          ],
          "scattergl": [
           {
            "marker": {
             "colorbar": {
              "outlinewidth": 0,
              "ticks": ""
             }
            },
            "type": "scattergl"
           }
          ],
          "scattermapbox": [
           {
            "marker": {
             "colorbar": {
              "outlinewidth": 0,
              "ticks": ""
             }
            },
            "type": "scattermapbox"
           }
          ],
          "scatterpolar": [
           {
            "marker": {
             "colorbar": {
              "outlinewidth": 0,
              "ticks": ""
             }
            },
            "type": "scatterpolar"
           }
          ],
          "scatterpolargl": [
           {
            "marker": {
             "colorbar": {
              "outlinewidth": 0,
              "ticks": ""
             }
            },
            "type": "scatterpolargl"
           }
          ],
          "scatterternary": [
           {
            "marker": {
             "colorbar": {
              "outlinewidth": 0,
              "ticks": ""
             }
            },
            "type": "scatterternary"
           }
          ],
          "surface": [
           {
            "colorbar": {
             "outlinewidth": 0,
             "ticks": ""
            },
            "colorscale": [
             [
              0,
              "#0d0887"
             ],
             [
              0.1111111111111111,
              "#46039f"
             ],
             [
              0.2222222222222222,
              "#7201a8"
             ],
             [
              0.3333333333333333,
              "#9c179e"
             ],
             [
              0.4444444444444444,
              "#bd3786"
             ],
             [
              0.5555555555555556,
              "#d8576b"
             ],
             [
              0.6666666666666666,
              "#ed7953"
             ],
             [
              0.7777777777777778,
              "#fb9f3a"
             ],
             [
              0.8888888888888888,
              "#fdca26"
             ],
             [
              1,
              "#f0f921"
             ]
            ],
            "type": "surface"
           }
          ],
          "table": [
           {
            "cells": {
             "fill": {
              "color": "#EBF0F8"
             },
             "line": {
              "color": "white"
             }
            },
            "header": {
             "fill": {
              "color": "#C8D4E3"
             },
             "line": {
              "color": "white"
             }
            },
            "type": "table"
           }
          ]
         },
         "layout": {
          "annotationdefaults": {
           "arrowcolor": "#2a3f5f",
           "arrowhead": 0,
           "arrowwidth": 1
          },
          "coloraxis": {
           "colorbar": {
            "outlinewidth": 0,
            "ticks": ""
           }
          },
          "colorscale": {
           "diverging": [
            [
             0,
             "#8e0152"
            ],
            [
             0.1,
             "#c51b7d"
            ],
            [
             0.2,
             "#de77ae"
            ],
            [
             0.3,
             "#f1b6da"
            ],
            [
             0.4,
             "#fde0ef"
            ],
            [
             0.5,
             "#f7f7f7"
            ],
            [
             0.6,
             "#e6f5d0"
            ],
            [
             0.7,
             "#b8e186"
            ],
            [
             0.8,
             "#7fbc41"
            ],
            [
             0.9,
             "#4d9221"
            ],
            [
             1,
             "#276419"
            ]
           ],
           "sequential": [
            [
             0,
             "#0d0887"
            ],
            [
             0.1111111111111111,
             "#46039f"
            ],
            [
             0.2222222222222222,
             "#7201a8"
            ],
            [
             0.3333333333333333,
             "#9c179e"
            ],
            [
             0.4444444444444444,
             "#bd3786"
            ],
            [
             0.5555555555555556,
             "#d8576b"
            ],
            [
             0.6666666666666666,
             "#ed7953"
            ],
            [
             0.7777777777777778,
             "#fb9f3a"
            ],
            [
             0.8888888888888888,
             "#fdca26"
            ],
            [
             1,
             "#f0f921"
            ]
           ],
           "sequentialminus": [
            [
             0,
             "#0d0887"
            ],
            [
             0.1111111111111111,
             "#46039f"
            ],
            [
             0.2222222222222222,
             "#7201a8"
            ],
            [
             0.3333333333333333,
             "#9c179e"
            ],
            [
             0.4444444444444444,
             "#bd3786"
            ],
            [
             0.5555555555555556,
             "#d8576b"
            ],
            [
             0.6666666666666666,
             "#ed7953"
            ],
            [
             0.7777777777777778,
             "#fb9f3a"
            ],
            [
             0.8888888888888888,
             "#fdca26"
            ],
            [
             1,
             "#f0f921"
            ]
           ]
          },
          "colorway": [
           "#636efa",
           "#EF553B",
           "#00cc96",
           "#ab63fa",
           "#FFA15A",
           "#19d3f3",
           "#FF6692",
           "#B6E880",
           "#FF97FF",
           "#FECB52"
          ],
          "font": {
           "color": "#2a3f5f"
          },
          "geo": {
           "bgcolor": "white",
           "lakecolor": "white",
           "landcolor": "#E5ECF6",
           "showlakes": true,
           "showland": true,
           "subunitcolor": "white"
          },
          "hoverlabel": {
           "align": "left"
          },
          "hovermode": "closest",
          "mapbox": {
           "style": "light"
          },
          "paper_bgcolor": "white",
          "plot_bgcolor": "#E5ECF6",
          "polar": {
           "angularaxis": {
            "gridcolor": "white",
            "linecolor": "white",
            "ticks": ""
           },
           "bgcolor": "#E5ECF6",
           "radialaxis": {
            "gridcolor": "white",
            "linecolor": "white",
            "ticks": ""
           }
          },
          "scene": {
           "xaxis": {
            "backgroundcolor": "#E5ECF6",
            "gridcolor": "white",
            "gridwidth": 2,
            "linecolor": "white",
            "showbackground": true,
            "ticks": "",
            "zerolinecolor": "white"
           },
           "yaxis": {
            "backgroundcolor": "#E5ECF6",
            "gridcolor": "white",
            "gridwidth": 2,
            "linecolor": "white",
            "showbackground": true,
            "ticks": "",
            "zerolinecolor": "white"
           },
           "zaxis": {
            "backgroundcolor": "#E5ECF6",
            "gridcolor": "white",
            "gridwidth": 2,
            "linecolor": "white",
            "showbackground": true,
            "ticks": "",
            "zerolinecolor": "white"
           }
          },
          "shapedefaults": {
           "line": {
            "color": "#2a3f5f"
           }
          },
          "ternary": {
           "aaxis": {
            "gridcolor": "white",
            "linecolor": "white",
            "ticks": ""
           },
           "baxis": {
            "gridcolor": "white",
            "linecolor": "white",
            "ticks": ""
           },
           "bgcolor": "#E5ECF6",
           "caxis": {
            "gridcolor": "white",
            "linecolor": "white",
            "ticks": ""
           }
          },
          "title": {
           "x": 0.05
          },
          "xaxis": {
           "automargin": true,
           "gridcolor": "white",
           "linecolor": "white",
           "ticks": "",
           "title": {
            "standoff": 15
           },
           "zerolinecolor": "white",
           "zerolinewidth": 2
          },
          "yaxis": {
           "automargin": true,
           "gridcolor": "white",
           "linecolor": "white",
           "ticks": "",
           "title": {
            "standoff": 15
           },
           "zerolinecolor": "white",
           "zerolinewidth": 2
          }
         }
        }
       }
      },
      "text/html": [
       "<div>                            <div id=\"2f9e2880-107b-4f86-b491-6ad360272cbd\" class=\"plotly-graph-div\" style=\"height:525px; width:100%;\"></div>            <script type=\"text/javascript\">                require([\"plotly\"], function(Plotly) {                    window.PLOTLYENV=window.PLOTLYENV || {};                                    if (document.getElementById(\"2f9e2880-107b-4f86-b491-6ad360272cbd\")) {                    Plotly.newPlot(                        \"2f9e2880-107b-4f86-b491-6ad360272cbd\",                        [{\"hovertemplate\": \"Book=emma<br>x=%{x}<br>y=%{y}<br>z=%{z}<extra></extra>\", \"legendgroup\": \"emma\", \"marker\": {\"color\": \"#636efa\", \"symbol\": \"circle\"}, \"mode\": \"markers\", \"name\": \"emma\", \"scene\": \"scene\", \"showlegend\": true, \"type\": \"scatter3d\", \"x\": [-0.19445240515095832, -0.4230564955551012, 0.10920744315006832, -0.36403644566569, -0.3485448495777748, 0.029468703225508017, -0.4080906779372572, 0.005213562033726973, 0.6335115587058887, -0.11036125045931514, -0.025272202896424057, 0.2457753782911754, -0.5383505767960807, -0.28193521341344635, 0.023942054848214794, -0.5114616718675297, -0.33879710094251636, -0.012944920347057645, -1.1481065457768531, -0.22401457344823544, 0.1939916803533673, -0.19095081625279267, -0.4097796437835971, 0.13427439083957252, -0.034428610340130145, -0.5242598825858791, -0.45077023925984283, -0.4178053094241623, 0.013907552265440964, -0.23208328985656446, 0.7058657479365738, -0.5703107743307937, 0.010930888513890404, -0.3794836534227904, 0.2435911258502382, -0.30434924482016223, -1.084651058566646, -0.5127183854519878, 0.023672269360641224, -0.23670094146518372, -0.3190431259498278, -0.6260517534978468, -0.3749831954770512, -0.5556165825593573, 0.22944001719602763, -0.9194133289713228, -0.12802903419687908, -0.45521163774498846, -0.33556396950170486, -0.460888055863036, 0.47354870665829446, -0.19145690051456596, 0.20058507567118453, -0.6276064431383263, -0.7418691087967844], \"y\": [0.30648432170138395, 0.05458053345316538, 0.2645210807381272, 0.31102575834085855, 0.30963871401801096, 0.3618244306683258, 0.15043527467403756, 0.06758798315181186, 0.15235000814383512, 0.10141899144512827, 0.3465728771039139, 0.15584149487879762, -0.11628751217252534, 0.43683469468940356, -0.020429305914170012, 0.30356350740742855, 0.16454426183069962, 0.3072514831159195, 0.32381894126815064, 0.3645654515778162, 0.3944176703615423, 0.3775845198419, -0.010440750011586017, 0.23518219764310327, 0.038316507409244215, 0.28241385665362734, 0.2644919156821041, 0.34619062403868267, 0.16997762259314353, 0.31165495578906516, 0.16515880906726985, 0.34463412554461276, 0.02081977336464321, 0.19526151514223475, 0.1683709431601512, 0.2507600418891884, 0.10154601829284315, 0.19336443735257222, 0.3457695389268164, 0.2341264712241133, 0.227096579754581, 0.24528603177954186, 0.08549747614444989, 0.06757943093765825, 0.2526712828850937, 0.018920552651688446, 0.0972014542489562, 0.28841348944556977, 0.3518055448018509, 0.22615815621618338, 0.014110676157358552, 0.054483475890051355, 0.29425619851936824, 0.2580910256284669, 0.1794202838676031], \"z\": [-0.06181495826398861, -0.09869830077132877, -0.13895056802728528, -0.0563966309675499, -0.06471615067961789, -0.09135947206541309, -0.12382840768961287, -0.19833286472345646, -0.22072316801218775, -0.15760614886797558, -0.013445294790074136, -0.1423765538694034, -0.08307069524200793, 0.010451356417686315, -0.14324114700185558, -0.005963702955980467, -0.11699694855634057, -0.08839265987033562, 0.08497799191016574, -0.03742828728004107, -0.030900972438984237, -0.052819061295343875, -0.12332212150973323, -0.120075622446864, -0.21330140741682166, -0.013189068432617721, -0.015393393078978456, -0.006530389165388324, -0.07563340352483527, -0.04620555136801925, -0.2229147463766472, 0.041858660196309315, -0.18249717953379663, -0.09247114480588653, -0.17139855482446517, -0.1205002315844773, 0.02150921760377197, -0.07691313664606526, -0.10037224465063775, -0.1264559169053305, -0.06884854426515734, 0.008640888341893825, -0.16264724823562632, -0.06789548192656875, -0.14665392649795103, 0.01668842437977016, -0.14989132288127516, -0.01937320297037803, -0.08283060616782455, -0.008592771111308215, -0.2575463342437763, -0.11886105926794495, -0.0062322526284251095, 0.04784247836596032, -0.006457674240084715]}, {\"hovertemplate\": \"Book=pride and prejudice<br>x=%{x}<br>y=%{y}<br>z=%{z}<extra></extra>\", \"legendgroup\": \"pride and prejudice\", \"marker\": {\"color\": \"#EF553B\", \"symbol\": \"circle\"}, \"mode\": \"markers\", \"name\": \"pride and prejudice\", \"scene\": \"scene\", \"showlegend\": true, \"type\": \"scatter3d\", \"x\": [1.1215920538035362, -0.12740595303495603, 0.32275228607413625, 1.2447623439715083, 0.2798293886184338, 0.514539512555412, 0.19220937846228642, -0.526206009043647, 0.7296324552340169, -0.8455416161029674, 0.1322004586939517, 1.2551313603591234, 0.5414848271917355, 0.26270013676603493, 0.29719947640205907, 0.40126789559978193, 0.29476134128609005, 0.51988569152138, 0.011265477876852305, 0.5331858442108025, 0.3333725117503178, -0.03990725724373713, 0.5146386345719315, 0.7917020549750712, 0.6576883189545755, 0.681054259672976, 0.3938880066300439, -0.22859820038423714, -0.6434101260389403, -0.17070010302098027, 0.6372343990846433, 0.9754213203920986, 0.4994930342893218, 1.0027502818038516, 0.5396249737825399, -0.40372029960743866, -0.02068033602397436, -0.6039556135924086, -0.020481289693859303, 0.3213163715555027, -0.3784548716539804, -0.6438174487010782, -0.1271531293826527, 0.3345908776350775, 1.0408882270783506, -0.26722025547975786, 0.284471533794534, -0.282726805015056, -0.15970288626919568, 0.733200836783564, 0.18476774214228103, -0.10762331864393947, 0.36530267180186543, 0.057156911207525016, 0.05911519047797311, -0.07508755506561411, 0.46204409745549196, 0.5920836641202616, 0.251338903045124, 0.07945795903387437, 0.4223082276896345], \"y\": [0.22873149687524405, -0.11775821216096466, -0.14365612364386787, 0.14257584721435138, -0.1579453613371071, -0.1799557123371777, -0.1702786162864535, -0.03686035073164086, 0.029212925754376402, -0.006972603475959085, -0.17832606452777042, 0.1987271111890385, 0.01970887385926246, -0.0026764021987475827, -0.17171505156656844, -0.16003149938075567, 0.0008803906109397868, 0.08016053418059382, 0.12789802452340726, -0.08569229035918192, -0.15074187552419951, -0.04784616183529379, 0.13369067428844428, 0.016766382753709053, 0.15345314990425846, 0.12012799242590469, 0.04946132703297782, -0.27327608855536034, -0.26471818687050946, -0.29524151077253097, 0.010751280376731034, 0.11943070173971804, 0.060335376032877544, 0.123557012253151, -0.009393950621043666, -0.24327556687321072, -0.2080002873809285, -0.05872249527994718, -0.20203994039017087, -0.18615390539779547, -0.2134915065853709, -0.06858514790048274, -0.19636504152614545, 0.004443454007497275, 0.19475700037022145, -0.28081231554744157, 0.018086788956589488, -0.09318681581240217, 0.01534111055570656, 0.08802296841099809, -0.009731911508786602, -0.15526765546054025, -0.08305541623084088, -0.14813309207755973, 0.006250133362733151, -0.15645885417319583, -0.053304254676745294, -0.20177533338273806, -0.06715841511268064, -0.17092966377552896, 0.14806911640675394], \"z\": [0.030958661078165476, 0.16879138626112944, 0.07468614224773218, 0.07710262164330431, 0.09912098931092568, 0.0737349850288998, 0.2081769341715667, 0.3188987556824621, 0.19606095257780298, 0.4765163452756399, 0.09144996585966864, 0.0335505463821086, 0.08795833374130614, 0.21721436101400743, 0.07168870102011252, 0.1520443604634632, 0.1576288510917, 0.2984107900628589, 0.3242153197290305, 0.14913590978793964, 0.01584681905786986, 0.18227307977794294, 0.2940995269591982, 0.12385472058551, 0.14536511050827508, 0.17644333512364427, 0.1093872855991482, 0.08328061619971179, 0.21170245300578833, 0.15128478490049085, 0.1034129973943259, 0.0651386233385414, 0.158101961113081, 0.07976676366555344, 0.11454626079209837, 0.20078180976201632, 0.0781193107680737, 0.23489716373940336, 0.17750008509403484, 0.11095283466245251, 0.24334138165428162, 0.3525923748496597, 0.2593669177994724, 0.16430040557994519, 0.12606358556239552, 0.17401292549984887, 0.17030992898046954, 0.2574647564483447, 0.3180863356038917, 0.14268707192368155, 0.1967406460462797, 0.2255600161899859, 0.18358803693745027, 0.13276506574453995, 0.2176823106803195, 0.16293682317742636, 0.12325891253080286, 0.06211682682913456, 0.20707010287906916, 0.13611955935569792, 0.24114565153875203]}, {\"hovertemplate\": \"Book=sense and sensibility<br>x=%{x}<br>y=%{y}<br>z=%{z}<extra></extra>\", \"legendgroup\": \"sense and sensibility\", \"marker\": {\"color\": \"#00cc96\", \"symbol\": \"circle\"}, \"mode\": \"markers\", \"name\": \"sense and sensibility\", \"scene\": \"scene\", \"showlegend\": true, \"type\": \"scatter3d\", \"x\": [0.2446616715322997, -0.36158112696954875, 0.39520166340986684, 0.30384582276906064, 0.30887618456800253, 0.550608315005444, -0.01806471892088596, -0.08568417095524784, 0.18404258618807837, 0.25145483205730335, -0.22108217481667863, 0.639983374390331, 0.19933386400819464, -0.4272443181756461, -0.09904831692360395, -0.2934644348174068, -0.01348160052339715, 0.2883452358658584, -0.1613708755203244, -0.13251608766879705, 0.5873361192485147, -0.6158976606898149, 0.4959239901830093, -0.31594519879446414, -0.7745706788362992, -0.26041632544675675, -0.43157591849575017, -0.2027228405446812, 0.21961878039582924, -0.4975304261615012, -0.8091299068812741, -0.17334470087731088, 0.05602908328406287, 0.17068752942526697, 0.05354636084436519, -0.17072595700474788, -0.49988530140734255, -0.6251656658016511, -1.0228190248419355, 0.1169564575373409, -0.8501538583969508, -0.14808544264631418, 0.5891958005520569, -0.7264464393928988, 0.884630640871191, -0.5537592836419699, 0.44425501619925756, 0.49579182336438243, 0.6434979495115856, -0.09250474970861249], \"y\": [-0.3023255871874162, -0.319309972669249, -0.24244645429769576, -0.21798281337701864, 0.003919764096775082, -0.1405629608615076, -0.24328627054594743, -0.33616213926307725, -0.21496186535734088, -0.2167933778646889, -0.14588250246293263, 0.05529276432746323, 0.16385582963191828, -0.15697446775618074, 0.006083769158971466, -0.2854250924343237, -0.179088188502598, -0.177120305304992, -0.22661192379820805, -0.08719692701147644, -0.1913008360196011, -0.2142918343503376, -0.23298980020759485, -0.11067950670784704, -0.23846591802662087, -0.15934266068464115, -0.12063572249605742, -0.1626740046763589, 0.030646551688720478, -0.11368382766165498, -0.09254810167215677, 0.08004691401979336, -0.22382483535460876, -0.16525319228384716, 0.08951413463511035, -0.023318963787313903, -0.3355277711700797, -0.27181884161824293, -0.1625304664490097, -0.26206046198624644, -0.30344752197336466, -0.3013320103515701, -0.20252846273019928, -0.19455823619098567, -0.05219989670649317, -0.3174111026183343, -0.26960993115980375, -0.08436197323108212, -0.1629208816801229, -0.24555355189154354], \"z\": [-0.18740061977150319, -0.15584896540222093, -0.24740957651581252, -0.15996862466501985, -0.10729079806841942, -0.2192242250347639, -0.12267908858615922, -0.15036788745314517, -0.19767664685511507, -0.19347959490996064, -0.10345360214211007, -0.12843560021156214, 0.003800309737471863, -0.03725142140501746, -0.05822835464213789, -0.10716560600218727, -0.0983327715375139, -0.169723932053638, -0.0848770382638363, -0.033344946360612096, -0.20617715162656455, -0.019157511167435998, -0.2264334114288024, -0.07317164285769927, -0.00474196907723291, -0.10196051621739077, -0.04881238962449361, -0.09407809725358378, -0.027343686546624488, -0.05831182554855418, 0.04473753974218546, 0.022118086479148157, -0.13917295483837486, -0.1853899483274493, -0.004850266815620346, -0.01651778037840936, -0.1256188514347651, -0.0824452984192427, 0.018343372227146503, -0.20053680287608622, -0.11188440074765507, -0.15029188974745583, -0.17674314272902147, -0.0520488536741306, -0.19975861678429932, -0.1247742897041324, -0.24217917795773314, -0.18539586080965773, -0.25285348011921704, -0.13940276902184118]}],                        {\"legend\": {\"title\": {\"text\": \"Book\"}, \"tracegroupgap\": 0}, \"margin\": {\"t\": 60}, \"scene\": {\"domain\": {\"x\": [0.0, 1.0], \"y\": [0.0, 1.0]}, \"xaxis\": {\"title\": {\"text\": \"x\"}}, \"yaxis\": {\"title\": {\"text\": \"y\"}}, \"zaxis\": {\"title\": {\"text\": \"z\"}}}, \"template\": {\"data\": {\"bar\": [{\"error_x\": {\"color\": \"#2a3f5f\"}, \"error_y\": {\"color\": \"#2a3f5f\"}, \"marker\": {\"line\": {\"color\": \"#E5ECF6\", \"width\": 0.5}}, \"type\": \"bar\"}], \"barpolar\": [{\"marker\": {\"line\": {\"color\": \"#E5ECF6\", \"width\": 0.5}}, \"type\": \"barpolar\"}], \"carpet\": [{\"aaxis\": {\"endlinecolor\": \"#2a3f5f\", \"gridcolor\": \"white\", \"linecolor\": \"white\", \"minorgridcolor\": \"white\", \"startlinecolor\": \"#2a3f5f\"}, \"baxis\": {\"endlinecolor\": \"#2a3f5f\", \"gridcolor\": \"white\", \"linecolor\": \"white\", \"minorgridcolor\": \"white\", \"startlinecolor\": \"#2a3f5f\"}, \"type\": \"carpet\"}], \"choropleth\": [{\"colorbar\": {\"outlinewidth\": 0, \"ticks\": \"\"}, \"type\": \"choropleth\"}], \"contour\": [{\"colorbar\": {\"outlinewidth\": 0, \"ticks\": \"\"}, \"colorscale\": [[0.0, \"#0d0887\"], [0.1111111111111111, \"#46039f\"], [0.2222222222222222, \"#7201a8\"], [0.3333333333333333, \"#9c179e\"], [0.4444444444444444, \"#bd3786\"], [0.5555555555555556, \"#d8576b\"], [0.6666666666666666, \"#ed7953\"], [0.7777777777777778, \"#fb9f3a\"], [0.8888888888888888, \"#fdca26\"], [1.0, \"#f0f921\"]], \"type\": \"contour\"}], \"contourcarpet\": [{\"colorbar\": {\"outlinewidth\": 0, \"ticks\": \"\"}, \"type\": \"contourcarpet\"}], \"heatmap\": [{\"colorbar\": {\"outlinewidth\": 0, \"ticks\": \"\"}, \"colorscale\": [[0.0, \"#0d0887\"], [0.1111111111111111, \"#46039f\"], [0.2222222222222222, \"#7201a8\"], [0.3333333333333333, \"#9c179e\"], [0.4444444444444444, \"#bd3786\"], [0.5555555555555556, \"#d8576b\"], [0.6666666666666666, \"#ed7953\"], [0.7777777777777778, \"#fb9f3a\"], [0.8888888888888888, \"#fdca26\"], [1.0, \"#f0f921\"]], \"type\": \"heatmap\"}], \"heatmapgl\": [{\"colorbar\": {\"outlinewidth\": 0, \"ticks\": \"\"}, \"colorscale\": [[0.0, \"#0d0887\"], [0.1111111111111111, \"#46039f\"], [0.2222222222222222, \"#7201a8\"], [0.3333333333333333, \"#9c179e\"], [0.4444444444444444, \"#bd3786\"], [0.5555555555555556, \"#d8576b\"], [0.6666666666666666, \"#ed7953\"], [0.7777777777777778, \"#fb9f3a\"], [0.8888888888888888, \"#fdca26\"], [1.0, \"#f0f921\"]], \"type\": \"heatmapgl\"}], \"histogram\": [{\"marker\": {\"colorbar\": {\"outlinewidth\": 0, \"ticks\": \"\"}}, \"type\": \"histogram\"}], \"histogram2d\": [{\"colorbar\": {\"outlinewidth\": 0, \"ticks\": \"\"}, \"colorscale\": [[0.0, \"#0d0887\"], [0.1111111111111111, \"#46039f\"], [0.2222222222222222, \"#7201a8\"], [0.3333333333333333, \"#9c179e\"], [0.4444444444444444, \"#bd3786\"], [0.5555555555555556, \"#d8576b\"], [0.6666666666666666, \"#ed7953\"], [0.7777777777777778, \"#fb9f3a\"], [0.8888888888888888, \"#fdca26\"], [1.0, \"#f0f921\"]], \"type\": \"histogram2d\"}], \"histogram2dcontour\": [{\"colorbar\": {\"outlinewidth\": 0, \"ticks\": \"\"}, \"colorscale\": [[0.0, \"#0d0887\"], [0.1111111111111111, \"#46039f\"], [0.2222222222222222, \"#7201a8\"], [0.3333333333333333, \"#9c179e\"], [0.4444444444444444, \"#bd3786\"], [0.5555555555555556, \"#d8576b\"], [0.6666666666666666, \"#ed7953\"], [0.7777777777777778, \"#fb9f3a\"], [0.8888888888888888, \"#fdca26\"], [1.0, \"#f0f921\"]], \"type\": \"histogram2dcontour\"}], \"mesh3d\": [{\"colorbar\": {\"outlinewidth\": 0, \"ticks\": \"\"}, \"type\": \"mesh3d\"}], \"parcoords\": [{\"line\": {\"colorbar\": {\"outlinewidth\": 0, \"ticks\": \"\"}}, \"type\": \"parcoords\"}], \"pie\": [{\"automargin\": true, \"type\": \"pie\"}], \"scatter\": [{\"marker\": {\"colorbar\": {\"outlinewidth\": 0, \"ticks\": \"\"}}, \"type\": \"scatter\"}], \"scatter3d\": [{\"line\": {\"colorbar\": {\"outlinewidth\": 0, \"ticks\": \"\"}}, \"marker\": {\"colorbar\": {\"outlinewidth\": 0, \"ticks\": \"\"}}, \"type\": \"scatter3d\"}], \"scattercarpet\": [{\"marker\": {\"colorbar\": {\"outlinewidth\": 0, \"ticks\": \"\"}}, \"type\": \"scattercarpet\"}], \"scattergeo\": [{\"marker\": {\"colorbar\": {\"outlinewidth\": 0, \"ticks\": \"\"}}, \"type\": \"scattergeo\"}], \"scattergl\": [{\"marker\": {\"colorbar\": {\"outlinewidth\": 0, \"ticks\": \"\"}}, \"type\": \"scattergl\"}], \"scattermapbox\": [{\"marker\": {\"colorbar\": {\"outlinewidth\": 0, \"ticks\": \"\"}}, \"type\": \"scattermapbox\"}], \"scatterpolar\": [{\"marker\": {\"colorbar\": {\"outlinewidth\": 0, \"ticks\": \"\"}}, \"type\": \"scatterpolar\"}], \"scatterpolargl\": [{\"marker\": {\"colorbar\": {\"outlinewidth\": 0, \"ticks\": \"\"}}, \"type\": \"scatterpolargl\"}], \"scatterternary\": [{\"marker\": {\"colorbar\": {\"outlinewidth\": 0, \"ticks\": \"\"}}, \"type\": \"scatterternary\"}], \"surface\": [{\"colorbar\": {\"outlinewidth\": 0, \"ticks\": \"\"}, \"colorscale\": [[0.0, \"#0d0887\"], [0.1111111111111111, \"#46039f\"], [0.2222222222222222, \"#7201a8\"], [0.3333333333333333, \"#9c179e\"], [0.4444444444444444, \"#bd3786\"], [0.5555555555555556, \"#d8576b\"], [0.6666666666666666, \"#ed7953\"], [0.7777777777777778, \"#fb9f3a\"], [0.8888888888888888, \"#fdca26\"], [1.0, \"#f0f921\"]], \"type\": \"surface\"}], \"table\": [{\"cells\": {\"fill\": {\"color\": \"#EBF0F8\"}, \"line\": {\"color\": \"white\"}}, \"header\": {\"fill\": {\"color\": \"#C8D4E3\"}, \"line\": {\"color\": \"white\"}}, \"type\": \"table\"}]}, \"layout\": {\"annotationdefaults\": {\"arrowcolor\": \"#2a3f5f\", \"arrowhead\": 0, \"arrowwidth\": 1}, \"coloraxis\": {\"colorbar\": {\"outlinewidth\": 0, \"ticks\": \"\"}}, \"colorscale\": {\"diverging\": [[0, \"#8e0152\"], [0.1, \"#c51b7d\"], [0.2, \"#de77ae\"], [0.3, \"#f1b6da\"], [0.4, \"#fde0ef\"], [0.5, \"#f7f7f7\"], [0.6, \"#e6f5d0\"], [0.7, \"#b8e186\"], [0.8, \"#7fbc41\"], [0.9, \"#4d9221\"], [1, \"#276419\"]], \"sequential\": [[0.0, \"#0d0887\"], [0.1111111111111111, \"#46039f\"], [0.2222222222222222, \"#7201a8\"], [0.3333333333333333, \"#9c179e\"], [0.4444444444444444, \"#bd3786\"], [0.5555555555555556, \"#d8576b\"], [0.6666666666666666, \"#ed7953\"], [0.7777777777777778, \"#fb9f3a\"], [0.8888888888888888, \"#fdca26\"], [1.0, \"#f0f921\"]], \"sequentialminus\": [[0.0, \"#0d0887\"], [0.1111111111111111, \"#46039f\"], [0.2222222222222222, \"#7201a8\"], [0.3333333333333333, \"#9c179e\"], [0.4444444444444444, \"#bd3786\"], [0.5555555555555556, \"#d8576b\"], [0.6666666666666666, \"#ed7953\"], [0.7777777777777778, \"#fb9f3a\"], [0.8888888888888888, \"#fdca26\"], [1.0, \"#f0f921\"]]}, \"colorway\": [\"#636efa\", \"#EF553B\", \"#00cc96\", \"#ab63fa\", \"#FFA15A\", \"#19d3f3\", \"#FF6692\", \"#B6E880\", \"#FF97FF\", \"#FECB52\"], \"font\": {\"color\": \"#2a3f5f\"}, \"geo\": {\"bgcolor\": \"white\", \"lakecolor\": \"white\", \"landcolor\": \"#E5ECF6\", \"showlakes\": true, \"showland\": true, \"subunitcolor\": \"white\"}, \"hoverlabel\": {\"align\": \"left\"}, \"hovermode\": \"closest\", \"mapbox\": {\"style\": \"light\"}, \"paper_bgcolor\": \"white\", \"plot_bgcolor\": \"#E5ECF6\", \"polar\": {\"angularaxis\": {\"gridcolor\": \"white\", \"linecolor\": \"white\", \"ticks\": \"\"}, \"bgcolor\": \"#E5ECF6\", \"radialaxis\": {\"gridcolor\": \"white\", \"linecolor\": \"white\", \"ticks\": \"\"}}, \"scene\": {\"xaxis\": {\"backgroundcolor\": \"#E5ECF6\", \"gridcolor\": \"white\", \"gridwidth\": 2, \"linecolor\": \"white\", \"showbackground\": true, \"ticks\": \"\", \"zerolinecolor\": \"white\"}, \"yaxis\": {\"backgroundcolor\": \"#E5ECF6\", \"gridcolor\": \"white\", \"gridwidth\": 2, \"linecolor\": \"white\", \"showbackground\": true, \"ticks\": \"\", \"zerolinecolor\": \"white\"}, \"zaxis\": {\"backgroundcolor\": \"#E5ECF6\", \"gridcolor\": \"white\", \"gridwidth\": 2, \"linecolor\": \"white\", \"showbackground\": true, \"ticks\": \"\", \"zerolinecolor\": \"white\"}}, \"shapedefaults\": {\"line\": {\"color\": \"#2a3f5f\"}}, \"ternary\": {\"aaxis\": {\"gridcolor\": \"white\", \"linecolor\": \"white\", \"ticks\": \"\"}, \"baxis\": {\"gridcolor\": \"white\", \"linecolor\": \"white\", \"ticks\": \"\"}, \"bgcolor\": \"#E5ECF6\", \"caxis\": {\"gridcolor\": \"white\", \"linecolor\": \"white\", \"ticks\": \"\"}}, \"title\": {\"x\": 0.05}, \"xaxis\": {\"automargin\": true, \"gridcolor\": \"white\", \"linecolor\": \"white\", \"ticks\": \"\", \"title\": {\"standoff\": 15}, \"zerolinecolor\": \"white\", \"zerolinewidth\": 2}, \"yaxis\": {\"automargin\": true, \"gridcolor\": \"white\", \"linecolor\": \"white\", \"ticks\": \"\", \"title\": {\"standoff\": 15}, \"zerolinecolor\": \"white\", \"zerolinewidth\": 2}}}},                        {\"responsive\": true}                    ).then(function(){\n",
       "                            \n",
       "var gd = document.getElementById('2f9e2880-107b-4f86-b491-6ad360272cbd');\n",
       "var x = new MutationObserver(function (mutations, observer) {{\n",
       "        var display = window.getComputedStyle(gd).display;\n",
       "        if (!display || display === 'none') {{\n",
       "            console.log([gd, 'removed!']);\n",
       "            Plotly.purge(gd);\n",
       "            observer.disconnect();\n",
       "        }}\n",
       "}});\n",
       "\n",
       "// Listen for the removal of the full notebook cells\n",
       "var notebookContainer = gd.closest('#notebook-container');\n",
       "if (notebookContainer) {{\n",
       "    x.observe(notebookContainer, {childList: true});\n",
       "}}\n",
       "\n",
       "// Listen for the clearing of the current output cell\n",
       "var outputEl = gd.closest('.output');\n",
       "if (outputEl) {{\n",
       "    x.observe(outputEl, {childList: true});\n",
       "}}\n",
       "\n",
       "                        })                };                });            </script>        </div>"
      ]
     },
     "metadata": {},
     "output_type": "display_data"
    }
   ],
   "source": [
    "fig.show()"
   ]
  },
  {
   "cell_type": "markdown",
   "metadata": {},
   "source": [
    "## Good Luck!"
   ]
  },
  {
   "cell_type": "code",
   "execution_count": null,
   "metadata": {},
   "outputs": [],
   "source": []
  }
 ],
 "metadata": {
  "kernelspec": {
   "display_name": "Python 3",
   "language": "python",
   "name": "python3"
  },
  "language_info": {
   "codemirror_mode": {
    "name": "ipython",
    "version": 3
   },
   "file_extension": ".py",
   "mimetype": "text/x-python",
   "name": "python",
   "nbconvert_exporter": "python",
   "pygments_lexer": "ipython3",
   "version": "3.7.3"
  }
 },
 "nbformat": 4,
 "nbformat_minor": 4
}
